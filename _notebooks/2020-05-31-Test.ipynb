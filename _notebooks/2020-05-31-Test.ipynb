{
 "cells": [
  {
   "cell_type": "markdown",
   "metadata": {
    "colab_type": "text",
    "id": "Xwsupk0kS6d7"
   },
   "source": [
    "# Jupyter Notebook to Handle Enterprise Resource Planning Data with Ease \n",
    "> \"Excel at Python\"\n",
    "\n",
    "- author: <a href=https://www.linkedin.com/in/dmytrokarabash/>Dmytro Karabash</a>, <a href=http://maximk.com//>Maxim Korotkov</a> \n",
    "- categories: [management, python, erp, enterprise resource planning, data science]\n",
    "- image: images/unsplash-scott-graham-5fNmWej4tAA-640.jpg\n",
    "- permalink: /teamdata2/"
   ]
  },
  {
   "cell_type": "code",
   "execution_count": null,
   "metadata": {
    "colab": {},
    "colab_type": "code",
    "id": "-buY_kCoViFl"
   },
   "outputs": [],
   "source": [
    "# hide\n",
    "# loading functions\n",
    "\n",
    "import pandas as pd\n",
    "import matplotlib.pyplot as plt\n",
    "import matplotlib.patches as mpatches\n",
    "import numpy as np\n",
    "\n",
    "from IPython.core.interactiveshell import InteractiveShell\n",
    "InteractiveShell.ast_node_interactivity = \"all\"\n",
    "\n",
    "verbosity = 5\n",
    "\n",
    "pd.options.display.max_rows = 7\n"
   ]
  },
  {
   "cell_type": "markdown",
   "metadata": {
    "colab_type": "text",
    "id": "iZ-akZ9Zq_lN"
   },
   "source": [
    "## Introduction\n",
    "\n",
    "You’re a boss now. You have a team or a business unit doing consultancy. Probably a bunch of Consultants helping clients, some Project Managers leading your projects in a nice Agile or whatever way. Everyone fills their timesheets (and you cut their bonuses if they don’t) – the time is billed to clients, and you have Fixed Fee projects as well. Maybe smaller teams being parts of your organization also – you can lead ten, a hundred or a thousand people (hey, dude – you run a unit of 1000 employees? Don’t read this article – hire someone who did). You probably even have an ERP (Enterprise Resource Planning) or something and a CFO in a lovely corner office. Do you have an excellent way to estimate how much profit every team member and project brings and ways to predict it with reasonable precision? If you have a decent ERP dashboard which gives you all that – then you’re lucky, and you don’t need this article either. The chances are that you get a simple calculation end of the year – like “let’s take all revenue finance recognized on your projects in a year and man day cost at USD 800 to get your unit profitability”. USD 800 can seem crazily high or unacceptably low, depending on the business you’re in. So that’s the precision you have to count the money your team brings to the firm? Do we need to remind you that this is one of the reasons why your job exists?\n",
    "\n",
    "What else can you get? All the timesheets projects with their budgets, and you can even get to approximate costs (let’s discuss it later) — a shitload of data for a year, even for a team of 10. What we show is that you don’t need an ERP to do the rest – the notebook in Jupyter will do. Keep this in mind - management starts with measurement. How can you supervise your team and projects if you don’t have their data at your fingers?\n",
    "\n",
    "Why do you need Data Science here? Well, you can have all data at your fingers. Eventually, you would want to calculate your profit like\n",
    "```python\n",
    "profit = revenue - cost\n",
    "```\n",
    "\n",
    "Not only as subtracting two numbers, but also on the level of tables - so the output of the above statement can be a table with profit per consultant per month, like this:"
   ]
  },
  {
   "cell_type": "code",
   "execution_count": null,
   "metadata": {},
   "outputs": [],
   "source": [
    "# hide\n",
    "profit = pd.DataFrame([[6187.500, 8006.25], [8050.000, 3762.50]],\n",
    "                      index=['CATHY THE NEW MANAGER', 'FRANK THE CONSTULANT'],\n",
    "                      columns=['2020-02', '2020-03'])\n",
    "# next a bit of formating\n",
    "profit = profit.applymap(lambda x: \"{:10.2f}\".format(x))"
   ]
  },
  {
   "cell_type": "code",
   "execution_count": null,
   "metadata": {
    "scrolled": true
   },
   "outputs": [],
   "source": [
    "profit"
   ]
  },
  {
   "cell_type": "markdown",
   "metadata": {
    "colab_type": "text",
    "id": "iZ-akZ9Zq_lN"
   },
   "source": [
    "Or get list of 3 people with most billable hours in March via following statement\n",
    "```python\n",
    "t.where(t['Billable'] & (t['month'] == '2020-03')\n",
    "        ).groupby(['User'])['effort'].sum().nlargest(3)\n",
    "```\n",
    "\n",
    "The code above is indeed not executable, but we promise to get you there in a few paragraphs. And yes, there is some learning of python required. The huge difference from anything else you’ve been doing yourself (ERP reports, Excel, other tools) is that any analysis stays in the notebook and can be re-applied after your data changes."
   ]
  },
  {
   "cell_type": "markdown",
   "metadata": {},
   "source": [
    "## Data Science\n",
    "\n",
    "So, let’s get this done. First – yes, you need to know a bit of python to get the files in. The basic level will do. If you are a manager in 2020 and can’t write a simple script – hmm, you probably missed something. The objective is not to build an ERP and not even to have an easy-to-use toolkit - we want to show you how to make a toolkit for yourself (but feel free to reuse our code). What you will see is a straightforward set of examples - spend an hour or two to load your files into the notebook and then start playing with it - just make the analysis you want. You can end up checking a few numbers or building your charts and dashboards. It is ok, even if you work for a corporation (that’s where you need it most) - just install Anaconda and download the notebook. So, we first get and transform our input files (if you want to follow text AND all the code - read it on colab). \n",
    "\n",
    "We are loading projects, timesheets, and roles below - more details will follow on what we presumed is inside. Note - files are loaded from the GitHub repository so that they will open in colab or your local machine just the same.\t"
   ]
  },
  {
   "cell_type": "code",
   "execution_count": null,
   "metadata": {},
   "outputs": [],
   "source": [
    "data = {}\n",
    "data_path = 'https://raw.githubusercontent.com/h17/fastreport/master/data/'\n",
    "url = data_path + 'roles.csv'\n",
    "data['roles'] = pd.read_csv(url, index_col=0, sep=\";\")\n",
    "\n",
    "url = data_path + 'project_data.xlsm'\n",
    "project_data = pd.ExcelFile(url)\n",
    "project_data.sheet_names"
   ]
  },
  {
   "cell_type": "markdown",
   "metadata": {},
   "source": [
    "Don’t focus too much on the next code block - we have monthly timesheets in separate tabs and need to stack them one on top of another. Plus - we have errors in excel (Sat.1 column) - data cleanup is also required, quite usual for those who touched data science. Collapsed blocks in our notebook contain the code, which is not critical for understanding. If you’d rather read it all, we suggest you switch to either GitHub or colab, so you can also play with it."
   ]
  },
  {
   "cell_type": "code",
   "execution_count": null,
   "metadata": {},
   "outputs": [],
   "source": [
    "# collapse\n",
    "\n",
    "timesheets = []\n",
    "for sheet in project_data.sheet_names:\n",
    "    if 'TS' in sheet:\n",
    "        timesheets += [pd.read_excel(project_data, sheet, header=2)]\n",
    "    else:\n",
    "        tmp = pd.read_excel(project_data, sheet)\n",
    "        data[sheet] = tmp\n",
    "if 'Sat.1' in timesheets[0]:  # cleaning from Sat.1\n",
    "    timesheets[0] = timesheets[0].rename(\n",
    "        columns={'Sat': 'Sun', 'Sat.1': 'Sat'})\n",
    "data['timesheet'] = pd.concat(timesheets, sort=False)\n",
    "d = {'Billable': True, 'Non-Billable': False}\n",
    "data['timesheet']['Billable'] = data['timesheet']['Billing'].replace(d)\n",
    "data['timesheet'].drop(['Billing'], axis=1, inplace=True)\n",
    "data['timesheet'] = data['timesheet'][~data['timesheet'].User.isnull()]\n"
   ]
  },
  {
   "cell_type": "markdown",
   "metadata": {},
   "source": [
    "So, let's see what we've got here:"
   ]
  },
  {
   "cell_type": "code",
   "execution_count": null,
   "metadata": {},
   "outputs": [],
   "source": [
    "data.keys()\n",
    "for key in data.keys():\n",
    "    string_format = \"{:20} shape: {:>10} rows \\t and {:>10} columns\"\n",
    "    print(string_format.format(key, *data[key].shape))"
   ]
  },
  {
   "cell_type": "markdown",
   "metadata": {},
   "source": [
    "## Data we loaded\n",
    "\n",
    "Let us summarize it here – most probably if you are a team leader or business unit manager – you can get\n",
    "* Dictionaries\n",
    "    * Cost per region or default cost for “outside” contributors\n",
    "    * Average revenue per hour for projects not “owned” by you\n",
    "    "
   ]
  },
  {
   "cell_type": "code",
   "execution_count": null,
   "metadata": {},
   "outputs": [],
   "source": [
    "# show roles\n",
    "roles = data[\"roles\"]\n",
    "roles"
   ]
  },
  {
   "cell_type": "markdown",
   "metadata": {},
   "source": [
    "We need to set default values and bring it to format easy to use, which is very easy in python:"
   ]
  },
  {
   "cell_type": "code",
   "execution_count": null,
   "metadata": {},
   "outputs": [],
   "source": [
    "default_revenue = 1200\n",
    "default_cost = 850\n",
    "\n",
    "# wide to long format\n",
    "roles_long = pd.melt(roles.reset_index(),\n",
    "                     id_vars=['Position', 'Seniority'],\n",
    "                     var_name='region',\n",
    "                     value_name='cost')\n",
    "roles_long"
   ]
  },
  {
   "cell_type": "markdown",
   "metadata": {},
   "source": [
    "* HeadCount\n",
    "    * List of your employees, with their grades (or costs)\n",
    "    * Engagement model (employee or contractor)"
   ]
  },
  {
   "cell_type": "code",
   "execution_count": null,
   "metadata": {},
   "outputs": [],
   "source": [
    "# show head count\n",
    "headcount = data[\"Employees\"]\n",
    "headcount = headcount.merge(\n",
    "    roles_long[['Position', 'Seniority', 'region', 'cost']],\n",
    "    how='left',\n",
    "    left_on=['Seniority', 'Position', 'Country'],\n",
    "    right_on=['Seniority', 'Position', 'region'])\n",
    "headcount['cost'] = headcount['cost'].fillna(default_cost)\n",
    "headcount"
   ]
  },
  {
   "cell_type": "markdown",
   "metadata": {},
   "source": [
    "* Projects with budgets, effort estimates, dates, types of revenue recognition (Time and Material, Fixed Fee or something else), et cetera"
   ]
  },
  {
   "cell_type": "code",
   "execution_count": null,
   "metadata": {},
   "outputs": [],
   "source": [
    "# show projects\n",
    "\n",
    "projects = data[\"Projects\"]\n",
    "projects"
   ]
  },
  {
   "cell_type": "markdown",
   "metadata": {},
   "source": [
    "* Timesheets for your team / your projects. It is possible that other teams can contribute to your projects and your team might work in outside projects \n",
    "    * Typically arrive monthly or weekly\n",
    "    * (optional) Planned effort\n",
    "        * There might be none, in one of the next posts we'll talk about autofill"
   ]
  },
  {
   "cell_type": "code",
   "execution_count": null,
   "metadata": {},
   "outputs": [],
   "source": [
    "# show timesheets\n",
    "\n",
    "timesheet = data[\"timesheet\"]\n",
    "timesheet"
   ]
  },
  {
   "cell_type": "markdown",
   "metadata": {},
   "source": [
    "EXT users here are outside of our headcount (let’s say we are not getting the real names, but rather some ids from ERP in such case)\n",
    "\n",
    "Why not just have things done by ERP? Your ERP probably does not present you anything nicely in terms of parameters you’d want to control on your level (otherwise, you won’t read this anyway). There may be a project running to improve it by 2025 - maybe one of the Big4 firms is interviewing you for requirements. If you are steering this boat long enough – you might have ended up with quick and dirty calculation, SQL queries to SAP (with field names still in German), or an Excel file. Why? Your bosses don’t care – they already hired you, and a better ERP is coming in 2025 anyway. So they want to know how much money your team makes (preferably - per person, per month, per project, with charts, projections, and comparisons) and to know why it is not so profitable (because it never is).\n",
    "\n",
    "To simplify your way forward we are going to create a timeseries out of timesheets which is a bit more involved so you can skip it for now and come back to it later, but the point is that at the end you will get a lovely monthly pandas DataFrame that looks like this"
   ]
  },
  {
   "cell_type": "code",
   "execution_count": null,
   "metadata": {
    "scrolled": false
   },
   "outputs": [],
   "source": [
    "# collapse\n",
    "\n",
    "dd = []\n",
    "timesheet['Period Starting'] = pd.to_datetime(timesheet['Period Starting'])\n",
    "weekdays = ['Sun', 'Mon', 'Tue', 'Wed', 'Thu', 'Fri', 'Sat']\n",
    "for i, weekday in enumerate(weekdays):\n",
    "    columns = [col for col in timesheet if col not in weekdays or col == weekday]\n",
    "    tmp = timesheet[columns].copy()\n",
    "    tmp = tmp.rename(columns={weekday: 'effort'})\n",
    "    tmp['date'] = tmp['Period Starting']+pd.to_timedelta('{}D'.format(i))\n",
    "    tmp['weekday'] = weekday\n",
    "    tmp = tmp.drop(['Period Starting', 'Total (Days)'], axis=1)\n",
    "    dd += [tmp]\n",
    "\n",
    "timeseries = pd.concat(dd, sort=False).sort_values(['User', 'date'])\n",
    "timeseries = timeseries.reset_index().drop('index', axis=1)\n",
    "timeseries['date'] = pd.to_datetime(timeseries['date']).astype('str')\n",
    "timeseries['month'] = timeseries['date'].str[:7]\n",
    "\n",
    "def isweekend(x): return x in ['Sun', 'Sat']\n",
    "\n",
    "timeseries['weekend'] = timeseries['weekday'].apply(isweekend)\n",
    "timeseries['workweek'] = ~timeseries['weekday'].apply(isweekend)\n",
    "timeseries"
   ]
  },
  {
   "cell_type": "markdown",
   "metadata": {},
   "source": [
    "It is common in data science to have one big DataFrame (similar to excel tab or SQL table) that you can group and filter easily. It is helpful because it makes things very easy."
   ]
  },
  {
   "cell_type": "markdown",
   "metadata": {},
   "source": [
    "## Profitability\n",
    "\n",
    "Timesheets and project budgets are simplified this way, and you can manipulate them the way you want in a few simple statements. If you studied excel formulas - you could do this also. Now, let’s look at profitability in the most straightforward manner possible. As a manager, we suggest you do that to set benchmarks for your team. So, profit is $$\\mbox{Revenue  –  Cost}$$ and we intend to keep it simple. You can implement the calculations you like. \n",
    "\n",
    "**Revenue**: Let’s say that for a Time & Material project, you generate as much revenue as you bill (on agreed rate) up to its budget. We are not doing any Fixed Fee recognition formula. Different companies do it differently, and you’ll either need historical data or actual recognized value depending on how you operate.\n",
    "\n",
    "We also assume that we are interested only by users in our headcount (so we filter out all EXT users)."
   ]
  },
  {
   "cell_type": "code",
   "execution_count": null,
   "metadata": {},
   "outputs": [],
   "source": [
    "# revenue calculation for a person for a month \n",
    "# (SUM REV of all timesheet records * corresp project rates)\n",
    "revenue_df = timeseries[['User', 'Project',\n",
    "                         'Billable', 'effort', 'date', 'month']]\n",
    "revenue_df = revenue_df.merge(projects[['Project', 'Daily Rate']],\n",
    "                              how='left',\n",
    "                              on='Project')\n",
    "revenue_df['Daily Rate'].fillna(default_revenue, inplace=True)\n",
    "revenue_df = revenue_df[(revenue_df['User'].str[:3] != 'EXT') &\n",
    "                        (revenue_df['Billable'])]\n",
    "\n",
    "revenue_df['daily_revenue'] = revenue_df['Daily Rate'] * \\\n",
    "    revenue_df['effort']\n",
    "revenue = revenue_df.groupby(['User', 'month'])[\n",
    "    'daily_revenue'].sum().unstack().fillna(0)\n",
    "revenue = revenue[revenue.sum(1) > 0]\n",
    "revenue.head()"
   ]
  },
  {
   "cell_type": "markdown",
   "metadata": {},
   "source": [
    "We got revenue per month per person. Not too sophisticated, right?\n",
    "\n",
    "**Cost**: Let’s start with the fact that just using the “default cost rate” is not enough - whenever margins are under pressure, you should do better. You might have people working in different countries and of totally different levels. Talk to your finance team and get some estimates from them (or make it together). We’d say they owe you that much if you were appointed to run a team or business unit. We will assume below that you managed to get a few grades per Country (see _roles_). Costs per individual will be nice to have as well. The beauty of this tool (compared to doing Excel by yourself) is that you can just add it - it will be a few lines of code. Let’s calculate direct cost per month: here we check the cost of effort posted on timesheets, presuming they are full - can check per number of working days in a month also and compare. We are not interested in external resources, so we’ll filter them out again."
   ]
  },
  {
   "cell_type": "code",
   "execution_count": null,
   "metadata": {},
   "outputs": [],
   "source": [
    "headcount"
   ]
  },
  {
   "cell_type": "code",
   "execution_count": null,
   "metadata": {},
   "outputs": [],
   "source": [
    "# cost calculation for a project \n",
    "# (SUM COST of all timesheet records * corresp cost rates - see roles)\n",
    "cost_df = timeseries[['User', 'Project', 'effort', 'date', 'month']]\n",
    "cost_df = cost_df.merge(headcount[['Name', 'cost']],\n",
    "                        how='left', left_on='User', right_on='Name')\n",
    "cost_df = cost_df[cost_df['User'].str[:3] != 'EXT']\n",
    "cost_df['daily_cost'] = cost_df['cost'] * cost_df['effort']\n",
    "cost = cost_df.groupby(['User', 'month'])['daily_cost'].sum()\n",
    "cost = cost.unstack().fillna(0)\n",
    "cost = cost[cost.sum(1) > 0]\n",
    "cost.head()"
   ]
  },
  {
   "cell_type": "markdown",
   "metadata": {},
   "source": [
    "Now, we can get to profit per user per month using operations on dataframes. And here it bears some fruit. _Profit = revenue - cost_. Indeed, it required some data cleanup first - but not too much"
   ]
  },
  {
   "cell_type": "code",
   "execution_count": null,
   "metadata": {},
   "outputs": [],
   "source": [
    "profit = revenue - cost\n",
    "profit.head()"
   ]
  },
  {
   "cell_type": "markdown",
   "metadata": {},
   "source": [
    "That's what we've promised, right? Ok, second one - people who entered most Billable hours in March"
   ]
  },
  {
   "cell_type": "code",
   "execution_count": null,
   "metadata": {},
   "outputs": [],
   "source": [
    "t = timeseries  # concatenating just in case you are reading from phone\n",
    "t.where(t['Billable'] & (t['month'] == '2020-03')\n",
    "        ).groupby(['User'])['effort'].sum().nlargest(3)"
   ]
  },
  {
   "cell_type": "markdown",
   "metadata": {},
   "source": [
    "## What else?\n",
    "\n",
    "Now let’s look at how to apply some python and data science techniques (we will get to more details in our next posts) to data you’ve seen above and how to visualize it nicely.\n",
    "\n",
    "First, let’s take a PM and visualize revenue on his/her projects per month."
   ]
  },
  {
   "cell_type": "code",
   "execution_count": null,
   "metadata": {},
   "outputs": [],
   "source": [
    "%matplotlib inline\n",
    "\n",
    "pm_selected = \"CATHY THE NEW MANAGER\"\n",
    "drawdt = revenue.loc[pm_selected].T\n",
    "\n",
    "plt.bar(range(len(drawdt.index)), drawdt.values, color=\"green\",\n",
    "        width=1, align='center', edgecolor='black');\n",
    "plt.xticks(range(len(drawdt.index)), drawdt.index);\n",
    "plt.ylabel(\"Revenue / month: \"+pm_selected);"
   ]
  },
  {
   "cell_type": "markdown",
   "metadata": {},
   "source": [
    "That was simple. Then, some fun for those who know slightly more advanced python - you can make an interactive chart in few lines, e.g., here we want to make it visual in terms of if the value is above or below the benchmark (works if you copy notebook, is not clickable on the blog)"
   ]
  },
  {
   "cell_type": "code",
   "execution_count": null,
   "metadata": {
    "scrolled": true
   },
   "outputs": [],
   "source": [
    "# collapse\n",
    "\n",
    "%matplotlib notebook\n",
    "\n",
    "# colors of bars\n",
    "def get_colors(v):\n",
    "    colors = []\n",
    "    for i in range(len(drawdt.index)):\n",
    "        color = \"yellow\"\n",
    "        if (drawdt[i] < v*0.9):\n",
    "            color = \"red\"\n",
    "        if (drawdt[i] > v*1.1):\n",
    "            color = \"green\"\n",
    "        colors.append(color)\n",
    "    return colors\n",
    "\n",
    "# plot drawing\n",
    "def plt_all(isdef, yvalue):\n",
    "    if isdef:\n",
    "        bcolors = \"white\"\n",
    "        xtitle = 'Set value'\n",
    "    else:\n",
    "        a = np.empty(len(drawdt.index))\n",
    "        a.fill(yvalue)\n",
    "        plt.plot(range(len(drawdt.index)), a, color=\"black\", alpha=0.5)\n",
    "        bcolors = get_colors(yvalue)\n",
    "        xtitle = 'At ${:.0f}/m is'.format(yvalue)\n",
    "    plt.bar(range(len(drawdt.index)), drawdt.values, color=bcolors,\n",
    "            width=1, align='center', edgecolor='black')\n",
    "    plt.xticks(range(len(drawdt.index)), drawdt.index)\n",
    "    plt.ylabel(\"Revenue / month: \"+pm_selected)\n",
    "    red_patch = mpatches.Patch(color='red', label='loss')\n",
    "    yellow_patch = mpatches.Patch(color='yellow', label='in 10%')\n",
    "    green_patch = mpatches.Patch(color='green', label='profit')\n",
    "    plt.legend(handles=[red_patch, yellow_patch, green_patch],\n",
    "               loc='upper left', title=xtitle, fontsize=7)\n",
    "    plt.gca().set_title('Click on the plot to set benchmark')\n",
    "\n",
    "\n",
    "plt_all(True, 0.0)\n",
    "\n",
    "def onclick(event):\n",
    "    plt.cla()\n",
    "    plt_all(False, event.ydata)\n",
    "\n",
    "plt.gcf().canvas.mpl_connect('button_press_event', onclick);"
   ]
  },
  {
   "cell_type": "markdown",
   "metadata": {},
   "source": [
    "Ok, as a Team Leader, you might not do that. Sorry. Let’s get some calculations done. First, let’s identify “suspicious” time entered (e.g., a person who has more than three days in a row same effort on a given project and it is not 8 hours) - this is a quick check you do yourself, without asking PMO anything and making this official. I can call this suspicious because nature of our work (and yours might be different - so you look for another pattern) makes it highly unlikely that you do spend the same amount of time on one project a few days in a row (unless you are assigned full time). What you are doing is likely just splitting your working time between your projects in some manner."
   ]
  },
  {
   "cell_type": "code",
   "execution_count": null,
   "metadata": {
    "scrolled": false
   },
   "outputs": [],
   "source": [
    "# remove the weekend\n",
    "working = timeseries[(timeseries['workweek'] == True)\n",
    "                     & (timeseries.Billable)].copy()\n",
    "working = working.groupby([\"User\", \"Project\", \"date\"]).sum().sort_index()\n",
    "working['value_grp'] = (working.effort.diff(1) == 0).astype('int')\n",
    "\n",
    "def streak(df):  # function that finds streak of 1s: 0,1,1,0,1 -> 0,1,2,0,1\n",
    "    df0 = df != 0\n",
    "    return df0.cumsum()-df0.cumsum().where(~df0).ffill().fillna(0).astype(int)\n",
    "\n",
    "\n",
    "working['streak'] = streak(\n",
    "    working['value_grp'])  # streak of identical effort\n",
    "result = working[(0 < working.effort) &\n",
    "                 (working.effort < 1) &\n",
    "                 (working['streak'] > 3)].reset_index()\n",
    "\n",
    "result = result[result.User.str[:3] != 'EXT'].groupby(['User', 'Project']).last()\n",
    "result[[\"effort\",\"date\",\"streak\"]]"
   ]
  },
  {
   "cell_type": "markdown",
   "metadata": {},
   "source": [
    "To be clear, we do not recommend sending emails with the subject “The list of those whose timings are suspicious” based on the above. People will likely change their behaviors, and you might not easily find the next pattern. As a manager, you dig into your data, find insights, and act on them the way you see fit. You do not just tell your teenage kid that now you know where he hides cigarettes, do you?"
   ]
  },
  {
   "cell_type": "markdown",
   "metadata": {},
   "source": [
    "## Use cases\n",
    "\n",
    "Here are some cases where the above can be helpful - we will look at some of them in our next posts.\n",
    "\n",
    "* Decision-making - e.g. identify top loss-making projects\n",
    "* Identify projects which require management attention - also apply Machine Learning here and identify the projects you'll pick up yourself\n",
    "* Better analysis of non-billable hours\n",
    "* Identify suspicious behaviors - anomaly detections\n",
    "* Revenue and effort projections based on existing patterns and not highlighting when the plan deviates\n",
    "* Consolidated analytic on demand (e.g. profitability forecast, revenue forecast, unallocated capacity) in case your ERP will not do anything like that\n",
    "\n",
    "The point is that loading your data (excel, CSV, TSV - whatever) is simple, and manipulating it is simple - more straightforward than doing it in many excel files and faster than waiting for PMOs.\n",
    "\n",
    "Stay tuned for our next post."
   ]
  },
  {
   "cell_type": "markdown",
   "metadata": {},
   "source": [
    "<font size=\"2\">\n",
    "Copyright &copy; Dmytro Karabash, Maxim Korotkov; 2020. <br>  This notebook is licensed under a <a rel=\"license\" href=\"https://creativecommons.org/licenses/by/4.0/\">Creative\n",
    "Commons Attribution 4.0 International License</a>.\n",
    "</font>"
   ]
  }
 ],
 "metadata": {
  "colab": {
   "name": "2020-05-19_Simple_Intro.ipynb",
   "provenance": []
  },
  "kernelspec": {
   "display_name": "Python 3",
   "language": "python",
   "name": "python3"
  },
  "language_info": {
   "codemirror_mode": {
    "name": "ipython",
    "version": 3
   },
   "file_extension": ".py",
   "mimetype": "text/x-python",
   "name": "python",
   "nbconvert_exporter": "python",
   "pygments_lexer": "ipython3",
   "version": "3.7.6"
  },
  "toc": {
   "base_numbering": 1,
   "nav_menu": {},
   "number_sections": true,
   "sideBar": true,
   "skip_h1_title": true,
   "title_cell": "Table of Contents",
   "title_sidebar": "Contents",
   "toc_cell": false,
   "toc_position": {
    "height": "calc(100% - 180px)",
    "left": "10px",
    "top": "150px",
    "width": "175px"
   },
   "toc_section_display": true,
   "toc_window_display": false
  }
 },
 "nbformat": 4,
 "nbformat_minor": 1
}
