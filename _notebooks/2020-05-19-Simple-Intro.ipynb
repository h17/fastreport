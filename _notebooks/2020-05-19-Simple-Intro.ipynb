{
 "cells": [
  {
   "cell_type": "markdown",
   "metadata": {
    "colab_type": "text",
    "id": "Xwsupk0kS6d7"
   },
   "source": [
    "# Data For Teams\n",
    "> \"Better than excel way to do team analytics\"\n",
    "\n",
    "- author: Dmytro Karabash, Maxim Korotkov \n",
    "- categories: [management, python]\n",
    "- image: images/analysis-1841158_1920.jpg\n",
    "- permalink: /fastreport/"
   ]
  },
  {
   "cell_type": "markdown",
   "metadata": {
    "colab_type": "text",
    "id": "iZ-akZ9Zq_lN"
   },
   "source": [
    "## Introduction\n",
    "\n",
    "You’re the boss now. You have a team or a business unit doing consultancy. Probably a bunch of Consultants helping clients, some Project Managers leading your projects in a nice Agile or whatever way. Everyone fills their timesheets (and you cut their bonuses if they don’t) – time is billed to clients and you have Fixed Fee projects also. Maybe smaller teams being parts of your team also – you can lead ten, hundred or thousand people (hey, dude – you run a unit of 1000 employees? Don’t read this article – hire someone who did) You probably even have an ERP or something and a CFO in a nice corner office. Do you have a good way to estimate how much profit every team member and project brings and ways to predict it with good precision? If you have a nice ERP dashboard which gives you all then – then you’re lucky and you don’t need this article either. But 70% chances are [a reference to research would be nice - trello] that you get a simple calculation end of year – like “let’s take all revenue finance recognized on your projects in a year and man day cost at $800 to get your unit profitability” ($800 can seem crazily high or unacceptably low, depending on business you’re in). So that’s the precision you have to the money your team brings to firm? Do we need to remind you that this is the only reason why your job exists?\n",
    "\n",
    "What you probably have is – all the timesheets, projects with their budget and you can even get to approximate costs nicely (we’ll get there). Shitload of data for a year even for a team of 10. What I will tell you here is that you don’t need an ERP to do the rest – the notebook in Jupyter will do for now. Let’s remember - management starts with measurement. How can you supervise your team and projects if you don’t have their data at your fingers?\n",
    "\n",
    "Why do you need Data Science here? Well, you can have all data an your fingers. Let me show you 3 Project Managers which have highest profit margin from beginning of the year - based on timesheets, revenue type and cost rates in one (not-so-simple) line"
   ]
  },
  {
   "cell_type": "code",
   "execution_count": 1,
   "metadata": {},
   "outputs": [],
   "source": [
    "#TODO: Dmytro, we need a simple calculation here"
   ]
  },
  {
   "cell_type": "code",
   "execution_count": null,
   "metadata": {},
   "outputs": [],
   "source": []
  },
  {
   "cell_type": "code",
   "execution_count": 2,
   "metadata": {
    "colab_type": "text",
    "id": "S55pdpm7TyOD"
   },
   "outputs": [],
   "source": [
    "#hide\n",
    "\n",
    "#Note: we might need an internal project to “fill” the difference to full month (e.g. “INTERNAL” with revenue rate of 0 covering everything to full week)"
   ]
  },
  {
   "cell_type": "markdown",
   "metadata": {},
   "source": [
    "## Data Science\n",
    "\n",
    "So, let’s get this done. First – yes, you need to know a little bit of python to get the files in. Basic level will do. (If you are a manager in 2020 and can’t write a simple script – hm, you probably missed something). The objective is to have an easy-to-use toolkit. We are definitely not developing any ERP here. What you will see is a very simple set of tools - you spend an hour or two to load your files into the notebook and then start playing with it - just make the analysis you want. You can end up checking a few numbers or building your own charts and dashboards. It is all under L-GPL - free to use, even if you work for a corporation (that’s where you need it most) - just install Anaconda and download the notebook. \n",
    "So, we first get and transform our input files (if you want to follow text AND all the code - read it on cohab)\n",
    "\n",
    "We are loading projects, timesheets and roles below - more details will follow on what we presumed is inside."
   ]
  },
  {
   "cell_type": "code",
   "execution_count": 3,
   "metadata": {
    "colab": {},
    "colab_type": "code",
    "id": "-buY_kCoViFl"
   },
   "outputs": [],
   "source": [
    "#hide\n",
    "##loading functions\n",
    "\n",
    "import pandas as pd\n",
    "\n",
    "#multiple outputs (from ​​​​28 Jupyter Notebook Tips, Tricks, and Shortcuts)\n",
    "from IPython.core.interactiveshell import InteractiveShell\n",
    "InteractiveShell.ast_node_interactivity = \"all\"\n",
    "\n",
    "verbosity=5\n",
    "\n"
   ]
  },
  {
   "cell_type": "code",
   "execution_count": 4,
   "metadata": {
    "colab": {
     "base_uri": "https://localhost:8080/",
     "height": 430
    },
    "colab_type": "code",
    "id": "AeuLAYMPlbmX",
    "outputId": "9687cbb8-6c94-4d87-ec51-86cf2c44441d"
   },
   "outputs": [],
   "source": [
    "#TODO:delete\n",
    "# data = {}\n",
    "# for csv_name in ['projects','timesheet', 'roles']:\n",
    "#     url = 'https://raw.githubusercontent.com/h17/fastreport/master/data/{}.csv'.format(csv_name)\n",
    "#     data[csv_name] = df = pd.read_csv(url, index_col=0)"
   ]
  },
  {
   "cell_type": "code",
   "execution_count": 5,
   "metadata": {},
   "outputs": [
    {
     "data": {
      "text/plain": [
       "['TS Feb', 'TS Mar', 'TS Apr', 'Entity Project', 'HC']"
      ]
     },
     "execution_count": 5,
     "metadata": {},
     "output_type": "execute_result"
    },
    {
     "data": {
      "text/plain": [
       "dict_keys(['roles', 'Entity Project', 'HC', 'timesheet'])"
      ]
     },
     "execution_count": 5,
     "metadata": {},
     "output_type": "execute_result"
    }
   ],
   "source": [
    "data = {}\n",
    "url = 'https://raw.githubusercontent.com/h17/fastreport/master/data/roles.csv'\n",
    "data['roles'] = pd.read_csv(url, index_col=0)\n",
    "\n",
    "project_data = pd.ExcelFile('../data/project_data.xlsm')\n",
    "project_data.sheet_names\n",
    "\n",
    "timesheets = []\n",
    "for sheet in project_data.sheet_names:\n",
    "    if 'TS' in sheet:\n",
    "        timesheets += [pd.read_excel(project_data,sheet,header=2)]\n",
    "    else:\n",
    "        tmp = pd.read_excel(project_data,sheet)\n",
    "        data[sheet] = tmp \n",
    "if 'Sat.1' in timesheets[0]: timesheets[0] = timesheets[0].rename(columns={'Sat': 'Sun', 'Sat.1' : 'Sat'}) \n",
    "data['timesheet'] = pd.concat(timesheets,sort=False)\n",
    "data['timesheet'] = data['timesheet'][~data['timesheet'].User.isnull()]\n",
    "data.keys()"
   ]
  },
  {
   "cell_type": "code",
   "execution_count": 6,
   "metadata": {},
   "outputs": [
    {
     "data": {
      "text/plain": [
       "dict_keys(['roles', 'Entity Project', 'HC', 'timesheet'])"
      ]
     },
     "execution_count": 6,
     "metadata": {},
     "output_type": "execute_result"
    },
    {
     "name": "stdout",
     "output_type": "stream",
     "text": [
      "roles                shape:     10     rows \t and     4      columns\n",
      "Entity Project       shape:     49     rows \t and     20     columns\n",
      "HC                   shape:     35     rows \t and     9      columns\n",
      "timesheet            shape:    1792    rows \t and     21     columns\n"
     ]
    }
   ],
   "source": [
    "data.keys()\n",
    "for key in data.keys():\n",
    "    print(\"{:20} shape: {:^10} rows \\t and {:^10} columns\".format(key, *data[key].shape))\n",
    "    #data[key].head(5)"
   ]
  },
  {
   "cell_type": "code",
   "execution_count": 7,
   "metadata": {
    "colab": {},
    "colab_type": "code",
    "id": "8V50RSl4oj_w"
   },
   "outputs": [],
   "source": [
    "#hide\n",
    "\n",
    "#todo:separate"
   ]
  },
  {
   "cell_type": "markdown",
   "metadata": {},
   "source": [
    "## Data we loaded\n",
    "\n",
    "Let me summarize it here for you – in any decent firm, if you are a team leader or business unit manager you are involved in merit processes – you can get\n",
    "* Dictionaries\n",
    "    * Cost per region or default cost for “outside” contributors\n",
    "    * Average revenue per hour for projects not “owned” by you\n",
    "    "
   ]
  },
  {
   "cell_type": "code",
   "execution_count": 8,
   "metadata": {},
   "outputs": [
    {
     "data": {
      "text/html": [
       "<div>\n",
       "<style scoped>\n",
       "    .dataframe tbody tr th:only-of-type {\n",
       "        vertical-align: middle;\n",
       "    }\n",
       "\n",
       "    .dataframe tbody tr th {\n",
       "        vertical-align: top;\n",
       "    }\n",
       "\n",
       "    .dataframe thead th {\n",
       "        text-align: right;\n",
       "    }\n",
       "</style>\n",
       "<table border=\"1\" class=\"dataframe\">\n",
       "  <thead>\n",
       "    <tr style=\"text-align: right;\">\n",
       "      <th></th>\n",
       "      <th>DEFAULT COSTS per ROLE and REGION (in $)</th>\n",
       "      <th>EU</th>\n",
       "      <th>EU-UK</th>\n",
       "      <th>EU-CH</th>\n",
       "    </tr>\n",
       "  </thead>\n",
       "  <tbody>\n",
       "    <tr>\n",
       "      <th>0</th>\n",
       "      <td>DIRECTOR</td>\n",
       "      <td>1100.0</td>\n",
       "      <td>1300.0</td>\n",
       "      <td>1100.0</td>\n",
       "    </tr>\n",
       "    <tr>\n",
       "      <th>1</th>\n",
       "      <td>Program Manager</td>\n",
       "      <td>900.0</td>\n",
       "      <td>1000.0</td>\n",
       "      <td>900.0</td>\n",
       "    </tr>\n",
       "    <tr>\n",
       "      <th>2</th>\n",
       "      <td>Project Manager</td>\n",
       "      <td>800.0</td>\n",
       "      <td>800.0</td>\n",
       "      <td>800.0</td>\n",
       "    </tr>\n",
       "    <tr>\n",
       "      <th>3</th>\n",
       "      <td>Project Coordinator</td>\n",
       "      <td>700.0</td>\n",
       "      <td>700.0</td>\n",
       "      <td>700.0</td>\n",
       "    </tr>\n",
       "    <tr>\n",
       "      <th>4</th>\n",
       "      <td>Solution Architect</td>\n",
       "      <td>900.0</td>\n",
       "      <td>1000.0</td>\n",
       "      <td>1050.0</td>\n",
       "    </tr>\n",
       "  </tbody>\n",
       "</table>\n",
       "</div>"
      ],
      "text/plain": [
       "  DEFAULT COSTS per ROLE and REGION (in $)      EU   EU-UK   EU-CH\n",
       "0                                 DIRECTOR  1100.0  1300.0  1100.0\n",
       "1                          Program Manager   900.0  1000.0   900.0\n",
       "2                          Project Manager   800.0   800.0   800.0\n",
       "3                      Project Coordinator   700.0   700.0   700.0\n",
       "4                       Solution Architect   900.0  1000.0  1050.0"
      ]
     },
     "execution_count": 8,
     "metadata": {},
     "output_type": "execute_result"
    }
   ],
   "source": [
    "# show roles\n",
    "roles=data[\"roles\"]\n",
    "roles.head(n=5)"
   ]
  },
  {
   "cell_type": "markdown",
   "metadata": {},
   "source": [
    "* HeadCount\n",
    "    * Graded costs\n",
    "    * Engagement model (employee or contractor)"
   ]
  },
  {
   "cell_type": "code",
   "execution_count": 9,
   "metadata": {},
   "outputs": [
    {
     "data": {
      "text/html": [
       "<div>\n",
       "<style scoped>\n",
       "    .dataframe tbody tr th:only-of-type {\n",
       "        vertical-align: middle;\n",
       "    }\n",
       "\n",
       "    .dataframe tbody tr th {\n",
       "        vertical-align: top;\n",
       "    }\n",
       "\n",
       "    .dataframe thead th {\n",
       "        text-align: right;\n",
       "    }\n",
       "</style>\n",
       "<table border=\"1\" class=\"dataframe\">\n",
       "  <thead>\n",
       "    <tr style=\"text-align: right;\">\n",
       "      <th></th>\n",
       "      <th>NAME</th>\n",
       "      <th>TYPE</th>\n",
       "      <th>BU</th>\n",
       "      <th>Location</th>\n",
       "      <th>Position</th>\n",
       "      <th>Level</th>\n",
       "      <th>Management size</th>\n",
       "      <th>ID</th>\n",
       "      <th>START</th>\n",
       "    </tr>\n",
       "  </thead>\n",
       "  <tbody>\n",
       "    <tr>\n",
       "      <th>0</th>\n",
       "      <td>JANE DOE</td>\n",
       "      <td>EMPLOYEE</td>\n",
       "      <td>OPS</td>\n",
       "      <td>CH</td>\n",
       "      <td>CON</td>\n",
       "      <td>SEASONED</td>\n",
       "      <td>NO</td>\n",
       "      <td>1001</td>\n",
       "      <td>TBD</td>\n",
       "    </tr>\n",
       "    <tr>\n",
       "      <th>1</th>\n",
       "      <td>JOHN DOE</td>\n",
       "      <td>EMPLOYEE</td>\n",
       "      <td>OPS</td>\n",
       "      <td>PL</td>\n",
       "      <td>CON</td>\n",
       "      <td>JUNIOR</td>\n",
       "      <td>NO</td>\n",
       "      <td>1002</td>\n",
       "      <td>TBD</td>\n",
       "    </tr>\n",
       "    <tr>\n",
       "      <th>2</th>\n",
       "      <td>JOHN SMITH</td>\n",
       "      <td>EMPLOYEE</td>\n",
       "      <td>OPS</td>\n",
       "      <td>CH</td>\n",
       "      <td>CON</td>\n",
       "      <td>SEASONED</td>\n",
       "      <td>NO</td>\n",
       "      <td>1003</td>\n",
       "      <td>TBD</td>\n",
       "    </tr>\n",
       "    <tr>\n",
       "      <th>3</th>\n",
       "      <td>JACK THE MANAGER</td>\n",
       "      <td>CONTRACTOR</td>\n",
       "      <td>OPS</td>\n",
       "      <td>CH</td>\n",
       "      <td>PRO</td>\n",
       "      <td>SENIOR</td>\n",
       "      <td>NO</td>\n",
       "      <td>1004</td>\n",
       "      <td>TBD</td>\n",
       "    </tr>\n",
       "    <tr>\n",
       "      <th>4</th>\n",
       "      <td>JOHN THE MANAGER</td>\n",
       "      <td>CONTRACTOR</td>\n",
       "      <td>OPS</td>\n",
       "      <td>CH</td>\n",
       "      <td>PRO</td>\n",
       "      <td>SENIOR</td>\n",
       "      <td>NO</td>\n",
       "      <td>1005</td>\n",
       "      <td>TBD</td>\n",
       "    </tr>\n",
       "  </tbody>\n",
       "</table>\n",
       "</div>"
      ],
      "text/plain": [
       "               NAME        TYPE   BU Location Position     Level  \\\n",
       "0          JANE DOE    EMPLOYEE  OPS       CH      CON  SEASONED   \n",
       "1          JOHN DOE    EMPLOYEE  OPS       PL      CON    JUNIOR   \n",
       "2        JOHN SMITH    EMPLOYEE  OPS       CH      CON  SEASONED   \n",
       "3  JACK THE MANAGER  CONTRACTOR  OPS       CH      PRO    SENIOR   \n",
       "4  JOHN THE MANAGER  CONTRACTOR  OPS       CH      PRO    SENIOR   \n",
       "\n",
       "  Management size    ID START  \n",
       "0              NO  1001   TBD  \n",
       "1              NO  1002   TBD  \n",
       "2              NO  1003   TBD  \n",
       "3              NO  1004   TBD  \n",
       "4              NO  1005   TBD  "
      ]
     },
     "execution_count": 9,
     "metadata": {},
     "output_type": "execute_result"
    }
   ],
   "source": [
    "#show head count\n",
    "headcount=data[\"HC\"]\n",
    "headcount.head(n=5)"
   ]
  },
  {
   "cell_type": "markdown",
   "metadata": {},
   "source": [
    "* Projects\n",
    "    * Budget, effort estimate, deadline\n",
    "    * Project type (e.g. “On demand support” or “Subscription” will not have any actual deadline to control) - though it is ok if you don’t have it\n",
    "    * Type of revenue recognition (Time and Material or Fixed Fee)\n"
   ]
  },
  {
   "cell_type": "code",
   "execution_count": 10,
   "metadata": {},
   "outputs": [
    {
     "data": {
      "text/html": [
       "<div>\n",
       "<style scoped>\n",
       "    .dataframe tbody tr th:only-of-type {\n",
       "        vertical-align: middle;\n",
       "    }\n",
       "\n",
       "    .dataframe tbody tr th {\n",
       "        vertical-align: top;\n",
       "    }\n",
       "\n",
       "    .dataframe thead th {\n",
       "        text-align: right;\n",
       "    }\n",
       "</style>\n",
       "<table border=\"1\" class=\"dataframe\">\n",
       "  <thead>\n",
       "    <tr style=\"text-align: right;\">\n",
       "      <th></th>\n",
       "      <th>Client ID</th>\n",
       "      <th>Project ID</th>\n",
       "      <th>Project</th>\n",
       "      <th>PM</th>\n",
       "      <th>Client Region</th>\n",
       "      <th>Client Country</th>\n",
       "      <th>Category</th>\n",
       "      <th>Recon Status</th>\n",
       "      <th>FIN Status</th>\n",
       "      <th>Start</th>\n",
       "      <th>End</th>\n",
       "      <th>Rev Rec</th>\n",
       "      <th>Funding Method</th>\n",
       "      <th>BASE RATE USD</th>\n",
       "      <th>TCV</th>\n",
       "      <th>Recognized\n",
       "USD</th>\n",
       "      <th>2017 effort</th>\n",
       "      <th>2018 effort</th>\n",
       "      <th>2019 effort</th>\n",
       "      <th>Jan 2020 Effort</th>\n",
       "    </tr>\n",
       "  </thead>\n",
       "  <tbody>\n",
       "    <tr>\n",
       "      <th>0</th>\n",
       "      <td>13154.0</td>\n",
       "      <td>68454.0</td>\n",
       "      <td>Medium consutancy 1</td>\n",
       "      <td>SUSAN THE MANAGER</td>\n",
       "      <td>Europe</td>\n",
       "      <td>France</td>\n",
       "      <td>Consulting</td>\n",
       "      <td>Approved</td>\n",
       "      <td>APPROVED</td>\n",
       "      <td>2019-01-16 08:00:00</td>\n",
       "      <td>2020-07-22 14:00:00</td>\n",
       "      <td>T&amp;M</td>\n",
       "      <td>Billable to Client Variable TM</td>\n",
       "      <td>1200.0</td>\n",
       "      <td>39,000 EUR</td>\n",
       "      <td>41540.0800</td>\n",
       "      <td>0.0</td>\n",
       "      <td>0.0</td>\n",
       "      <td>180.5</td>\n",
       "      <td>21.50</td>\n",
       "    </tr>\n",
       "    <tr>\n",
       "      <th>1</th>\n",
       "      <td>2764.0</td>\n",
       "      <td>70285.0</td>\n",
       "      <td>Our biggest project</td>\n",
       "      <td>EXT 6a8e0ca747</td>\n",
       "      <td>Europe</td>\n",
       "      <td>United Kingdom</td>\n",
       "      <td>Consulting</td>\n",
       "      <td>Approved</td>\n",
       "      <td>APPROVED</td>\n",
       "      <td>2019-10-01 08:00:00</td>\n",
       "      <td>2021-04-30 11:00:00</td>\n",
       "      <td>T&amp;M</td>\n",
       "      <td>Billable to Client Variable TM</td>\n",
       "      <td>1200.0</td>\n",
       "      <td>1,450,999 USD</td>\n",
       "      <td>473002.0800</td>\n",
       "      <td>0.0</td>\n",
       "      <td>0.0</td>\n",
       "      <td>1241.5</td>\n",
       "      <td>458.25</td>\n",
       "    </tr>\n",
       "    <tr>\n",
       "      <th>2</th>\n",
       "      <td>12916.0</td>\n",
       "      <td>68093.0</td>\n",
       "      <td>Upgrade to new version</td>\n",
       "      <td>TIM THE LEAVER</td>\n",
       "      <td>Europe</td>\n",
       "      <td>Netherlands</td>\n",
       "      <td>Consulting</td>\n",
       "      <td>Approved</td>\n",
       "      <td>APPROVED</td>\n",
       "      <td>2018-09-28 08:00:00</td>\n",
       "      <td>2020-04-27 17:00:00</td>\n",
       "      <td>FF</td>\n",
       "      <td>Billable to Client (Fixed Fee)</td>\n",
       "      <td>1200.0</td>\n",
       "      <td>127,500 EUR</td>\n",
       "      <td>142411.5533</td>\n",
       "      <td>0.0</td>\n",
       "      <td>0.0</td>\n",
       "      <td>0.0</td>\n",
       "      <td>0.00</td>\n",
       "    </tr>\n",
       "    <tr>\n",
       "      <th>3</th>\n",
       "      <td>12916.0</td>\n",
       "      <td>68094.0</td>\n",
       "      <td>Small change on top of upgrade</td>\n",
       "      <td>JOHN THE MANAGER</td>\n",
       "      <td>Europe</td>\n",
       "      <td>Netherlands</td>\n",
       "      <td>Consulting</td>\n",
       "      <td>Approved</td>\n",
       "      <td>APPROVED</td>\n",
       "      <td>2018-09-28 08:00:00</td>\n",
       "      <td>2020-05-11 17:00:00</td>\n",
       "      <td>T&amp;M</td>\n",
       "      <td>Billable to Client Variable TM</td>\n",
       "      <td>1200.0</td>\n",
       "      <td>12,500 EUR</td>\n",
       "      <td>0.0000</td>\n",
       "      <td>0.0</td>\n",
       "      <td>0.0</td>\n",
       "      <td>0.0</td>\n",
       "      <td>0.00</td>\n",
       "    </tr>\n",
       "    <tr>\n",
       "      <th>4</th>\n",
       "      <td>18933.0</td>\n",
       "      <td>68726.0</td>\n",
       "      <td>Transition from another product</td>\n",
       "      <td>JANE THE MANAGER</td>\n",
       "      <td>Europe</td>\n",
       "      <td>France</td>\n",
       "      <td>Consulting</td>\n",
       "      <td>Approved</td>\n",
       "      <td>APPROVED</td>\n",
       "      <td>2019-03-01 08:00:00</td>\n",
       "      <td>2020-05-27 16:00:00</td>\n",
       "      <td>FF</td>\n",
       "      <td>Billable to Client (Fixed Fee)</td>\n",
       "      <td>1200.0</td>\n",
       "      <td>143,250 EUR</td>\n",
       "      <td>132677.3616</td>\n",
       "      <td>0.0</td>\n",
       "      <td>0.0</td>\n",
       "      <td>525.5</td>\n",
       "      <td>5.00</td>\n",
       "    </tr>\n",
       "  </tbody>\n",
       "</table>\n",
       "</div>"
      ],
      "text/plain": [
       "   Client ID  Project ID                          Project                 PM  \\\n",
       "0    13154.0     68454.0              Medium consutancy 1  SUSAN THE MANAGER   \n",
       "1     2764.0     70285.0              Our biggest project     EXT 6a8e0ca747   \n",
       "2    12916.0     68093.0           Upgrade to new version     TIM THE LEAVER   \n",
       "3    12916.0     68094.0   Small change on top of upgrade   JOHN THE MANAGER   \n",
       "4    18933.0     68726.0  Transition from another product   JANE THE MANAGER   \n",
       "\n",
       "  Client Region  Client Country    Category Recon Status FIN Status  \\\n",
       "0        Europe          France  Consulting     Approved   APPROVED   \n",
       "1        Europe  United Kingdom  Consulting     Approved   APPROVED   \n",
       "2        Europe     Netherlands  Consulting     Approved   APPROVED   \n",
       "3        Europe     Netherlands  Consulting     Approved   APPROVED   \n",
       "4        Europe          France  Consulting     Approved   APPROVED   \n",
       "\n",
       "                Start                 End Rev Rec  \\\n",
       "0 2019-01-16 08:00:00 2020-07-22 14:00:00     T&M   \n",
       "1 2019-10-01 08:00:00 2021-04-30 11:00:00     T&M   \n",
       "2 2018-09-28 08:00:00 2020-04-27 17:00:00      FF   \n",
       "3 2018-09-28 08:00:00 2020-05-11 17:00:00     T&M   \n",
       "4 2019-03-01 08:00:00 2020-05-27 16:00:00      FF   \n",
       "\n",
       "                   Funding Method  BASE RATE USD            TCV  \\\n",
       "0  Billable to Client Variable TM         1200.0     39,000 EUR   \n",
       "1  Billable to Client Variable TM         1200.0  1,450,999 USD   \n",
       "2  Billable to Client (Fixed Fee)         1200.0    127,500 EUR   \n",
       "3  Billable to Client Variable TM         1200.0     12,500 EUR   \n",
       "4  Billable to Client (Fixed Fee)         1200.0    143,250 EUR   \n",
       "\n",
       "   Recognized\\nUSD  2017 effort  2018 effort  2019 effort  Jan 2020 Effort  \n",
       "0       41540.0800          0.0          0.0        180.5            21.50  \n",
       "1      473002.0800          0.0          0.0       1241.5           458.25  \n",
       "2      142411.5533          0.0          0.0          0.0             0.00  \n",
       "3           0.0000          0.0          0.0          0.0             0.00  \n",
       "4      132677.3616          0.0          0.0        525.5             5.00  "
      ]
     },
     "execution_count": 10,
     "metadata": {},
     "output_type": "execute_result"
    }
   ],
   "source": [
    "# show projects\n",
    "projects = data[\"Entity Project\"]\n",
    "projects.head(n=5)"
   ]
  },
  {
   "cell_type": "markdown",
   "metadata": {},
   "source": [
    "* Timesheets (your team / your projects, note that other teams can contribute to your projects and your team might work in other projects) \n",
    "    * Typically arrive monthly or weekly\n",
    "(optional) Plans\n",
    "    * If there are no plans, below we talk about an option to “plan auto-fill”\n",
    "\n",
    "But your ERP probably does not present you anything nicely in terms of parameters you’d want to control on your level  (otherwise you won’t read this anyway). There is even maybe a project running so it will do so by 2025. \n",
    "If you are steering this boat long enough – you might have ended up with some quick and dirty calculation, SQL queries to SAP (with field names still in German) or Excel file. Why? Because, well, your bosses don’t give a shit – they already hired you and a better ERP is coming in 2025 anyway – so they want to know how much money your team makes and why is it not so profitable (because it never is)"
   ]
  },
  {
   "cell_type": "code",
   "execution_count": 11,
   "metadata": {},
   "outputs": [
    {
     "data": {
      "text/html": [
       "<div>\n",
       "<style scoped>\n",
       "    .dataframe tbody tr th:only-of-type {\n",
       "        vertical-align: middle;\n",
       "    }\n",
       "\n",
       "    .dataframe tbody tr th {\n",
       "        vertical-align: top;\n",
       "    }\n",
       "\n",
       "    .dataframe thead th {\n",
       "        text-align: right;\n",
       "    }\n",
       "</style>\n",
       "<table border=\"1\" class=\"dataframe\">\n",
       "  <thead>\n",
       "    <tr style=\"text-align: right;\">\n",
       "      <th></th>\n",
       "      <th>Project</th>\n",
       "      <th>Project Phase</th>\n",
       "      <th>Work Description</th>\n",
       "      <th>Tax/Billing Activity</th>\n",
       "      <th>Activity Type</th>\n",
       "      <th>Billing Flag</th>\n",
       "      <th>User</th>\n",
       "      <th>Roles (Primary)</th>\n",
       "      <th>Req Name</th>\n",
       "      <th>Employee Type</th>\n",
       "      <th>...</th>\n",
       "      <th>Effort Type</th>\n",
       "      <th>Timesheet Status</th>\n",
       "      <th>Total (Days)</th>\n",
       "      <th>Sun</th>\n",
       "      <th>Mon</th>\n",
       "      <th>Tue</th>\n",
       "      <th>Wed</th>\n",
       "      <th>Thu</th>\n",
       "      <th>Fri</th>\n",
       "      <th>Sat</th>\n",
       "    </tr>\n",
       "  </thead>\n",
       "  <tbody>\n",
       "    <tr>\n",
       "      <th>0</th>\n",
       "      <td>PRJ d41d8cd98f</td>\n",
       "      <td>Core Deployment</td>\n",
       "      <td>Consultancy</td>\n",
       "      <td>Consultancy</td>\n",
       "      <td>NaN</td>\n",
       "      <td>Billable</td>\n",
       "      <td>EXT 800982ab08</td>\n",
       "      <td>OB Developer</td>\n",
       "      <td>NaN</td>\n",
       "      <td>Employee</td>\n",
       "      <td>...</td>\n",
       "      <td>Actual</td>\n",
       "      <td>Progressed</td>\n",
       "      <td>2.5</td>\n",
       "      <td>0.0</td>\n",
       "      <td>0.5</td>\n",
       "      <td>0.5</td>\n",
       "      <td>0.5</td>\n",
       "      <td>0.5</td>\n",
       "      <td>0.5</td>\n",
       "      <td>0.0</td>\n",
       "    </tr>\n",
       "    <tr>\n",
       "      <th>1</th>\n",
       "      <td>PRJ d41d8cd98f</td>\n",
       "      <td>Core Deployment</td>\n",
       "      <td>Consultancy</td>\n",
       "      <td>Consultancy</td>\n",
       "      <td>NaN</td>\n",
       "      <td>Billable</td>\n",
       "      <td>EXT c8c92ca432</td>\n",
       "      <td>Unassigned</td>\n",
       "      <td>NaN</td>\n",
       "      <td>Employee</td>\n",
       "      <td>...</td>\n",
       "      <td>Actual</td>\n",
       "      <td>Progressed</td>\n",
       "      <td>2.5</td>\n",
       "      <td>0.0</td>\n",
       "      <td>0.5</td>\n",
       "      <td>0.5</td>\n",
       "      <td>0.5</td>\n",
       "      <td>0.5</td>\n",
       "      <td>0.5</td>\n",
       "      <td>0.0</td>\n",
       "    </tr>\n",
       "    <tr>\n",
       "      <th>2</th>\n",
       "      <td>PRJ d41d8cd98f</td>\n",
       "      <td>Core Deployment</td>\n",
       "      <td>Consultancy</td>\n",
       "      <td>Consultancy</td>\n",
       "      <td>NaN</td>\n",
       "      <td>Billable</td>\n",
       "      <td>EXT c8c92ca432</td>\n",
       "      <td>Unassigned</td>\n",
       "      <td>NaN</td>\n",
       "      <td>Employee</td>\n",
       "      <td>...</td>\n",
       "      <td>Actual</td>\n",
       "      <td>Progressed</td>\n",
       "      <td>2.5</td>\n",
       "      <td>0.0</td>\n",
       "      <td>0.5</td>\n",
       "      <td>0.5</td>\n",
       "      <td>0.5</td>\n",
       "      <td>0.5</td>\n",
       "      <td>0.5</td>\n",
       "      <td>0.0</td>\n",
       "    </tr>\n",
       "    <tr>\n",
       "      <th>3</th>\n",
       "      <td>PRJ d41d8cd98f</td>\n",
       "      <td>Core Deployment</td>\n",
       "      <td>Consultancy</td>\n",
       "      <td>Consultancy</td>\n",
       "      <td>NaN</td>\n",
       "      <td>Billable</td>\n",
       "      <td>EXT 800982ab08</td>\n",
       "      <td>OB Developer</td>\n",
       "      <td>NaN</td>\n",
       "      <td>Employee</td>\n",
       "      <td>...</td>\n",
       "      <td>Actual</td>\n",
       "      <td>Progressed</td>\n",
       "      <td>2.5</td>\n",
       "      <td>0.0</td>\n",
       "      <td>0.5</td>\n",
       "      <td>0.5</td>\n",
       "      <td>0.5</td>\n",
       "      <td>0.5</td>\n",
       "      <td>0.5</td>\n",
       "      <td>0.0</td>\n",
       "    </tr>\n",
       "    <tr>\n",
       "      <th>4</th>\n",
       "      <td>PRJ d41d8cd98f</td>\n",
       "      <td>Core Deployment</td>\n",
       "      <td>Consultancy</td>\n",
       "      <td>Consultancy</td>\n",
       "      <td>NaN</td>\n",
       "      <td>Billable</td>\n",
       "      <td>EXT c8c92ca432</td>\n",
       "      <td>Unassigned</td>\n",
       "      <td>NaN</td>\n",
       "      <td>Employee</td>\n",
       "      <td>...</td>\n",
       "      <td>Actual</td>\n",
       "      <td>Progressed</td>\n",
       "      <td>2.5</td>\n",
       "      <td>0.0</td>\n",
       "      <td>0.5</td>\n",
       "      <td>0.5</td>\n",
       "      <td>0.5</td>\n",
       "      <td>0.5</td>\n",
       "      <td>0.5</td>\n",
       "      <td>0.0</td>\n",
       "    </tr>\n",
       "  </tbody>\n",
       "</table>\n",
       "<p>5 rows × 21 columns</p>\n",
       "</div>"
      ],
      "text/plain": [
       "          Project    Project Phase Work Description Tax/Billing Activity  \\\n",
       "0  PRJ d41d8cd98f  Core Deployment      Consultancy          Consultancy   \n",
       "1  PRJ d41d8cd98f  Core Deployment      Consultancy          Consultancy   \n",
       "2  PRJ d41d8cd98f  Core Deployment      Consultancy          Consultancy   \n",
       "3  PRJ d41d8cd98f  Core Deployment      Consultancy          Consultancy   \n",
       "4  PRJ d41d8cd98f  Core Deployment      Consultancy          Consultancy   \n",
       "\n",
       "   Activity Type Billing Flag            User Roles (Primary) Req Name  \\\n",
       "0            NaN     Billable  EXT 800982ab08    OB Developer      NaN   \n",
       "1            NaN     Billable  EXT c8c92ca432      Unassigned      NaN   \n",
       "2            NaN     Billable  EXT c8c92ca432      Unassigned      NaN   \n",
       "3            NaN     Billable  EXT 800982ab08    OB Developer      NaN   \n",
       "4            NaN     Billable  EXT c8c92ca432      Unassigned      NaN   \n",
       "\n",
       "  Employee Type  ... Effort Type Timesheet Status Total (Days)  Sun  Mon  Tue  \\\n",
       "0      Employee  ...      Actual       Progressed          2.5  0.0  0.5  0.5   \n",
       "1      Employee  ...      Actual       Progressed          2.5  0.0  0.5  0.5   \n",
       "2      Employee  ...      Actual       Progressed          2.5  0.0  0.5  0.5   \n",
       "3      Employee  ...      Actual       Progressed          2.5  0.0  0.5  0.5   \n",
       "4      Employee  ...      Actual       Progressed          2.5  0.0  0.5  0.5   \n",
       "\n",
       "   Wed  Thu  Fri  Sat  \n",
       "0  0.5  0.5  0.5  0.0  \n",
       "1  0.5  0.5  0.5  0.0  \n",
       "2  0.5  0.5  0.5  0.0  \n",
       "3  0.5  0.5  0.5  0.0  \n",
       "4  0.5  0.5  0.5  0.0  \n",
       "\n",
       "[5 rows x 21 columns]"
      ]
     },
     "execution_count": 11,
     "metadata": {},
     "output_type": "execute_result"
    }
   ],
   "source": [
    "# show timesheets\n",
    "\n",
    "timesheet=data[\"timesheet\"]\n",
    "timesheet.head(n=5)"
   ]
  },
  {
   "cell_type": "markdown",
   "metadata": {},
   "source": [
    "Next we are going to create a timeseries out of timesheets which is a bit more involved so you can skip it for now and come back to it later, but the points it that at the end you will get a nice monthly pandas Dataframe that looks like this"
   ]
  },
  {
   "cell_type": "code",
   "execution_count": 12,
   "metadata": {
    "scrolled": false
   },
   "outputs": [],
   "source": [
    "#collapse\n",
    "\n",
    "#collapse\n",
    "dd=[]\n",
    "timesheet['Period Starting'] = pd.to_datetime(timesheet['Period Starting'])\n",
    "weekdays = ['Sun', 'Mon', 'Tue', 'Wed', 'Thu', 'Fri', 'Sat'] \n",
    "for i, weekday in enumerate(weekdays):\n",
    "    columns = [col for col in timesheet if col not in weekdays or col==weekday]\n",
    "    tmp = timesheet[columns].copy() #dmytro todo: port backward\n",
    "    tmp = tmp.rename(columns={weekday: 'effort'})\n",
    "    tmp['date'] = tmp['Period Starting']+pd.to_timedelta('{}D'.format(i)) #dmytro todo: check period starting offset logic\n",
    "    tmp['weekday'] = weekday\n",
    "    tmp = tmp.drop(['Period Starting','Total (Days)'],axis=1)\n",
    "    dd +=[tmp]\n",
    "\n",
    "timeseries = pd.concat(dd,sort=False).sort_values(['User','date'])\n",
    "timeseries = timeseries.reset_index().drop('index',axis=1)\n",
    "timeseries['date'] = pd.to_datetime(timeseries['date']).astype('str')\n",
    "timeseries['month'] = timeseries['date'].str[:7] # dmytro todo: maybe improve date, month stylistics \n",
    "timeseries['weekend'] = timeseries['weekday'].apply(lambda x: x in ['Sun','Sat'])\n",
    "timeseries['workweek'] = timeseries['weekday'].apply(lambda x: x not in ['Sun','Sat'])\n",
    "#timeseries['month']\n",
    "#dmytro todo: clean almost null rows"
   ]
  },
  {
   "cell_type": "code",
   "execution_count": 13,
   "metadata": {},
   "outputs": [],
   "source": [
    "#timeseries_wide = timeseries.groupby(list(timeseries.columns.drop('effort'))[:2])['effort'].sum()\n",
    "#.unstack('date').reset_index().fillna(0)\n",
    "#timeseries_wide"
   ]
  },
  {
   "cell_type": "code",
   "execution_count": 14,
   "metadata": {},
   "outputs": [],
   "source": [
    "#timeseries.groupby('User')['effort'].sum()#.unstack('date').reset_index().fillna(0)"
   ]
  },
  {
   "cell_type": "code",
   "execution_count": null,
   "metadata": {},
   "outputs": [],
   "source": []
  },
  {
   "cell_type": "markdown",
   "metadata": {},
   "source": [
    "## Profitability\n",
    "\n",
    "Let me bore you for a minute. You can skip this part if above was self-explanatory to you. Timesheets and projects budgets are simple. You are probably frightened by IFRS revenue recognition and all that – that’s why your CFO has a nice corner office and you don’t, right. Fortunately, there is a simpler thing called Managerial Accounting. \n",
    "So, profit is Revenue – Cost and we intend to measure by it and keep it simple. \n",
    "\n",
    "**Revenue**: Let’s say that for a Time & Material project you generate as much revenue as you bill (on agreed rate) up to its budget. For a Fixed Fee you split all the revenue per month as per % of effort you spend / are going to spend in the month (changes can be complicated, but they are easy to be managed in the way you want – just go through introduction and wait for the notebook we promised)"
   ]
  },
  {
   "cell_type": "code",
   "execution_count": null,
   "metadata": {},
   "outputs": [],
   "source": []
  },
  {
   "cell_type": "code",
   "execution_count": 16,
   "metadata": {},
   "outputs": [
    {
     "data": {
      "text/plain": [
       "1953.4417763157894"
      ]
     },
     "execution_count": 16,
     "metadata": {},
     "output_type": "execute_result"
    },
    {
     "data": {
      "text/plain": [
       "(71, 4)"
      ]
     },
     "execution_count": 16,
     "metadata": {},
     "output_type": "execute_result"
    },
    {
     "data": {
      "text/plain": [
       "month\n",
       "2020-02    813178.333333\n",
       "2020-03    886836.052632\n",
       "2020-04    719953.453947\n",
       "2020-05         0.000000\n",
       "dtype: float64"
      ]
     },
     "execution_count": 16,
     "metadata": {},
     "output_type": "execute_result"
    }
   ],
   "source": [
    "# revenue calculation for a person for a month (SUM REV of all timesheet records * corresp project rates)\n",
    "revenue_df = timeseries[['User','Project','effort','date','month']].merge(projects[['Project','BASE RATE USD']],how='left',on='Project')\n",
    "revenue_df['BASE RATE USD'] = revenue_df['BASE RATE USD'].fillna(1200)\n",
    "revenue_df['daily_revenue'] = revenue_df['BASE RATE USD'] * revenue_df['effort']\n",
    "revenue = revenue_df.groupby(['User','month'])['daily_revenue'].sum().unstack().fillna(0)\n",
    "revenue = revenue[revenue.sum(1)>0]\n",
    "revenue_df.effort.sum()\n",
    "revenue.shape\n",
    "revenue.sum()\n",
    "#dmytro todo: check null effort, do smart groupby"
   ]
  },
  {
   "cell_type": "markdown",
   "metadata": {},
   "source": [
    "**Cost**: So, let’s start with the fact that the average cost of $800 (or whatever) is bullshit. You might have people working in different countries and of totally different levels. Talk to your finance team and get some estimates from them (or make it together). We’d say if you were appointed to run a team or business unit – they owe you that much. We will assume below that you managed to get 3 grades (Associate, Base, Senior) per Country you have staff. Though costs per individual will go nicely also."
   ]
  },
  {
   "cell_type": "code",
   "execution_count": 17,
   "metadata": {},
   "outputs": [
    {
     "data": {
      "text/html": [
       "<div>\n",
       "<style scoped>\n",
       "    .dataframe tbody tr th:only-of-type {\n",
       "        vertical-align: middle;\n",
       "    }\n",
       "\n",
       "    .dataframe tbody tr th {\n",
       "        vertical-align: top;\n",
       "    }\n",
       "\n",
       "    .dataframe thead th {\n",
       "        text-align: right;\n",
       "    }\n",
       "</style>\n",
       "<table border=\"1\" class=\"dataframe\">\n",
       "  <thead>\n",
       "    <tr style=\"text-align: right;\">\n",
       "      <th></th>\n",
       "      <th>NAME</th>\n",
       "      <th>TYPE</th>\n",
       "      <th>BU</th>\n",
       "      <th>Location</th>\n",
       "      <th>Position</th>\n",
       "      <th>Level</th>\n",
       "      <th>Management size</th>\n",
       "      <th>ID</th>\n",
       "      <th>START</th>\n",
       "    </tr>\n",
       "  </thead>\n",
       "  <tbody>\n",
       "    <tr>\n",
       "      <th>0</th>\n",
       "      <td>JANE DOE</td>\n",
       "      <td>EMPLOYEE</td>\n",
       "      <td>OPS</td>\n",
       "      <td>CH</td>\n",
       "      <td>CON</td>\n",
       "      <td>SEASONED</td>\n",
       "      <td>NO</td>\n",
       "      <td>1001</td>\n",
       "      <td>TBD</td>\n",
       "    </tr>\n",
       "    <tr>\n",
       "      <th>1</th>\n",
       "      <td>JOHN DOE</td>\n",
       "      <td>EMPLOYEE</td>\n",
       "      <td>OPS</td>\n",
       "      <td>PL</td>\n",
       "      <td>CON</td>\n",
       "      <td>JUNIOR</td>\n",
       "      <td>NO</td>\n",
       "      <td>1002</td>\n",
       "      <td>TBD</td>\n",
       "    </tr>\n",
       "    <tr>\n",
       "      <th>2</th>\n",
       "      <td>JOHN SMITH</td>\n",
       "      <td>EMPLOYEE</td>\n",
       "      <td>OPS</td>\n",
       "      <td>CH</td>\n",
       "      <td>CON</td>\n",
       "      <td>SEASONED</td>\n",
       "      <td>NO</td>\n",
       "      <td>1003</td>\n",
       "      <td>TBD</td>\n",
       "    </tr>\n",
       "    <tr>\n",
       "      <th>3</th>\n",
       "      <td>JACK THE MANAGER</td>\n",
       "      <td>CONTRACTOR</td>\n",
       "      <td>OPS</td>\n",
       "      <td>CH</td>\n",
       "      <td>PRO</td>\n",
       "      <td>SENIOR</td>\n",
       "      <td>NO</td>\n",
       "      <td>1004</td>\n",
       "      <td>TBD</td>\n",
       "    </tr>\n",
       "    <tr>\n",
       "      <th>4</th>\n",
       "      <td>JOHN THE MANAGER</td>\n",
       "      <td>CONTRACTOR</td>\n",
       "      <td>OPS</td>\n",
       "      <td>CH</td>\n",
       "      <td>PRO</td>\n",
       "      <td>SENIOR</td>\n",
       "      <td>NO</td>\n",
       "      <td>1005</td>\n",
       "      <td>TBD</td>\n",
       "    </tr>\n",
       "  </tbody>\n",
       "</table>\n",
       "</div>"
      ],
      "text/plain": [
       "               NAME        TYPE   BU Location Position     Level  \\\n",
       "0          JANE DOE    EMPLOYEE  OPS       CH      CON  SEASONED   \n",
       "1          JOHN DOE    EMPLOYEE  OPS       PL      CON    JUNIOR   \n",
       "2        JOHN SMITH    EMPLOYEE  OPS       CH      CON  SEASONED   \n",
       "3  JACK THE MANAGER  CONTRACTOR  OPS       CH      PRO    SENIOR   \n",
       "4  JOHN THE MANAGER  CONTRACTOR  OPS       CH      PRO    SENIOR   \n",
       "\n",
       "  Management size    ID START  \n",
       "0              NO  1001   TBD  \n",
       "1              NO  1002   TBD  \n",
       "2              NO  1003   TBD  \n",
       "3              NO  1004   TBD  \n",
       "4              NO  1005   TBD  "
      ]
     },
     "execution_count": 17,
     "metadata": {},
     "output_type": "execute_result"
    }
   ],
   "source": [
    "headcount.head()"
   ]
  },
  {
   "cell_type": "code",
   "execution_count": 18,
   "metadata": {},
   "outputs": [],
   "source": [
    "# cost calculation for a project (SUM COST of all timesheet records * corresp cost rates - see roles)\n",
    "# dmytro todo: apply this to timeseries\n",
    "\n",
    "cost_df = timeseries[['User','Project','effort','date','month']].merge(headcount[['NAME','Location','Position','Level']],how='left',left_on='User',right_on='NAME')\n",
    "#cost_df\n",
    "# cost_df[''] = cost_df['BASE RATE USD'].fillna(1200)\n",
    "# cost_df['daily_cost'] = cost_df['BASE RATE USD'] * cost_df['effort']\n",
    "# cost = cost_df.groupby(['User','month'])['daily_cost'].sum().unstack().fillna(0)\n",
    "# cost = cost[cost.sum(1)>0]\n",
    "# cost_df.effort.sum()\n",
    "# cost.shape\n",
    "# cost.sum()\n",
    "#dmytro todo: check null effort, do smart groupby"
   ]
  },
  {
   "cell_type": "markdown",
   "metadata": {},
   "source": [
    "## More compex stuff\n",
    "\n",
    "Now let's actually show how to apply data science to data you've seen above\n",
    "\n",
    "Let's start with a chart on how effort is spent"
   ]
  },
  {
   "cell_type": "code",
   "execution_count": 19,
   "metadata": {},
   "outputs": [],
   "source": [
    "# Effort on the project per month"
   ]
  },
  {
   "cell_type": "markdown",
   "metadata": {},
   "source": [
    "Indeed, you can make it clickable so you can click on the bar and zoom in (it is more then 10 lines, so we will hide the code)"
   ]
  },
  {
   "cell_type": "code",
   "execution_count": 20,
   "metadata": {},
   "outputs": [],
   "source": [
    "# (Max) Interactive chart (bar chart effort per month, on click - effort in given month per person)"
   ]
  },
  {
   "cell_type": "markdown",
   "metadata": {},
   "source": [
    "Ok, as a Team Leader you might not do that. Sorry. Let's get some calculations done. First, let's identify \"suspicios\" behaviors (e.g. a person who has more then 5 days in a row same effort on a given project and it is not 8 hours) - this is a quick check you do yourself, without asking PMO anything and making this official"
   ]
  },
  {
   "cell_type": "code",
   "execution_count": 21,
   "metadata": {},
   "outputs": [],
   "source": [
    "# Simple anomalies detection\n",
    "# TODO: call for action, intro to next paper"
   ]
  },
  {
   "cell_type": "markdown",
   "metadata": {},
   "source": [
    "## Use cases\n",
    "\n",
    "Few cases we identified when this data is helpfull\n",
    "\n",
    "* Decision making - e.g. identify top loss-making projects\n",
    "* Identify projects which require management attention\n",
    "* Identify top performers (profit-wise)\n",
    "* Identify non-billable hours and internal projects\n",
    "* Identify suspicious behaviours (we will write another post about it)\n",
    "    * Employee enters fixed hours per project per day over a period\n",
    "    * Anomaly detection\n",
    "* Revenue and effort projections\n",
    "* Capacity calculations: load all data but plans and generate automated projection (effort * person * month / revenue * month)\n",
    "* Create consolidated analytic on demand for higher level of management (e.g. profitability forecast, revenue forecast, unallocated capacity) in case your ERP will not do anything like that\n",
    "    * Example: crisis cost saving - if you decrease hours for some contractors, how much cost do you save vs how much revenue to you lose\n",
    "\n",
    "But, that's not the point. The point is that loading your own data (excel, csv, tex - whatever) is simple and manipulating it is also simple - definetely simpler then doing it in numerous excel files and faster then waiting for PMOs. "
   ]
  },
  {
   "cell_type": "markdown",
   "metadata": {
    "colab_type": "text",
    "id": "6nRMj29CmI_D"
   },
   "source": [
    "Below code is to be moved inside and removed\n",
    "\n",
    "# Grouping data"
   ]
  },
  {
   "cell_type": "code",
   "execution_count": null,
   "metadata": {},
   "outputs": [],
   "source": []
  }
 ],
 "metadata": {
  "colab": {
   "name": "2020-05-19_Simple_Intro.ipynb",
   "provenance": []
  },
  "kernelspec": {
   "display_name": "Python 3",
   "language": "python",
   "name": "python3"
  },
  "language_info": {
   "codemirror_mode": {
    "name": "ipython",
    "version": 3
   },
   "file_extension": ".py",
   "mimetype": "text/x-python",
   "name": "python",
   "nbconvert_exporter": "python",
   "pygments_lexer": "ipython3",
   "version": "3.7.6"
  }
 },
 "nbformat": 4,
 "nbformat_minor": 1
}
