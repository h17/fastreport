{
 "cells": [
  {
   "cell_type": "markdown",
   "metadata": {
    "colab_type": "text",
    "id": "Xwsupk0kS6d7"
   },
   "source": [
    "# Data For Teams\n",
    "> \"Better than excel way to do team analytics\"\n",
    "\n",
    "- author: Dmytro Karabash, Maxim Korotkov \n",
    "- categories: [management, python]\n",
    "- image: images/analysis-1841158_1920.jpg\n",
    "- permalink: /fastreport/"
   ]
  },
  {
   "cell_type": "markdown",
   "metadata": {
    "colab_type": "text",
    "id": "iZ-akZ9Zq_lN"
   },
   "source": [
    "## Introduction\n",
    "\n",
    "You’re the boss now. You have a team or a business unit doing consultancy. Probably a bunch of Consultants helping clients, some Project Managers leading your projects in a nice Agile or whatever way. Everyone fills their timesheets (and you cut their bonuses if they don’t) – time is billed to clients and you have Fixed Fee projects also. Maybe smaller teams being parts of your team also – you can lead ten, hundred or thousand people (hey, dude – you run a unit of 1000 employees? Don’t read this article – hire someone who did) You probably even have an ERP or something and a CFO in a nice corner office. Do you have a good way to estimate how much profit every team member and project brings and ways to predict it with good precision? If you have a nice ERP dashboard which gives you all then – then you’re lucky and you don’t need this article either. But high chances are that you get a simple calculation end of year – like “let’s take all revenue finance recognized on your projects in a year and man day cost at \\\\$800 to get your unit profitability” (\\\\$800 can seem crazily high or unacceptably low, depending on business you’re in). So that’s the precision you have to the money your team brings to firm? Do we need to remind you that this is the only reason why your job exists?\n",
    "\n",
    "What you probably have is – all the timesheets, projects with their budget and you can even get to approximate costs nicely (we’ll get there). Shitload of data for a year even for a team of 10. What I will tell you here is that you don’t need an ERP to do the rest – the notebook in Jupyter will do for now. Let’s remember - management starts with measurement. How can you supervise your team and projects if you don’t have their data at your fingers?\n",
    "\n",
    "Why do you need Data Science here? Well, you can have all data an your fingers. Let me show you 3 Project Managers which have highest profit margin from beginning of the year - based on timesheets, revenue type and cost rates in one (not-so-simple) line"
   ]
  },
  {
   "cell_type": "code",
   "execution_count": 142,
   "metadata": {},
   "outputs": [],
   "source": [
    "#TODO: Dmytro, we need a simple calculation here"
   ]
  },
  {
   "cell_type": "code",
   "execution_count": 143,
   "metadata": {
    "colab_type": "text",
    "id": "S55pdpm7TyOD"
   },
   "outputs": [],
   "source": [
    "#hide\n",
    "\n",
    "#Note: we might need an internal project to “fill” the difference to full month (e.g. “INTERNAL” with revenue rate of 0 covering everything to full week)"
   ]
  },
  {
   "cell_type": "markdown",
   "metadata": {},
   "source": [
    "## Data Science\n",
    "\n",
    "So, let’s get this done. First – yes, you need to know a little bit of python to get the files in. Basic level will do. (If you are a manager in 2020 and can’t write a simple script – hm, you probably missed something). The objective is to have an easy-to-use toolkit. We are definitely not developing any ERP here. What you will see is a very simple set of tools - you spend an hour or two to load your files into the notebook and then start playing with it - just make the analysis you want. You can end up checking a few numbers or building your own charts and dashboards. It is all under L-GPL - free to use, even if you work for a corporation (that’s where you need it most) - just install Anaconda and download the notebook. \n",
    "So, we first get and transform our input files (if you want to follow text AND all the code - read it on cohab)\n",
    "\n",
    "We are loading projects, timesheets and roles below - more details will follow on what we presumed is inside."
   ]
  },
  {
   "cell_type": "code",
   "execution_count": 144,
   "metadata": {
    "colab": {},
    "colab_type": "code",
    "id": "-buY_kCoViFl"
   },
   "outputs": [],
   "source": [
    "#hide\n",
    "##loading functions\n",
    "\n",
    "import pandas as pd\n",
    "\n",
    "#multiple outputs (from ​​​​28 Jupyter Notebook Tips, Tricks, and Shortcuts)\n",
    "from IPython.core.interactiveshell import InteractiveShell\n",
    "InteractiveShell.ast_node_interactivity = \"all\"\n",
    "\n",
    "verbosity=5\n",
    "\n"
   ]
  },
  {
   "cell_type": "code",
   "execution_count": 145,
   "metadata": {
    "colab": {
     "base_uri": "https://localhost:8080/",
     "height": 430
    },
    "colab_type": "code",
    "id": "AeuLAYMPlbmX",
    "outputId": "9687cbb8-6c94-4d87-ec51-86cf2c44441d"
   },
   "outputs": [],
   "source": [
    "#TODO:delete\n",
    "# data = {}\n",
    "# for csv_name in ['projects','timesheet', 'roles']:\n",
    "#     url = 'https://raw.githubusercontent.com/h17/fastreport/master/data/{}.csv'.format(csv_name)\n",
    "#     data[csv_name] = df = pd.read_csv(url, index_col=0)"
   ]
  },
  {
   "cell_type": "code",
   "execution_count": 146,
   "metadata": {},
   "outputs": [
    {
     "data": {
      "text/plain": [
       "['TS Feb', 'TS Mar', 'TS Apr', 'Entity Project', 'HC']"
      ]
     },
     "execution_count": 146,
     "metadata": {},
     "output_type": "execute_result"
    },
    {
     "data": {
      "text/plain": [
       "dict_keys(['roles', 'Entity Project', 'HC', 'timesheet'])"
      ]
     },
     "execution_count": 146,
     "metadata": {},
     "output_type": "execute_result"
    }
   ],
   "source": [
    "data = {}\n",
    "url = 'https://raw.githubusercontent.com/h17/fastreport/master/data/roles.csv'\n",
    "data['roles'] = pd.read_csv(url, index_col=0,sep=\";\")\n",
    "\n",
    "project_data = pd.ExcelFile('../data/project_data.xlsm')\n",
    "project_data.sheet_names\n",
    "\n",
    "timesheets = []\n",
    "for sheet in project_data.sheet_names:\n",
    "    if 'TS' in sheet:\n",
    "        timesheets += [pd.read_excel(project_data,sheet,header=2)]\n",
    "    else:\n",
    "        tmp = pd.read_excel(project_data,sheet)\n",
    "        data[sheet] = tmp \n",
    "if 'Sat.1' in timesheets[0]: timesheets[0] = timesheets[0].rename(columns={'Sat': 'Sun', 'Sat.1' : 'Sat'}) \n",
    "data['timesheet'] = pd.concat(timesheets,sort=False)\n",
    "data['timesheet'] = data['timesheet'][~data['timesheet'].User.isnull()]\n",
    "data.keys()"
   ]
  },
  {
   "cell_type": "code",
   "execution_count": 147,
   "metadata": {},
   "outputs": [
    {
     "data": {
      "text/plain": [
       "dict_keys(['roles', 'Entity Project', 'HC', 'timesheet'])"
      ]
     },
     "execution_count": 147,
     "metadata": {},
     "output_type": "execute_result"
    },
    {
     "name": "stdout",
     "output_type": "stream",
     "text": [
      "roles                shape:     9      rows \t and     5      columns\n",
      "Entity Project       shape:     48     rows \t and     15     columns\n",
      "HC                   shape:     35     rows \t and     6      columns\n",
      "timesheet            shape:    1792    rows \t and     14     columns\n"
     ]
    }
   ],
   "source": [
    "data.keys()\n",
    "for key in data.keys():\n",
    "    print(\"{:20} shape: {:^10} rows \\t and {:^10} columns\".format(key, *data[key].shape))\n",
    "    #data[key].head(5)"
   ]
  },
  {
   "cell_type": "code",
   "execution_count": 148,
   "metadata": {
    "colab": {},
    "colab_type": "code",
    "id": "8V50RSl4oj_w"
   },
   "outputs": [],
   "source": [
    "#hide\n",
    "\n",
    "#todo:separate"
   ]
  },
  {
   "cell_type": "markdown",
   "metadata": {},
   "source": [
    "## Data we loaded\n",
    "\n",
    "Let me summarize it here for you – in any decent firm, if you are a team leader or business unit manager you are involved in merit processes – you can get\n",
    "* Dictionaries\n",
    "    * Cost per region or default cost for “outside” contributors\n",
    "    * Average revenue per hour for projects not “owned” by you\n",
    "    "
   ]
  },
  {
   "cell_type": "code",
   "execution_count": 149,
   "metadata": {},
   "outputs": [
    {
     "data": {
      "text/html": [
       "<div>\n",
       "<style scoped>\n",
       "    .dataframe tbody tr th:only-of-type {\n",
       "        vertical-align: middle;\n",
       "    }\n",
       "\n",
       "    .dataframe tbody tr th {\n",
       "        vertical-align: top;\n",
       "    }\n",
       "\n",
       "    .dataframe thead th {\n",
       "        text-align: right;\n",
       "    }\n",
       "</style>\n",
       "<table border=\"1\" class=\"dataframe\">\n",
       "  <thead>\n",
       "    <tr style=\"text-align: right;\">\n",
       "      <th></th>\n",
       "      <th>Position</th>\n",
       "      <th>Level</th>\n",
       "      <th>EU</th>\n",
       "      <th>UK</th>\n",
       "      <th>CH</th>\n",
       "    </tr>\n",
       "    <tr>\n",
       "      <th>DEFAULT COSTS per ROLE and REGION (in $)</th>\n",
       "      <th></th>\n",
       "      <th></th>\n",
       "      <th></th>\n",
       "      <th></th>\n",
       "      <th></th>\n",
       "    </tr>\n",
       "  </thead>\n",
       "  <tbody>\n",
       "    <tr>\n",
       "      <th>DIRECTOR</th>\n",
       "      <td>DIR</td>\n",
       "      <td>SENIOR</td>\n",
       "      <td>1100</td>\n",
       "      <td>1300</td>\n",
       "      <td>1100</td>\n",
       "    </tr>\n",
       "    <tr>\n",
       "      <th>Program Manager</th>\n",
       "      <td>PRA</td>\n",
       "      <td>SEASONED</td>\n",
       "      <td>900</td>\n",
       "      <td>1000</td>\n",
       "      <td>900</td>\n",
       "    </tr>\n",
       "    <tr>\n",
       "      <th>Project Manager</th>\n",
       "      <td>PRO</td>\n",
       "      <td>SENIOR</td>\n",
       "      <td>800</td>\n",
       "      <td>800</td>\n",
       "      <td>800</td>\n",
       "    </tr>\n",
       "    <tr>\n",
       "      <th>Project Coordinator</th>\n",
       "      <td>PRO</td>\n",
       "      <td>SEASONED</td>\n",
       "      <td>700</td>\n",
       "      <td>700</td>\n",
       "      <td>700</td>\n",
       "    </tr>\n",
       "    <tr>\n",
       "      <th>Solution Architect</th>\n",
       "      <td>CON</td>\n",
       "      <td>EXPERT</td>\n",
       "      <td>900</td>\n",
       "      <td>1000</td>\n",
       "      <td>1050</td>\n",
       "    </tr>\n",
       "  </tbody>\n",
       "</table>\n",
       "</div>"
      ],
      "text/plain": [
       "                                         Position     Level    EU    UK    CH\n",
       "DEFAULT COSTS per ROLE and REGION (in $)                                     \n",
       "DIRECTOR                                      DIR    SENIOR  1100  1300  1100\n",
       "Program Manager                               PRA  SEASONED   900  1000   900\n",
       "Project Manager                               PRO    SENIOR   800   800   800\n",
       "Project Coordinator                           PRO  SEASONED   700   700   700\n",
       "Solution Architect                            CON    EXPERT   900  1000  1050"
      ]
     },
     "execution_count": 149,
     "metadata": {},
     "output_type": "execute_result"
    }
   ],
   "source": [
    "# show roles\n",
    "roles=data[\"roles\"]\n",
    "#here we'd need to stack it on last 3 countries, for now I've used \"EU\" but that's wrong\n",
    "roles.head()\n",
    "def_revenue = 1200\n",
    "def_cost = 850"
   ]
  },
  {
   "cell_type": "markdown",
   "metadata": {},
   "source": [
    "* HeadCount\n",
    "    * Graded costs\n",
    "    * Engagement model (employee or contractor)"
   ]
  },
  {
   "cell_type": "code",
   "execution_count": 150,
   "metadata": {},
   "outputs": [
    {
     "data": {
      "text/html": [
       "<div>\n",
       "<style scoped>\n",
       "    .dataframe tbody tr th:only-of-type {\n",
       "        vertical-align: middle;\n",
       "    }\n",
       "\n",
       "    .dataframe tbody tr th {\n",
       "        vertical-align: top;\n",
       "    }\n",
       "\n",
       "    .dataframe thead th {\n",
       "        text-align: right;\n",
       "    }\n",
       "</style>\n",
       "<table border=\"1\" class=\"dataframe\">\n",
       "  <thead>\n",
       "    <tr style=\"text-align: right;\">\n",
       "      <th></th>\n",
       "      <th>NAME</th>\n",
       "      <th>TYPE</th>\n",
       "      <th>Location</th>\n",
       "      <th>Position</th>\n",
       "      <th>Level</th>\n",
       "      <th>ID</th>\n",
       "      <th>EU</th>\n",
       "    </tr>\n",
       "  </thead>\n",
       "  <tbody>\n",
       "    <tr>\n",
       "      <th>0</th>\n",
       "      <td>JANE DOE</td>\n",
       "      <td>STAFF</td>\n",
       "      <td>CH</td>\n",
       "      <td>CON</td>\n",
       "      <td>SEASONED</td>\n",
       "      <td>1001</td>\n",
       "      <td>550</td>\n",
       "    </tr>\n",
       "    <tr>\n",
       "      <th>1</th>\n",
       "      <td>JOHN DOE</td>\n",
       "      <td>STAFF</td>\n",
       "      <td>PL</td>\n",
       "      <td>CON</td>\n",
       "      <td>JUNIOR</td>\n",
       "      <td>1002</td>\n",
       "      <td>500</td>\n",
       "    </tr>\n",
       "    <tr>\n",
       "      <th>2</th>\n",
       "      <td>JOHN SMITH</td>\n",
       "      <td>STAFF</td>\n",
       "      <td>CH</td>\n",
       "      <td>CON</td>\n",
       "      <td>SEASONED</td>\n",
       "      <td>1003</td>\n",
       "      <td>550</td>\n",
       "    </tr>\n",
       "    <tr>\n",
       "      <th>3</th>\n",
       "      <td>JACK THE MANAGER</td>\n",
       "      <td>CONTRACTOR</td>\n",
       "      <td>CH</td>\n",
       "      <td>PRO</td>\n",
       "      <td>SENIOR</td>\n",
       "      <td>1004</td>\n",
       "      <td>800</td>\n",
       "    </tr>\n",
       "    <tr>\n",
       "      <th>4</th>\n",
       "      <td>JOHN THE MANAGER</td>\n",
       "      <td>CONTRACTOR</td>\n",
       "      <td>CH</td>\n",
       "      <td>PRO</td>\n",
       "      <td>SENIOR</td>\n",
       "      <td>1005</td>\n",
       "      <td>800</td>\n",
       "    </tr>\n",
       "  </tbody>\n",
       "</table>\n",
       "</div>"
      ],
      "text/plain": [
       "               NAME        TYPE Location Position     Level    ID   EU\n",
       "0          JANE DOE       STAFF       CH      CON  SEASONED  1001  550\n",
       "1          JOHN DOE       STAFF       PL      CON    JUNIOR  1002  500\n",
       "2        JOHN SMITH       STAFF       CH      CON  SEASONED  1003  550\n",
       "3  JACK THE MANAGER  CONTRACTOR       CH      PRO    SENIOR  1004  800\n",
       "4  JOHN THE MANAGER  CONTRACTOR       CH      PRO    SENIOR  1005  800"
      ]
     },
     "execution_count": 150,
     "metadata": {},
     "output_type": "execute_result"
    }
   ],
   "source": [
    "#show head count\n",
    "headcount=data[\"HC\"]\n",
    "# todo: use stacked column instead of EU\n",
    "headcount = headcount.merge(roles[['Position','Level','EU']],how='left',left_on=['Level','Position'],right_on=['Level','Position'])\n",
    "headcount.head(n=5)"
   ]
  },
  {
   "cell_type": "markdown",
   "metadata": {},
   "source": [
    "* Projects\n",
    "    * Budget, effort estimate, deadline\n",
    "    * Project type (e.g. “On demand support” or “Subscription” will not have any actual deadline to control) - though it is ok if you don’t have it\n",
    "    * Type of revenue recognition (Time and Material or Fixed Fee)\n"
   ]
  },
  {
   "cell_type": "code",
   "execution_count": 21,
   "metadata": {},
   "outputs": [
    {
     "data": {
      "text/html": [
       "<div>\n",
       "<style scoped>\n",
       "    .dataframe tbody tr th:only-of-type {\n",
       "        vertical-align: middle;\n",
       "    }\n",
       "\n",
       "    .dataframe tbody tr th {\n",
       "        vertical-align: top;\n",
       "    }\n",
       "\n",
       "    .dataframe thead th {\n",
       "        text-align: right;\n",
       "    }\n",
       "</style>\n",
       "<table border=\"1\" class=\"dataframe\">\n",
       "  <thead>\n",
       "    <tr style=\"text-align: right;\">\n",
       "      <th></th>\n",
       "      <th>Client ID</th>\n",
       "      <th>Project ID</th>\n",
       "      <th>Project</th>\n",
       "      <th>PM</th>\n",
       "      <th>Client Region</th>\n",
       "      <th>Start</th>\n",
       "      <th>End</th>\n",
       "      <th>Funding</th>\n",
       "      <th>BASE RATE USD</th>\n",
       "      <th>TCV</th>\n",
       "      <th>Recognized\\nUSD</th>\n",
       "      <th>2017 effort</th>\n",
       "      <th>2018 effort</th>\n",
       "      <th>2019 effort</th>\n",
       "      <th>Jan 2020 Effort</th>\n",
       "    </tr>\n",
       "  </thead>\n",
       "  <tbody>\n",
       "    <tr>\n",
       "      <th>0</th>\n",
       "      <td>13154</td>\n",
       "      <td>68454</td>\n",
       "      <td>Medium consutancy 1</td>\n",
       "      <td>SUSAN THE MANAGER</td>\n",
       "      <td>Europe</td>\n",
       "      <td>2019-01-16 08:00:00</td>\n",
       "      <td>2020-07-22 14:00:00</td>\n",
       "      <td>Time and Materials</td>\n",
       "      <td>1200</td>\n",
       "      <td>39,000 EUR</td>\n",
       "      <td>41540.0800</td>\n",
       "      <td>0</td>\n",
       "      <td>0.0</td>\n",
       "      <td>180.5</td>\n",
       "      <td>21.50</td>\n",
       "    </tr>\n",
       "    <tr>\n",
       "      <th>1</th>\n",
       "      <td>2764</td>\n",
       "      <td>70285</td>\n",
       "      <td>Our biggest project</td>\n",
       "      <td>EXT 6a8e0ca747</td>\n",
       "      <td>Europe</td>\n",
       "      <td>2019-10-01 08:00:00</td>\n",
       "      <td>2021-04-30 11:00:00</td>\n",
       "      <td>Time and Materials</td>\n",
       "      <td>1200</td>\n",
       "      <td>1,450,999 USD</td>\n",
       "      <td>473002.0800</td>\n",
       "      <td>0</td>\n",
       "      <td>0.0</td>\n",
       "      <td>1241.5</td>\n",
       "      <td>458.25</td>\n",
       "    </tr>\n",
       "    <tr>\n",
       "      <th>2</th>\n",
       "      <td>12916</td>\n",
       "      <td>68093</td>\n",
       "      <td>Upgrade to new version</td>\n",
       "      <td>TIM THE LEAVER</td>\n",
       "      <td>Europe</td>\n",
       "      <td>2018-09-28 08:00:00</td>\n",
       "      <td>2020-04-27 17:00:00</td>\n",
       "      <td>Fixed Fee</td>\n",
       "      <td>1200</td>\n",
       "      <td>127,500 EUR</td>\n",
       "      <td>142411.5533</td>\n",
       "      <td>0</td>\n",
       "      <td>0.0</td>\n",
       "      <td>0.0</td>\n",
       "      <td>0.00</td>\n",
       "    </tr>\n",
       "    <tr>\n",
       "      <th>3</th>\n",
       "      <td>12916</td>\n",
       "      <td>68094</td>\n",
       "      <td>Small change on top of upgrade</td>\n",
       "      <td>JOHN THE MANAGER</td>\n",
       "      <td>Europe</td>\n",
       "      <td>2018-09-28 08:00:00</td>\n",
       "      <td>2020-05-11 17:00:00</td>\n",
       "      <td>Time and Materials</td>\n",
       "      <td>1200</td>\n",
       "      <td>12,500 EUR</td>\n",
       "      <td>0.0000</td>\n",
       "      <td>0</td>\n",
       "      <td>0.0</td>\n",
       "      <td>0.0</td>\n",
       "      <td>0.00</td>\n",
       "    </tr>\n",
       "    <tr>\n",
       "      <th>4</th>\n",
       "      <td>18933</td>\n",
       "      <td>68726</td>\n",
       "      <td>Transition from another product</td>\n",
       "      <td>JANE THE MANAGER</td>\n",
       "      <td>Europe</td>\n",
       "      <td>2019-03-01 08:00:00</td>\n",
       "      <td>2020-05-27 16:00:00</td>\n",
       "      <td>Fixed Fee</td>\n",
       "      <td>1200</td>\n",
       "      <td>143,250 EUR</td>\n",
       "      <td>132677.3616</td>\n",
       "      <td>0</td>\n",
       "      <td>0.0</td>\n",
       "      <td>525.5</td>\n",
       "      <td>5.00</td>\n",
       "    </tr>\n",
       "  </tbody>\n",
       "</table>\n",
       "</div>"
      ],
      "text/plain": [
       "   Client ID  Project ID                          Project                 PM  \\\n",
       "0      13154       68454              Medium consutancy 1  SUSAN THE MANAGER   \n",
       "1       2764       70285              Our biggest project     EXT 6a8e0ca747   \n",
       "2      12916       68093           Upgrade to new version     TIM THE LEAVER   \n",
       "3      12916       68094   Small change on top of upgrade   JOHN THE MANAGER   \n",
       "4      18933       68726  Transition from another product   JANE THE MANAGER   \n",
       "\n",
       "  Client Region               Start                 End             Funding  \\\n",
       "0        Europe 2019-01-16 08:00:00 2020-07-22 14:00:00  Time and Materials   \n",
       "1        Europe 2019-10-01 08:00:00 2021-04-30 11:00:00  Time and Materials   \n",
       "2        Europe 2018-09-28 08:00:00 2020-04-27 17:00:00           Fixed Fee   \n",
       "3        Europe 2018-09-28 08:00:00 2020-05-11 17:00:00  Time and Materials   \n",
       "4        Europe 2019-03-01 08:00:00 2020-05-27 16:00:00           Fixed Fee   \n",
       "\n",
       "   BASE RATE USD            TCV  Recognized\\nUSD  2017 effort  2018 effort  \\\n",
       "0           1200     39,000 EUR       41540.0800            0          0.0   \n",
       "1           1200  1,450,999 USD      473002.0800            0          0.0   \n",
       "2           1200    127,500 EUR      142411.5533            0          0.0   \n",
       "3           1200     12,500 EUR           0.0000            0          0.0   \n",
       "4           1200    143,250 EUR      132677.3616            0          0.0   \n",
       "\n",
       "   2019 effort  Jan 2020 Effort  \n",
       "0        180.5            21.50  \n",
       "1       1241.5           458.25  \n",
       "2          0.0             0.00  \n",
       "3          0.0             0.00  \n",
       "4        525.5             5.00  "
      ]
     },
     "execution_count": 21,
     "metadata": {},
     "output_type": "execute_result"
    }
   ],
   "source": [
    "# show projects\n",
    "projects = data[\"Entity Project\"]\n",
    "projects.head(n=5)"
   ]
  },
  {
   "cell_type": "markdown",
   "metadata": {},
   "source": [
    "* Timesheets (your team / your projects, note that other teams can contribute to your projects and your team might work in other projects) \n",
    "    * Typically arrive monthly or weekly\n",
    "(optional) Plans\n",
    "    * If there are no plans, below we talk about an option to “plan auto-fill”\n",
    "\n",
    "But your ERP probably does not present you anything nicely in terms of parameters you’d want to control on your level  (otherwise you won’t read this anyway). There is even maybe a project running so it will do so by 2025. \n",
    "If you are steering this boat long enough – you might have ended up with some quick and dirty calculation, SQL queries to SAP (with field names still in German) or Excel file. Why? Because, well, your bosses don’t give a shit – they already hired you and a better ERP is coming in 2025 anyway – so they want to know how much money your team makes and why is it not so profitable (because it never is)"
   ]
  },
  {
   "cell_type": "code",
   "execution_count": 22,
   "metadata": {},
   "outputs": [
    {
     "data": {
      "text/html": [
       "<div>\n",
       "<style scoped>\n",
       "    .dataframe tbody tr th:only-of-type {\n",
       "        vertical-align: middle;\n",
       "    }\n",
       "\n",
       "    .dataframe tbody tr th {\n",
       "        vertical-align: top;\n",
       "    }\n",
       "\n",
       "    .dataframe thead th {\n",
       "        text-align: right;\n",
       "    }\n",
       "</style>\n",
       "<table border=\"1\" class=\"dataframe\">\n",
       "  <thead>\n",
       "    <tr style=\"text-align: right;\">\n",
       "      <th></th>\n",
       "      <th>Project</th>\n",
       "      <th>Activity</th>\n",
       "      <th>Billing</th>\n",
       "      <th>User</th>\n",
       "      <th>Period Starting</th>\n",
       "      <th>Effort Type</th>\n",
       "      <th>Total (Days)</th>\n",
       "      <th>Sun</th>\n",
       "      <th>Mon</th>\n",
       "      <th>Tue</th>\n",
       "      <th>Wed</th>\n",
       "      <th>Thu</th>\n",
       "      <th>Fri</th>\n",
       "      <th>Sat</th>\n",
       "    </tr>\n",
       "  </thead>\n",
       "  <tbody>\n",
       "    <tr>\n",
       "      <th>0</th>\n",
       "      <td>PRJ d41d8cd98f</td>\n",
       "      <td>Consultancy</td>\n",
       "      <td>Billable</td>\n",
       "      <td>EXT 800982ab08</td>\n",
       "      <td>2020-02-02</td>\n",
       "      <td>Actual</td>\n",
       "      <td>2.5</td>\n",
       "      <td>0.0</td>\n",
       "      <td>0.5</td>\n",
       "      <td>0.5</td>\n",
       "      <td>0.5</td>\n",
       "      <td>0.5</td>\n",
       "      <td>0.5</td>\n",
       "      <td>0.0</td>\n",
       "    </tr>\n",
       "    <tr>\n",
       "      <th>1</th>\n",
       "      <td>PRJ d41d8cd98f</td>\n",
       "      <td>Consultancy</td>\n",
       "      <td>Billable</td>\n",
       "      <td>EXT c8c92ca432</td>\n",
       "      <td>2020-02-02</td>\n",
       "      <td>Actual</td>\n",
       "      <td>2.5</td>\n",
       "      <td>0.0</td>\n",
       "      <td>0.5</td>\n",
       "      <td>0.5</td>\n",
       "      <td>0.5</td>\n",
       "      <td>0.5</td>\n",
       "      <td>0.5</td>\n",
       "      <td>0.0</td>\n",
       "    </tr>\n",
       "    <tr>\n",
       "      <th>2</th>\n",
       "      <td>PRJ d41d8cd98f</td>\n",
       "      <td>Consultancy</td>\n",
       "      <td>Billable</td>\n",
       "      <td>EXT c8c92ca432</td>\n",
       "      <td>2020-02-09</td>\n",
       "      <td>Actual</td>\n",
       "      <td>2.5</td>\n",
       "      <td>0.0</td>\n",
       "      <td>0.5</td>\n",
       "      <td>0.5</td>\n",
       "      <td>0.5</td>\n",
       "      <td>0.5</td>\n",
       "      <td>0.5</td>\n",
       "      <td>0.0</td>\n",
       "    </tr>\n",
       "    <tr>\n",
       "      <th>3</th>\n",
       "      <td>PRJ d41d8cd98f</td>\n",
       "      <td>Consultancy</td>\n",
       "      <td>Billable</td>\n",
       "      <td>EXT 800982ab08</td>\n",
       "      <td>2020-02-09</td>\n",
       "      <td>Actual</td>\n",
       "      <td>2.5</td>\n",
       "      <td>0.0</td>\n",
       "      <td>0.5</td>\n",
       "      <td>0.5</td>\n",
       "      <td>0.5</td>\n",
       "      <td>0.5</td>\n",
       "      <td>0.5</td>\n",
       "      <td>0.0</td>\n",
       "    </tr>\n",
       "    <tr>\n",
       "      <th>4</th>\n",
       "      <td>PRJ d41d8cd98f</td>\n",
       "      <td>Consultancy</td>\n",
       "      <td>Billable</td>\n",
       "      <td>EXT c8c92ca432</td>\n",
       "      <td>2020-02-16</td>\n",
       "      <td>Actual</td>\n",
       "      <td>2.5</td>\n",
       "      <td>0.0</td>\n",
       "      <td>0.5</td>\n",
       "      <td>0.5</td>\n",
       "      <td>0.5</td>\n",
       "      <td>0.5</td>\n",
       "      <td>0.5</td>\n",
       "      <td>0.0</td>\n",
       "    </tr>\n",
       "  </tbody>\n",
       "</table>\n",
       "</div>"
      ],
      "text/plain": [
       "          Project     Activity   Billing            User Period Starting  \\\n",
       "0  PRJ d41d8cd98f  Consultancy  Billable  EXT 800982ab08      2020-02-02   \n",
       "1  PRJ d41d8cd98f  Consultancy  Billable  EXT c8c92ca432      2020-02-02   \n",
       "2  PRJ d41d8cd98f  Consultancy  Billable  EXT c8c92ca432      2020-02-09   \n",
       "3  PRJ d41d8cd98f  Consultancy  Billable  EXT 800982ab08      2020-02-09   \n",
       "4  PRJ d41d8cd98f  Consultancy  Billable  EXT c8c92ca432      2020-02-16   \n",
       "\n",
       "  Effort Type  Total (Days)  Sun  Mon  Tue  Wed  Thu  Fri  Sat  \n",
       "0      Actual           2.5  0.0  0.5  0.5  0.5  0.5  0.5  0.0  \n",
       "1      Actual           2.5  0.0  0.5  0.5  0.5  0.5  0.5  0.0  \n",
       "2      Actual           2.5  0.0  0.5  0.5  0.5  0.5  0.5  0.0  \n",
       "3      Actual           2.5  0.0  0.5  0.5  0.5  0.5  0.5  0.0  \n",
       "4      Actual           2.5  0.0  0.5  0.5  0.5  0.5  0.5  0.0  "
      ]
     },
     "execution_count": 22,
     "metadata": {},
     "output_type": "execute_result"
    }
   ],
   "source": [
    "# show timesheets\n",
    "\n",
    "timesheet=data[\"timesheet\"]\n",
    "timesheet.head(n=5)"
   ]
  },
  {
   "cell_type": "markdown",
   "metadata": {},
   "source": [
    "Next we are going to create a timeseries out of timesheets which is a bit more involved so you can skip it for now and come back to it later, but the points it that at the end you will get a nice monthly pandas Dataframe that looks like this"
   ]
  },
  {
   "cell_type": "code",
   "execution_count": 23,
   "metadata": {
    "scrolled": false
   },
   "outputs": [],
   "source": [
    "#collapse\n",
    "\n",
    "#collapse\n",
    "dd=[]\n",
    "timesheet['Period Starting'] = pd.to_datetime(timesheet['Period Starting'])\n",
    "weekdays = ['Sun', 'Mon', 'Tue', 'Wed', 'Thu', 'Fri', 'Sat'] \n",
    "for i, weekday in enumerate(weekdays):\n",
    "    columns = [col for col in timesheet if col not in weekdays or col==weekday]\n",
    "    tmp = timesheet[columns].copy() #dmytro todo: port backward\n",
    "    tmp = tmp.rename(columns={weekday: 'effort'})\n",
    "    tmp['date'] = tmp['Period Starting']+pd.to_timedelta('{}D'.format(i)) #dmytro todo: check period starting offset logic\n",
    "    tmp['weekday'] = weekday\n",
    "    tmp = tmp.drop(['Period Starting','Total (Days)'],axis=1)\n",
    "    dd +=[tmp]\n",
    "\n",
    "timeseries = pd.concat(dd,sort=False).sort_values(['User','date'])\n",
    "timeseries = timeseries.reset_index().drop('index',axis=1)\n",
    "timeseries['date'] = pd.to_datetime(timeseries['date']).astype('str')\n",
    "timeseries['month'] = timeseries['date'].str[:7] # dmytro todo: maybe improve date, month stylistics \n",
    "timeseries['weekend'] = timeseries['weekday'].apply(lambda x: x in ['Sun','Sat'])\n",
    "timeseries['workweek'] = timeseries['weekday'].apply(lambda x: x not in ['Sun','Sat'])\n",
    "#timeseries['month']\n",
    "#dmytro todo: clean almost null rows"
   ]
  },
  {
   "cell_type": "code",
   "execution_count": 24,
   "metadata": {},
   "outputs": [],
   "source": [
    "#timeseries_wide = timeseries.groupby(list(timeseries.columns.drop('effort'))[:2])['effort'].sum()\n",
    "#.unstack('date').reset_index().fillna(0)\n",
    "#timeseries_wide"
   ]
  },
  {
   "cell_type": "code",
   "execution_count": 25,
   "metadata": {},
   "outputs": [],
   "source": [
    "#timeseries.groupby('User')['effort'].sum()#.unstack('date').reset_index().fillna(0)"
   ]
  },
  {
   "cell_type": "markdown",
   "metadata": {},
   "source": [
    "## Profitability\n",
    "\n",
    "Let me bore you for a minute. You can skip this part if above was self-explanatory to you. Timesheets and projects budgets are simple. You are probably frightened by IFRS revenue recognition and all that – that’s why your CFO has a nice corner office and you don’t, right. Fortunately, there is a simpler thing called Managerial Accounting. \n",
    "So, profit is Revenue – Cost and we intend to measure by it and keep it simple. \n",
    "\n",
    "**Revenue**: Let’s say that for a Time & Material project you generate as much revenue as you bill (on agreed rate) up to its budget. For a Fixed Fee you split all the revenue per month as per % of effort you spend / are going to spend in the month (changes can be complicated, but they are easy to be managed in the way you want – just go through introduction and wait for the notebook we promised)"
   ]
  },
  {
   "cell_type": "code",
   "execution_count": 110,
   "metadata": {},
   "outputs": [
    {
     "data": {
      "text/html": [
       "<div>\n",
       "<style scoped>\n",
       "    .dataframe tbody tr th:only-of-type {\n",
       "        vertical-align: middle;\n",
       "    }\n",
       "\n",
       "    .dataframe tbody tr th {\n",
       "        vertical-align: top;\n",
       "    }\n",
       "\n",
       "    .dataframe thead th {\n",
       "        text-align: right;\n",
       "    }\n",
       "</style>\n",
       "<table border=\"1\" class=\"dataframe\">\n",
       "  <thead>\n",
       "    <tr style=\"text-align: right;\">\n",
       "      <th>month</th>\n",
       "      <th>2020-02</th>\n",
       "      <th>2020-03</th>\n",
       "      <th>2020-04</th>\n",
       "    </tr>\n",
       "    <tr>\n",
       "      <th>User</th>\n",
       "      <th></th>\n",
       "      <th></th>\n",
       "      <th></th>\n",
       "    </tr>\n",
       "  </thead>\n",
       "  <tbody>\n",
       "    <tr>\n",
       "      <th>CATTY THE NEW MANAGER</th>\n",
       "      <td>11550.00</td>\n",
       "      <td>19350.0</td>\n",
       "      <td>9412.5</td>\n",
       "    </tr>\n",
       "    <tr>\n",
       "      <th>EXT 08a7eee3f6</th>\n",
       "      <td>14056.25</td>\n",
       "      <td>4850.0</td>\n",
       "      <td>3612.5</td>\n",
       "    </tr>\n",
       "    <tr>\n",
       "      <th>EXT 243a5f992e</th>\n",
       "      <td>7800.00</td>\n",
       "      <td>7500.0</td>\n",
       "      <td>9450.0</td>\n",
       "    </tr>\n",
       "    <tr>\n",
       "      <th>EXT 29fc29214e</th>\n",
       "      <td>4350.00</td>\n",
       "      <td>13200.0</td>\n",
       "      <td>3600.0</td>\n",
       "    </tr>\n",
       "    <tr>\n",
       "      <th>EXT 2fbb35eab7</th>\n",
       "      <td>24000.00</td>\n",
       "      <td>28480.0</td>\n",
       "      <td>26240.0</td>\n",
       "    </tr>\n",
       "  </tbody>\n",
       "</table>\n",
       "</div>"
      ],
      "text/plain": [
       "month                   2020-02  2020-03  2020-04\n",
       "User                                             \n",
       "CATTY THE NEW MANAGER  11550.00  19350.0   9412.5\n",
       "EXT 08a7eee3f6         14056.25   4850.0   3612.5\n",
       "EXT 243a5f992e          7800.00   7500.0   9450.0\n",
       "EXT 29fc29214e          4350.00  13200.0   3600.0\n",
       "EXT 2fbb35eab7         24000.00  28480.0  26240.0"
      ]
     },
     "execution_count": 110,
     "metadata": {},
     "output_type": "execute_result"
    }
   ],
   "source": [
    "# revenue calculation for a person for a month (SUM REV of all timesheet records * corresp project rates)\n",
    "revenue_df = timeseries[['User','Project','Billing','effort','date','month']].merge(projects[['Project','BASE RATE USD']],how='left',on='Project')\n",
    "revenue_df['BASE RATE USD'] = revenue_df['BASE RATE USD'].fillna(def_revenue)\n",
    "# Dmytro check - Max added the billable flag control below\n",
    "revenue_df = revenue_df.where(revenue_df['Billing']=='Billable').dropna()\n",
    "revenue_df['daily_revenue'] = revenue_df['BASE RATE USD'] * revenue_df['effort']\n",
    "revenue = revenue_df.groupby(['User','month'])['daily_revenue'].sum().unstack().fillna(0)\n",
    "revenue = revenue[revenue.sum(1)>0]\n",
    "revenue.head()\n",
    "#revenue_df.effort.sum()\n",
    "#revenue.shape\n",
    "#revenue.sum()\n",
    "#dmytro todo: check null effort, do smart groupby"
   ]
  },
  {
   "cell_type": "markdown",
   "metadata": {},
   "source": [
    "**Cost**: So, let’s start with the fact that the average cost of \\\\$800 (or whatever) is bullshit. You might have people working in different countries and of totally different levels. Talk to your finance team and get some estimates from them (or make it together). We’d say if you were appointed to run a team or business unit – they owe you that much. We will assume below that you managed to get 3 grades (Associate, Base, Senior) per Country you have staff. Though costs per individual will go nicely also. Let's calculate direct cost (here we check the cost of effort posted on timesheets, presuming they are full - can check per number of working days in a month also). We are not interesting by external resources, so we'll filter them out"
   ]
  },
  {
   "cell_type": "code",
   "execution_count": 124,
   "metadata": {},
   "outputs": [],
   "source": [
    "#headcount.head()"
   ]
  },
  {
   "cell_type": "code",
   "execution_count": 125,
   "metadata": {},
   "outputs": [
    {
     "data": {
      "text/html": [
       "<div>\n",
       "<style scoped>\n",
       "    .dataframe tbody tr th:only-of-type {\n",
       "        vertical-align: middle;\n",
       "    }\n",
       "\n",
       "    .dataframe tbody tr th {\n",
       "        vertical-align: top;\n",
       "    }\n",
       "\n",
       "    .dataframe thead th {\n",
       "        text-align: right;\n",
       "    }\n",
       "</style>\n",
       "<table border=\"1\" class=\"dataframe\">\n",
       "  <thead>\n",
       "    <tr style=\"text-align: right;\">\n",
       "      <th>month</th>\n",
       "      <th>2020-02</th>\n",
       "      <th>2020-03</th>\n",
       "      <th>2020-04</th>\n",
       "    </tr>\n",
       "    <tr>\n",
       "      <th>User</th>\n",
       "      <th></th>\n",
       "      <th></th>\n",
       "      <th></th>\n",
       "    </tr>\n",
       "  </thead>\n",
       "  <tbody>\n",
       "    <tr>\n",
       "      <th>CATTY THE NEW MANAGER</th>\n",
       "      <td>5362.50</td>\n",
       "      <td>11343.75</td>\n",
       "      <td>9332.8125</td>\n",
       "    </tr>\n",
       "    <tr>\n",
       "      <th>FRANK THE CONSTULANT</th>\n",
       "      <td>7700.00</td>\n",
       "      <td>8662.50</td>\n",
       "      <td>7768.7500</td>\n",
       "    </tr>\n",
       "    <tr>\n",
       "      <th>IVAN THE PROGRAMMER</th>\n",
       "      <td>11481.25</td>\n",
       "      <td>12925.00</td>\n",
       "      <td>11618.7500</td>\n",
       "    </tr>\n",
       "    <tr>\n",
       "      <th>JACK THE EXPERT</th>\n",
       "      <td>18750.00</td>\n",
       "      <td>20350.00</td>\n",
       "      <td>17100.0000</td>\n",
       "    </tr>\n",
       "    <tr>\n",
       "      <th>JACK THE MANAGER</th>\n",
       "      <td>11800.00</td>\n",
       "      <td>10900.00</td>\n",
       "      <td>9600.0000</td>\n",
       "    </tr>\n",
       "  </tbody>\n",
       "</table>\n",
       "</div>"
      ],
      "text/plain": [
       "month                   2020-02   2020-03     2020-04\n",
       "User                                                 \n",
       "CATTY THE NEW MANAGER   5362.50  11343.75   9332.8125\n",
       "FRANK THE CONSTULANT    7700.00   8662.50   7768.7500\n",
       "IVAN THE PROGRAMMER    11481.25  12925.00  11618.7500\n",
       "JACK THE EXPERT        18750.00  20350.00  17100.0000\n",
       "JACK THE MANAGER       11800.00  10900.00   9600.0000"
      ]
     },
     "execution_count": 125,
     "metadata": {},
     "output_type": "execute_result"
    }
   ],
   "source": [
    "# cost calculation for a project (SUM COST of all timesheet records * corresp cost rates - see roles)\n",
    "# dmytro todo: apply this to timeseries\n",
    "\n",
    "cost_df = timeseries[['User','Project','effort','date','month']].merge(headcount[['NAME','EU']],how='left',left_on='User',right_on='NAME')\n",
    "\n",
    "cost_df['EU'] = cost_df['EU'].fillna(def_cost)\n",
    "# todo: Dmytro - anything simpler to remove all starting with \"EXT\"\n",
    "cost_df = cost_df.where(cost_df['User'].map(lambda x: x[:3]!='EXT')).dropna()\n",
    "cost_df['daily_cost'] = cost_df['EU'] * cost_df['effort']\n",
    "cost = cost_df.groupby(['User','month'])['daily_cost'].sum().unstack().fillna(0)\n",
    "cost = cost[cost.sum(1)>0]\n",
    "cost.head()\n",
    "# cost_df.effort.sum()\n",
    "# cost.shape\n",
    "# cost.sum()\n",
    "#dmytro todo: check null effort, do smart groupby"
   ]
  },
  {
   "cell_type": "markdown",
   "metadata": {},
   "source": [
    "## More compex stuff\n",
    "\n",
    "Now let's actually show how to apply data science to data you've seen above\n",
    "\n",
    "Let's start with a chart on how effort is spent"
   ]
  },
  {
   "cell_type": "code",
   "execution_count": 108,
   "metadata": {},
   "outputs": [],
   "source": [
    "# Effort on the project per month"
   ]
  },
  {
   "cell_type": "markdown",
   "metadata": {},
   "source": [
    "Indeed, you can make it clickable so you can click on the bar and zoom in (it is more then 10 lines, so we will hide the code)"
   ]
  },
  {
   "cell_type": "code",
   "execution_count": 20,
   "metadata": {},
   "outputs": [],
   "source": [
    "# (Max) Interactive chart (bar chart effort per month, on click - effort in given month per person)\n",
    "# Make it working\n",
    "'''\n",
    "%matplotlib notebook\n",
    "import matplotlib.pyplot as plt\n",
    "import matplotlib.patches as mpatches\n",
    "\n",
    "plt.figure()\n",
    "\n",
    "# setting colors list for bars depending on value\n",
    "def get_colors(v):\n",
    "    colors = []\n",
    "    for i in range(1992,1996):\n",
    "        color = \"green\"\n",
    "        if (bars.loc[i][\"high\"] < v):\n",
    "            color = \"blue\"\n",
    "        if (bars.loc[i][\"low\"] > v):\n",
    "            color = \"red\"\n",
    "        colors.append(color)\n",
    "    return colors   \n",
    "\n",
    "# replot. isdef = if it is called before any click\n",
    "def plt_all(isdef, yvalue):\n",
    "    if isdef:\n",
    "        bcolors = \"white\"\n",
    "        xtitle = 'Value is'\n",
    "    else:\n",
    "        #draw a line and set colors\n",
    "        plt.plot([1991.5,1995.5], [yvalue,yvalue], color=\"black\",alpha=0.5)\n",
    "        bcolors = get_colors(yvalue)\n",
    "        xtitle = '{:.0f} is'.format(yvalue)\n",
    "    plt.bar(bars.index.tolist(), bars[\"mean\"], color=bcolors, yerr=bars[\"delta\"], width = 1, align='center', alpha=0.5, ecolor='black', capsize=10, edgecolor='black')\n",
    "    plt.xticks(np.arange(1992, 1996, step=1))\n",
    "    red_patch = mpatches.Patch(color='red', label='below')\n",
    "    blue_patch = mpatches.Patch(color='blue', label='above')\n",
    "    green_patch = mpatches.Patch(color='green', label='inside')\n",
    "    plt.legend(handles=[red_patch,green_patch,blue_patch],loc='upper left',\n",
    "           title = xtitle,fontsize=7)\n",
    "    plt.gca().set_title('Click on the plot to validate confidence intervals')\n",
    "\n",
    "plt_all(True,0.0)\n",
    "\n",
    "def onclick(event):\n",
    "    plt.cla()\n",
    "    plt_all(False,event.ydata)\n",
    "\n",
    "plt.gcf().canvas.mpl_connect('button_press_event', onclick)"
   ]
  },
  {
   "cell_type": "markdown",
   "metadata": {},
   "source": [
    "Ok, as a Team Leader you might not do that. Sorry. Let's get some calculations done. First, let's identify \"suspicios\" behaviors (e.g. a person who has more then 5 days in a row same effort on a given project and it is not 8 hours) - this is a quick check you do yourself, without asking PMO anything and making this official"
   ]
  },
  {
   "cell_type": "code",
   "execution_count": 21,
   "metadata": {},
   "outputs": [],
   "source": [
    "# Simple anomalies detection\n",
    "# TODO: call for action, intro to next paper"
   ]
  },
  {
   "cell_type": "markdown",
   "metadata": {},
   "source": [
    "## Use cases\n",
    "\n",
    "Few cases we identified when this data is helpfull\n",
    "\n",
    "* Decision making - e.g. identify top loss-making projects\n",
    "* Identify projects which require management attention\n",
    "* Identify top performers (profit-wise)\n",
    "* Identify non-billable hours and internal projects\n",
    "* Identify suspicious behaviours (we will write another post about it)\n",
    "    * Employee enters fixed hours per project per day over a period\n",
    "    * Anomaly detection\n",
    "* Revenue and effort projections\n",
    "* Capacity calculations: load all data but plans and generate automated projection (effort * person * month / revenue * month)\n",
    "* Create consolidated analytic on demand for higher level of management (e.g. profitability forecast, revenue forecast, unallocated capacity) in case your ERP will not do anything like that\n",
    "    * Example: crisis cost saving - if you decrease hours for some contractors, how much cost do you save vs how much revenue to you lose\n",
    "\n",
    "But, that's not the point. The point is that loading your own data (excel, csv, tex - whatever) is simple and manipulating it is also simple - definetely simpler then doing it in numerous excel files and faster then waiting for PMOs. "
   ]
  },
  {
   "cell_type": "markdown",
   "metadata": {
    "colab_type": "text",
    "id": "6nRMj29CmI_D"
   },
   "source": [
    "Below code is to be moved inside and removed\n",
    "\n",
    "# Grouping data"
   ]
  },
  {
   "cell_type": "code",
   "execution_count": null,
   "metadata": {},
   "outputs": [],
   "source": []
  }
 ],
 "metadata": {
  "colab": {
   "name": "2020-05-19_Simple_Intro.ipynb",
   "provenance": []
  },
  "kernelspec": {
   "display_name": "Python 3",
   "language": "python",
   "name": "python3"
  },
  "language_info": {
   "codemirror_mode": {
    "name": "ipython",
    "version": 3
   },
   "file_extension": ".py",
   "mimetype": "text/x-python",
   "name": "python",
   "nbconvert_exporter": "python",
   "pygments_lexer": "ipython3",
   "version": "3.7.6"
  }
 },
 "nbformat": 4,
 "nbformat_minor": 1
}
