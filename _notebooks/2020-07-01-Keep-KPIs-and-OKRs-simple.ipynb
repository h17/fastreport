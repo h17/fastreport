{
 "cells": [
  {
   "cell_type": "markdown",
   "metadata": {
    "colab_type": "text",
    "id": "Xwsupk0kS6d7"
   },
   "source": [
    "# Measuring organizational performance explained for The Game of Thrones\n",
    "> \"In this article we will look at what are KPIs, OKRs and MBOs while measuring performance of The Night's Watch\"\n",
    "\n",
    "- author: <a href=http://maximk.com//>Maxim Korotkov</a> \n",
    "- categories: [business, management, kpi, gameofthrones]\n",
    "- image: images/pixabay-game-of-thrones-4180794_640.jpg\n",
    "- permalink: /kpisandokrs/\n",
    "- hide: true"
   ]
  },
  {
   "cell_type": "markdown",
   "metadata": {},
   "source": [
    "KPI, OKR, MBO, etc. Managers seem to like 3-letter abbreviations. Let's make them easy to remember. So, what is a Key Performance Indicator (KPI)? KPI's have been here for ages, and they are just about setting up quantifiable parameters objectives and measuring those. What parameter can be measured when we look at Battle of the Blackwater (from the side of Cercei Lannister, she seems more profound in management techniques)? If you don't know what I'm talking about, I suggest you close the article right here - otherwise, read on. So let's look first at the parameter she is interested in - it is the percentage of Stannis Baratheon ships destroyed by the wildfire. It is an essential parameter for the protecting army in King's Landing. And it is nicely cascaded downwards. The group target is to destroy all ships with wildfire, while the actual result is slightly lower. \n",
    "\n",
    "![Battle of the Blackwater](img/greenboard-00.jpg)\n",
    "\n",
    "Can this one be a Key Performance Indicator for your organization? Unless you run such battles on a recurrent basic (and they didn't do that even in Seven Kingdoms) - I would typically not refer to it as a KPI. Because you would like to use KPIs to monitor organization performance and improve it over periods, and this one is one-off. You can have Project KPIs, but I suggest sticking with the name Project Metric. Advanced reader note - names do not matter. You can have project KPIs in your organization. What matters is that you don't confuse different managerial tools and use them only for what they are. Project Metrics are parameters set on a project level, measured throughout its execution, and reviewed at project retrospective or lessons learned. \n",
    "\n",
    "Let's move to the North and set some KPIs for Night's Watch. Quickly for those who've forgotten: there are Seven Kingdoms, and The Wall built 8000 years ago. North or the Wall, there are bad things - wildling, giants, White Walkers maybe. The Night's Watch aims to \"hold and guard the Wall to keep the wildlings and White Walkers from crossing into the Seven Kingdoms\" (from gameofthrones.fandom.com). So, the KPIs:  \n",
    "\n",
    "![KPIs of Nights Watch](img/greenboard-01.jpg)\n",
    "\n",
    "Is this a set of KPIs for The Night's Watch organization? Yes. \n",
    "\n",
    "Do organizations need KPIs? Yes, especially the bigger ones. The larger organization is, the more it will get focused on KPIs. How do you get your KPIs? You know your department aim: Consultancy unit aim is to generate Profit by delivering Professional Services, While Watch aims to kill wildling and White Walkers. Then you set up a measurement system to capture this performance and cascade it—pure, straightforward, top-down.\n",
    "\n",
    "Now, you are a Lord Commander sitting in Castle Black, and you need to cascade the KPIs we've mentioned above. Are they perfect ones? Think of them for a second. How will you measure it and make it transparent? You are a new generation Lord Commander and are setting up bonuses for your Leadership Team. The Oath says \"Night gathers, and now my watch begins. It shall not end until my death. I shall take no wife, hold no lands, father no children. I shall wear no crowns and win no glory. I shall live and die at my post...\" but there is nothing about \"I shall take not performance-based yearly bonus\" (even the opposite - Benjen Stark, The First Ranger, said \"Here, a man gets what he earns, when he earns it.\"). Can you set up a yearly bonus based on the parameters above and reflecting your leaders' performance? Let's focus on Rangers first (they fight, defend the Wall, and patrol the Haunted Forest). Well, if you just take numbers above, every leader gets the same KPI. Moreover, how do you know how many White Walkers are out there? Adjustment required.\n",
    "\n",
    "You get some ale, think, and develop a KPI cascade. You end up with individual KPIs like:\n",
    "\n",
    "![KPI Cascade](img/greenboard-02.jpg)\n",
    "\n",
    "The second KPI is loosely aligned with the organizational objective, and that's what typically happens in organizations. Leadership KPIs are based on their team averages (60% of bonus) and organization KPIs (60% of bonus). So, years pass, and your team knows that their yearly bonus depends on those KPIs. You get different types of performers. Some are idealistic and do trust in your Vision Statement (\"I am the sword in the darkness. I am the watcher on the walls. I am the shield that guards the realms of men.\"), but most aren't. For those, you observe two behaviors (or a combination of both). Some rangers will go to patrol, take some ale (should we prohibit it during working hours?), and camp a few miles outside. They get raid KPIs high, and Leadership closes its eyes on that - because their bonus goes up. Some will want to be heroes and go kill wildlings in crazy numbers, doing a lot of overtime (that's not what you've wanted, but it helps to promote the company image and hire recruits). Some will raid into the North, kill villagers and present them as wildlings. If you find out, you classify it as not-compliance and apply sanctions (up to execution).\n",
    "\n",
    "And such an organization works well as long as times are not too turbulent. How? Your individual KPIs are loosely aligned to the organization's objective, but they are somewhat aligned. There are a lot of camps around (you cap performance at 200% percent, so it makes sense to patrol a lot), so you are likely to spot a White Walker. Wildlings try to go deeper into the woods and thus are not trying to cross the Wall either. In a more volatile environment, when you need to innovate because of changing business settings, your organization becomes less effective.\n",
    "\n",
    "Peter Drucker, in his 1954 book The Practice of Management, proposed an approach called Management by Objectives (MBO). You're a Lord Commander, and you have not read that, but Maester referred you to something similar from a thousand years back. You don't want to rely solely on KPIs in appraisals (as too many members seem to do nothing and still get 100% reached), and you want to reward performance based on objectives that every sworn brother agrees to - but a more specific one.\n",
    "\n",
    "You split your brotherhood into the Rangers, the Builders, and the Stewards with 3 Leaders (First Ranger, First Builder, and First Steward). You've seen giants yourself, and they are enormous. So you talk to the First Builder and agree on specific objectives:\n",
    "\n",
    "![First Builder Objectives](img/greenboard-03.jpg)\n",
    "\n",
    "Such objectives allow the Leadership team to cascade it further in a way that is tailored to their groups or team members, having their strengths and weaknesses. Now you are even more competent Lord Commander - you Manage by Objectives. Brothers define objectives together with their leaders, and your organization grows. First Ranger also takes more tailor-made objectives:\n",
    "\n",
    "![First Ranger Objectives](img/greenboard-04.jpg)\n",
    "\n",
    "What's the issue now? Well, typically, your Objectives are defined between team member and hist boss and not shared around (not always), and you set them in a way that reaching 100% is achievable with reasonable effort. But the White Walkers have been spotted, and you have no clue how to kill those guys.\n",
    "\n",
    "You are in an even more volatile environment, and what you need is Objectives and Key Results (OKR). The concept was introduced by Andrew Grove, former CEO of Intel, in the early 1980s. OKRs were popularized by Google using them from the beginning (you have no clue who Andrew Grove is, probably a wise Maester from the past). OKRs are similar to Objectives you used to set up following the MBO, with few key differences:\n",
    "* OKRs are transparent (everyone can see all OKRs)\n",
    "* OKRs are mostly set to be challenging (so reaching 100% or all of them if you have a list of specific ones is hard) - 70% is already good\n",
    "* OKRs are reviewed more ofter (quarterly)\n",
    "* OKRs specify not only \"what\" (Objective) but also \"how\" (Key Result)\n",
    "* OKRs are not linked to compensation (Bullshit statement - indeed your boss knows how you are doing, so they are not linked in a 1-to-1 manner)\n",
    "We do not oppose OKRs to MBOs. You could do everything from above within MBO framework and never mention an OKR.\n",
    "\n",
    "Now we are talking. You Maester gets an OKR for this quarter and your First Ranger also gets one.\n",
    "\n",
    "![OKRs](img/greenboard-05.jpg)\n",
    "\n",
    "Those are not that easily reachable and will put quite some challenges. In a real organization you get OKRs where percentage of completion can be measured, but you also get yes/no ones. So now, we can handle innovation better and get our organization challenged to grow from inside. And don't forget your Vision Statement \"I am the fire that burns against the cold, the light that brings the dawn, the horn that wakes the sleepers, the shield that guards the realms of men.\""
   ]
  },
  {
   "cell_type": "markdown",
   "metadata": {},
   "source": [
    "<font size=\"2\">\n",
    "Copyright &copy; Maxim Korotkov; 2020. <br> This article is published under a <a rel=\"license\" href=\"https://creativecommons.org/licenses/by/4.0/\">Creative\n",
    "Commons Attribution 4.0 International License</a>.\n",
    "</font>"
   ]
  }
 ],
 "metadata": {
  "colab": {
   "name": "2020-05-19_Simple_Intro.ipynb",
   "provenance": []
  },
  "kernelspec": {
   "display_name": "Python 3",
   "language": "python",
   "name": "python3"
  },
  "language_info": {
   "codemirror_mode": {
    "name": "ipython",
    "version": 3
   },
   "file_extension": ".py",
   "mimetype": "text/x-python",
   "name": "python",
   "nbconvert_exporter": "python",
   "pygments_lexer": "ipython3",
   "version": "3.7.6"
  },
  "toc": {
   "base_numbering": 1,
   "nav_menu": {},
   "number_sections": true,
   "sideBar": true,
   "skip_h1_title": true,
   "title_cell": "Table of Contents",
   "title_sidebar": "Contents",
   "toc_cell": false,
   "toc_position": {
    "height": "calc(100% - 180px)",
    "left": "10px",
    "top": "150px",
    "width": "175px"
   },
   "toc_section_display": true,
   "toc_window_display": false
  }
 },
 "nbformat": 4,
 "nbformat_minor": 1
}
