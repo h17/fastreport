{
 "cells": [
  {
   "cell_type": "markdown",
   "metadata": {
    "colab_type": "text",
    "id": "Xwsupk0kS6d7"
   },
   "source": [
    "# Optimizing Risks for a Portfolio of Cryptocurrencies\n",
    "> \"Optimizing Risks for a portfolio of cryptocurrencies using stochastic discount factor\"\n",
    "\n",
    "- author: <a href=http://maximk.com//>Maxim Korotkov</a> \n",
    "- categories: [sdf, treasury, crypto]\n",
    "- image: images/pixabay-game-of-thrones-4180794_640.jpg\n",
    "- permalink: /cryptosdf_draft/\n",
    "- hide: true"
   ]
  },
  {
   "cell_type": "markdown",
   "metadata": {},
   "source": [
    "In this post we will take a task of optimizing a portfolio of cryptocurrency and apply treasury risk optimization algorithms there. Let's start with basics. What is a typical task of a treasury manager (if we focus on risk optimization). Well, you've got a portfolio of positions (things you buy or sell) and currencies. You would like to protect your company from volatility and optimize financial performance. One of the algorithms successfully used there is a Stochastic Discount Factor calculation\n",
    "\n",
    "TBD: add link, that allows us, etc.\n",
    "\n",
    "This approach has been successfully applied to stock options trading and, presumably, can be applied to FICC trading also - pursuing the risk optimization. Now, for it to work we need prices for future contracts of different durations for number of years, per instrument. it is not easy for a common person to get such data for free (because holders of such data are rather greedy). Also, a casual reader won't related to oil future contracts. So we have created an imaginary enterprise - someone is mining ethereum and bitcoin (those are your goods) and paying electricity for mining stations in US Dollars (costs in functional currency). \n",
    "\n",
    "This guy wants to optimize his enterprise performance by selling future contracts so that his risk exposure is fixed (e.g. 1 BTC)"
   ]
  },
  {
   "cell_type": "markdown",
   "metadata": {},
   "source": [
    "<font size=\"2\">\n",
    "Copyright &copy; Maxim Korotkov; 2021. <br> This article is published under a <a rel=\"license\" href=\"https://creativecommons.org/licenses/by/4.0/\">Creative\n",
    "Commons Attribution 4.0 International License</a>.\n",
    "</font>"
   ]
  },
  {
   "cell_type": "code",
   "execution_count": null,
   "metadata": {},
   "outputs": [],
   "source": []
  }
 ],
 "metadata": {
  "colab": {
   "name": "2020-05-19_Simple_Intro.ipynb",
   "provenance": []
  },
  "kernelspec": {
   "display_name": "Python 3",
   "language": "python",
   "name": "python3"
  },
  "language_info": {
   "codemirror_mode": {
    "name": "ipython",
    "version": 3
   },
   "file_extension": ".py",
   "mimetype": "text/x-python",
   "name": "python",
   "nbconvert_exporter": "python",
   "pygments_lexer": "ipython3",
   "version": "3.8.5"
  },
  "toc": {
   "base_numbering": 1,
   "nav_menu": {},
   "number_sections": true,
   "sideBar": true,
   "skip_h1_title": true,
   "title_cell": "Table of Contents",
   "title_sidebar": "Contents",
   "toc_cell": false,
   "toc_position": {
    "height": "calc(100% - 180px)",
    "left": "10px",
    "top": "150px",
    "width": "175px"
   },
   "toc_section_display": true,
   "toc_window_display": false
  }
 },
 "nbformat": 4,
 "nbformat_minor": 1
}
