{
 "cells": [
  {
   "cell_type": "markdown",
   "metadata": {
    "colab_type": "text",
    "id": "Xwsupk0kS6d7"
   },
   "source": [
    "# MMA\n",
    "\n",
    "- author: Dmytro Karabash\n",
    "- categories: [MMA, diophantine equations]\n",
    "- permalink: /mma/"
   ]
  },
  {
   "cell_type": "markdown",
   "metadata": {
    "toc": true
   },
   "source": [
    "<h1>Table of Contents<span class=\"tocSkip\"></span></h1>\n",
    "<div class=\"toc\"><ul class=\"toc-item\"><li><span><a href=\"#Problem-1.-Does-equation-$x^{2}+y^{2}+z^{2}=2-x-y-z$-have-any-non-zero-integer-solutions?\" data-toc-modified-id=\"Problem-1.-Does-equation-$x^{2}+y^{2}+z^{2}=2-x-y-z$-have-any-non-zero-integer-solutions?-1\"><span class=\"toc-item-num\">1&nbsp;&nbsp;</span>Problem 1. Does equation $x^{2}+y^{2}+z^{2}=2 x y z$ have any non-zero integer solutions?</a></span><ul class=\"toc-item\"><li><span><a href=\"#Problem-1-Solution-1\" data-toc-modified-id=\"Problem-1-Solution-1-1.1\"><span class=\"toc-item-num\">1.1&nbsp;&nbsp;</span>Problem 1 Solution 1</a></span><ul class=\"toc-item\"><li><span><a href=\"#Insight-1:-consider-mod-2\" data-toc-modified-id=\"Insight-1:-consider-mod-2-1.1.1\"><span class=\"toc-item-num\">1.1.1&nbsp;&nbsp;</span>Insight 1: consider mod 2</a></span></li></ul></li><li><span><a href=\"#Problem-1-Solution-2\" data-toc-modified-id=\"Problem-1-Solution-2-1.2\"><span class=\"toc-item-num\">1.2&nbsp;&nbsp;</span>Problem 1 Solution 2</a></span><ul class=\"toc-item\"><li><span><a href=\"#Insight-1:-Vieta\" data-toc-modified-id=\"Insight-1:-Vieta-1.2.1\"><span class=\"toc-item-num\">1.2.1&nbsp;&nbsp;</span>Insight 1: Vieta</a></span></li><li><span><a href=\"#Insight-2:-Substitue\" data-toc-modified-id=\"Insight-2:-Substitue-1.2.2\"><span class=\"toc-item-num\">1.2.2&nbsp;&nbsp;</span>Insight 2: Substitue</a></span></li></ul></li></ul></li><li><span><a href=\"#Problem-1.-Does-equation-$x^{2}+y^{2}+z^{2}=2-x-y-z-\\tag{1}$-have-any-non-zero-integer-solutions?\" data-toc-modified-id=\"Problem-1.-Does-equation-$x^{2}+y^{2}+z^{2}=2-x-y-z-\\tag{1}$-have-any-non-zero-integer-solutions?-2\"><span class=\"toc-item-num\">2&nbsp;&nbsp;</span>Problem 1. Does equation $x^{2}+y^{2}+z^{2}=2 x y z \\tag{1}$ have any non-zero integer solutions?</a></span><ul class=\"toc-item\"><li><span><a href=\"#Problem-1-Solution-1\" data-toc-modified-id=\"Problem-1-Solution-1-2.1\"><span class=\"toc-item-num\">2.1&nbsp;&nbsp;</span>Problem 1 Solution 1</a></span><ul class=\"toc-item\"><li><span><a href=\"#Insight-1:-consider-mod-2\" data-toc-modified-id=\"Insight-1:-consider-mod-2-2.1.1\"><span class=\"toc-item-num\">2.1.1&nbsp;&nbsp;</span>Insight 1: consider mod 2</a></span></li></ul></li><li><span><a href=\"#Problem-1-Solution-2\" data-toc-modified-id=\"Problem-1-Solution-2-2.2\"><span class=\"toc-item-num\">2.2&nbsp;&nbsp;</span>Problem 1 Solution 2</a></span><ul class=\"toc-item\"><li><span><a href=\"#Insight-1:-Vieta\" data-toc-modified-id=\"Insight-1:-Vieta-2.2.1\"><span class=\"toc-item-num\">2.2.1&nbsp;&nbsp;</span>Insight 1: Vieta</a></span></li></ul></li></ul></li><li><span><a href=\"#Insight-2:-Substitue\" data-toc-modified-id=\"Insight-2:-Substitue-3\"><span class=\"toc-item-num\">3&nbsp;&nbsp;</span>Insight 2: Substitue</a></span></li></ul></div>"
   ]
  },
  {
   "cell_type": "markdown",
   "metadata": {},
   "source": [
    "## Problem 1. Does equation $x^{2}+y^{2}+z^{2}=2 x y z$ have any non-zero integer solutions?"
   ]
  },
  {
   "cell_type": "markdown",
   "metadata": {},
   "source": [
    "\n",
    "### Problem 1 Solution 1\n",
    "\n",
    "#### Insight 1: consider mod 2\n",
    "\n",
    "Right hand side is even so there are two cases x,y,z are all even or one of them is even.\n",
    "\n",
    "Case 1: If one of them is even then LHS is 2 (mod 4) and RHS is 0 (mod 4). Contradiction.\n",
    "\n",
    "Case 2:If all of them are even divide the equation by the highest power of two that divides all of them, i.e. $$x=2^k x_0,y=2^k y_0,z=2^k z_0$$ and at least one of $x_0,y_0,z_0$ is odd, but then dividing equation by $2^{2k}$ we get\n",
    "$$x_0^{2}+y_0^{2}+z_0^{2}=2^{k+1} x y z $$\n",
    "and you can apply the argument from case 1 obtaining contradiction."
   ]
  },
  {
   "cell_type": "markdown",
   "metadata": {},
   "source": [
    "> Note: when writting a proof you can skip extra circle of logic and go straight to case 2, hence the proof would just be:\n",
    "\n",
    "> Let $k$ be highest power of 2 dividing $x$,$y$ and $z$, i.e $x=2^k x_0,y=2^k y_0,z=2^k z_0$  and at least one of $x_0,y_0,z_0$ is odd.  Dividing equation by $2^{2k}$ we obtain\n",
    "$x_0^{2}+y_0^{2}+z_0^{2}=2^{k+1} x y z $ and since at least one of $x_0,y_0,z_0$ is odd, and RHS is even exactly two of $x_0,y_0,z_0$ must be odd but then LHS is 2 mod 4 and RHS is 0 mod 4. Contradiction. "
   ]
  },
  {
   "cell_type": "markdown",
   "metadata": {},
   "source": [
    "### Problem 1 Solution 2\n",
    "\n",
    "#### Insight 1: Vieta\n",
    "\\begin{align}\n",
    "\\mathbb 0  &= x^{2}-(2 y z) x +y^{2}+z^{2} \\\\\n",
    "x_1+x_2& = 2yz\\\\\n",
    "x_1x_2& = y^2+z^2\n",
    "\\end{align}\n"
   ]
  },
  {
   "cell_type": "markdown",
   "metadata": {},
   "source": [
    "#### Insight 2: Substitue\n",
    "\\begin{align}\n",
    "x_1+x_2 & = 2yz  \\\\\n",
    "x_1x_2  & = y^2 + z^2\n",
    "\\end{align}\n",
    "which gives us\n",
    "\\begin{align}\n",
    "x_2 & = 2yz - x_1 \\\\\n",
    "x_2 & = \\frac{y^{2}+z^{2}}{x_1} \\\\\n",
    "\\end{align}"
   ]
  }
 ],
 "metadata": {
  "colab": {
   "name": "2020-05-19_Simple_Intro.ipynb",
   "provenance": []
  },
  "kernelspec": {
   "display_name": "Python 3",
   "language": "python",
   "name": "python3"
  },
  "language_info": {
   "codemirror_mode": {
    "name": "ipython",
    "version": 3
   },
   "file_extension": ".py",
   "mimetype": "text/x-python",
   "name": "python",
   "nbconvert_exporter": "python",
   "pygments_lexer": "ipython3",
   "version": "3.8.5"
  },
  "toc": {
   "base_numbering": 1,
   "nav_menu": {},
   "number_sections": true,
   "sideBar": true,
   "skip_h1_title": true,
   "title_cell": "Table of Contents",
   "title_sidebar": "Contents",
   "toc_cell": true,
   "toc_position": {},
   "toc_section_display": true,
   "toc_window_display": true
  }
 },
 "nbformat": 4,
 "nbformat_minor": 1
}
