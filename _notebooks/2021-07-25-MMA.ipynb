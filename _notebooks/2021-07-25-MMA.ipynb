{
 "cells": [
  {
   "cell_type": "markdown",
   "metadata": {
    "colab_type": "text",
    "id": "Xwsupk0kS6d7"
   },
   "source": [
    "# MMA\n",
    "\n",
    "- author: Dmytro Karabash\n",
    "- categories: [MMA, diophantine equations]\n",
    "- permalink: /mma/"
   ]
  },
  {
   "cell_type": "markdown",
   "metadata": {
    "toc": true
   },
   "source": [
    "<h1>Table of Contents<span class=\"tocSkip\"></span></h1>\n",
    "<div class=\"toc\"><ul class=\"toc-item\"><li><span><a href=\"#Problem-1.-Does-equation-$x^{2}+y^{2}+z^{2}=2-x-y-z$-have-any-non-zero-integer-solutions?\" data-toc-modified-id=\"Problem-1.-Does-equation-$x^{2}+y^{2}+z^{2}=2-x-y-z$-have-any-non-zero-integer-solutions?-1\"><span class=\"toc-item-num\">1&nbsp;&nbsp;</span>Problem 1. Does equation $x^{2}+y^{2}+z^{2}=2 x y z$ have any non-zero integer solutions?</a></span><ul class=\"toc-item\"><li><span><a href=\"#Problem-1-Solution-1\" data-toc-modified-id=\"Problem-1-Solution-1-1.1\"><span class=\"toc-item-num\">1.1&nbsp;&nbsp;</span>Problem 1 Solution 1</a></span><ul class=\"toc-item\"><li><span><a href=\"#Insight-1:-consider-mod-2\" data-toc-modified-id=\"Insight-1:-consider-mod-2-1.1.1\"><span class=\"toc-item-num\">1.1.1&nbsp;&nbsp;</span>Insight 1: consider mod 2</a></span></li></ul></li><li><span><a href=\"#Problem-1-Solution-2\" data-toc-modified-id=\"Problem-1-Solution-2-1.2\"><span class=\"toc-item-num\">1.2&nbsp;&nbsp;</span>Problem 1 Solution 2</a></span><ul class=\"toc-item\"><li><span><a href=\"#Insight-1:-Vieta\" data-toc-modified-id=\"Insight-1:-Vieta-1.2.1\"><span class=\"toc-item-num\">1.2.1&nbsp;&nbsp;</span>Insight 1: Vieta</a></span></li><li><span><a href=\"#Insight-2:-Substitue\" data-toc-modified-id=\"Insight-2:-Substitue-1.2.2\"><span class=\"toc-item-num\">1.2.2&nbsp;&nbsp;</span>Insight 2: Substitue</a></span></li></ul></li></ul></li><li><span><a href=\"#Problem-6.-The-kingdom-of-Mathlandia-contains-2016-airports.-Each-airport-is-connected-by-a-direct-flight-with-at-least-100-others.-It's-known-that-you-can-fly-from-each-airport-to-any-other,-perhaps,-with-stopovers.-Prove-that,-in-fact,-you-can-fly-from-any-airport-to-any-other-making-fewer-than-65-connections.\" data-toc-modified-id=\"Problem-6.-The-kingdom-of-Mathlandia-contains-2016-airports.-Each-airport-is-connected-by-a-direct-flight-with-at-least-100-others.-It's-known-that-you-can-fly-from-each-airport-to-any-other,-perhaps,-with-stopovers.-Prove-that,-in-fact,-you-can-fly-from-any-airport-to-any-other-making-fewer-than-65-connections.-2\"><span class=\"toc-item-num\">2&nbsp;&nbsp;</span>Problem 6. The kingdom of Mathlandia contains 2016 airports. Each airport is connected by a direct flight with at least 100 others. It's known that you can fly from each airport to any other, perhaps, with stopovers. Prove that, in fact, you can fly from any airport to any other making fewer than 65 connections.</a></span><ul class=\"toc-item\"><li><span><a href=\"#Problem-6-Solution-1:-Direct-approach\" data-toc-modified-id=\"Problem-6-Solution-1:-Direct-approach-2.1\"><span class=\"toc-item-num\">2.1&nbsp;&nbsp;</span>Problem 6 Solution 1: Direct approach</a></span><ul class=\"toc-item\"><li><span><a href=\"#Insight-1:-do-by-induction\" data-toc-modified-id=\"Insight-1:-do-by-induction-2.1.1\"><span class=\"toc-item-num\">2.1.1&nbsp;&nbsp;</span>Insight 1: do by induction</a></span></li><li><span><a href=\"#Since-it-is-$2021$,-what-if-this-question-was-asked-with-$2021$-airports-above-would-you-need-57-connections?\" data-toc-modified-id=\"Since-it-is-$2021$,-what-if-this-question-was-asked-with-$2021$-airports-above-would-you-need-57-connections?-2.1.2\"><span class=\"toc-item-num\">2.1.2&nbsp;&nbsp;</span>Since it is $2021$, what if this question was asked with $2021$ airports above would you need 57 connections?</a></span></li></ul></li></ul></li></ul></div>"
   ]
  },
  {
   "cell_type": "markdown",
   "metadata": {},
   "source": [
    "## Problem 1. Does equation $x^{2}+y^{2}+z^{2}=2 x y z$ have any non-zero integer solutions?"
   ]
  },
  {
   "cell_type": "markdown",
   "metadata": {},
   "source": [
    "\n",
    "### Problem 1 Solution 1\n",
    "\n",
    "#### Insight 1: consider mod 2\n",
    "\n",
    "Right hand side is even so there are two cases x,y,z are all even or one of them is even.\n",
    "\n",
    "Case 1: If one of them is even then LHS is 2 (mod 4) and RHS is 0 (mod 4). Contradiction.\n",
    "\n",
    "Case 2:If all of them are even divide the equation by the highest power of two that divides all of them, i.e. $$x=2^k x_0,y=2^k y_0,z=2^k z_0$$ and at least one of $x_0,y_0,z_0$ is odd, but then dividing equation by $2^{2k}$ we get\n",
    "$$x_0^{2}+y_0^{2}+z_0^{2}=2^{k+1} x y z $$\n",
    "and you can apply the argument from case 1 obtaining contradiction."
   ]
  },
  {
   "cell_type": "markdown",
   "metadata": {},
   "source": [
    "> Note: when writting a proof you can skip extra circle of logic and go straight to case 2, hence the proof would just be:\n",
    "\n",
    "> Let $k$ be highest power of 2 dividing $x$,$y$ and $z$, i.e $x=2^k x_0,y=2^k y_0,z=2^k z_0$  and at least one of $x_0,y_0,z_0$ is odd.  Dividing equation by $2^{2k}$ we obtain\n",
    "$x_0^{2}+y_0^{2}+z_0^{2}=2^{k+1} x y z $ and since at least one of $x_0,y_0,z_0$ is odd, and RHS is even exactly two of $x_0,y_0,z_0$ must be odd but then LHS is 2 mod 4 and RHS is 0 mod 4. Contradiction. "
   ]
  },
  {
   "cell_type": "markdown",
   "metadata": {},
   "source": [
    "### Problem 1 Solution 2\n",
    "\n",
    "#### Insight 1: Vieta\n",
    "\\begin{align}\n",
    "\\mathbb 0  &= x^{2}-(2 y z) x +y^{2}+z^{2} \\\\\n",
    "x_1+x_2& = 2yz\\\\\n",
    "x_1x_2& = y^2+z^2\n",
    "\\end{align}\n"
   ]
  },
  {
   "cell_type": "markdown",
   "metadata": {},
   "source": [
    "#### Insight 2: Substitue\n",
    "\\begin{align}\n",
    "x_1+x_2 & = 2yz  \\\\\n",
    "x_1x_2  & = y^2 + z^2\n",
    "\\end{align}\n",
    "which gives us\n",
    "\\begin{align}\n",
    "x_2 & = 2yz - x_1 \\\\\n",
    "x_2 & = \\frac{y^{2}+z^{2}}{x_1} \\\\\n",
    "\\end{align}"
   ]
  },
  {
   "cell_type": "markdown",
   "metadata": {},
   "source": [
    "## Problem 6. The kingdom of Mathlandia contains 2016 airports. Each airport is connected by a direct flight with at least 100 others. It's known that you can fly from each airport to any other, perhaps, with stopovers. Prove that, in fact, you can fly from any airport to any other making fewer than 65 connections."
   ]
  },
  {
   "cell_type": "markdown",
   "metadata": {},
   "source": [
    "### Problem 6 Solution 1: Direct approach\n",
    "\n",
    "#### Insight 1: do by induction\n",
    "\n",
    "Let us consider airport $a$ and let $A_i$ be airports that are connected to it by exactly $i$ connections, i.e. you can reach it via $i$ connections but cannot reach it via $i-1$ connections.\n",
    "\n",
    "> Note: Special case $A_0$ just consists of a for the consistency of below calculations.\n",
    "\n",
    "Since all airports are connected it is enough to prove that $A_{65}=0$ as this would imply that all airports are within $A_0,A_1,A_2...A_{65}$. In fact we will show $A_{58}=0$\n",
    "\n",
    "Note that airports that for $i<j$, $a_1 \\in A_i$ and $a_2 \\in A_j$ can only be connected if $j-i \\leq 1$; as otherwise you can reach $a_2$ via going to $a_1$ in n flights and then flying to $a_1$ which would be $i+1$ connections which is less than $j$ which implies $a_2 \\notin A_j$.\n",
    "\n",
    "From this we get that each airport in $A_i$ can only be connected to airports in $A_{i-1}, A_{i}$ or $A_{i-1}$.  Hence since each airport has at least $100$ connections from each airport we get $A_i>0$ implies $|A_{i-1}|+|A_{i}|+|A_{i-1}| \\geq 101$.\n",
    "\n",
    "If $|A_{57}| \\neq 0$ hence $A_{3k}+A_{3k+1}+A_{3k+2} \\geq 101$ for $k=0,1,...19$ and hence $$|A_0+A_1+...+A_{59}|=|(A_0+A_1+A_2)+(A_4+A_5+A_6)+...(A_{57}+A_{58}+A_{59})| \\geq 20 \\cdot 101=2020$$\n",
    "which contradicts the fact that there are only 2016 towns.\n",
    "\n",
    "> Note: we can start this sum from $|A_0+A_1| \\geq 101$ prove in same way $|A_{57}|=0$"
   ]
  },
  {
   "cell_type": "markdown",
   "metadata": {},
   "source": [
    "#### Since it is $2021$, what if this question was asked with $2021$ airports above would you need 57 connections?\n",
    "\n",
    "Indeed: here is a counterexample and in fact you need 58."
   ]
  },
  {
   "cell_type": "code",
   "execution_count": 34,
   "metadata": {},
   "outputs": [
    {
     "name": "stdout",
     "output_type": "stream",
     "text": [
      "[1, 100, 1, 1, 99, 1, 1, 99, 1, 1, 99, 1, 1, 99, 1, 1, 99, 1, 1, 99, 1, 1, 99, 1, 1, 99, 1, 1, 99, 1, 1, 99, 1, 1, 99, 1, 1, 99, 1, 1, 99, 1, 1, 99, 1, 1, 99, 1, 1, 99, 1, 1, 99, 1, 1, 99, 1, 100, 1]\n",
      "length: 59\n",
      "sum: 2021\n",
      "minimum sum: 101.0\n"
     ]
    }
   ],
   "source": [
    "#hide_input\n",
    "\n",
    "import pandas as pd\n",
    "li=[1,100]+[1,1,99]*18+[1,100,1]\n",
    "print(li)\n",
    "print('length:',len(li))\n",
    "print('sum:',sum(li))\n",
    "print('minimum sum:',pd.Series(li).rolling(window=3,min_periods=1,center=True).sum().min())"
   ]
  },
  {
   "cell_type": "markdown",
   "metadata": {},
   "source": [
    "In fact this is an optimal counterexample for these problems starting from $1,100$ then a sequence of $1,1,99$ possibly truncated in the last triple, and then finishing with 100,1. "
   ]
  },
  {
   "cell_type": "markdown",
   "metadata": {},
   "source": [
    "More generaly in a $\\it{connected}$ $\\it{graph}$ $G$ if each $vertex$'s $valency$ $(degree)$ is at least $V$, then the number of vertecies that are distance $D$ from any vertex is at least $min(|G|,f(D,V))$, where:"
   ]
  },
  {
   "cell_type": "markdown",
   "metadata": {},
   "source": [
    "\\begin{align}\n",
    " f(0,V)&=1=1 \\\\\n",
    " f(1,V)&=1+V&=V+1 \\\\\n",
    " f(2,V)&=1+V+1&=V+2 \\\\ \n",
    " f(3,V)&=1+V+V+1&=2V+2 \\\\\n",
    " f(4,V)&=1+V+1+V+1&=2V+3 \\\\\n",
    " f(5,V)&=1+V+1+1+V+1&=2V+4 \\\\\n",
    " f(6,V)&=1+V+1+1+(V-1)+V+1&=3V+3 \\\\\n",
    " f(7,V)&=1+V+1+1+(V-1)+1+V+1&=3V+4 \\\\\n",
    " f(8,V)&=1+V+1+1+(V-1)+1+1+V+1&=3V+5 \\\\\n",
    " f(3k-3,V) &=& k \\cdot (V + 1) \\\\\n",
    " f(3k-2,V) &=& k \\cdot (V + 1) + 1 \\\\\n",
    " f(3k-1,V) &=& k \\cdot (V + 1) + 2 \\\\\n",
    "\\cdots\n",
    "\\end{align}\n",
    "where the term in the middle represents counterexample which can be proven optimal by the fact that \n",
    "$|A_i|>0$ implies $|A_{i-1}+A_{i}+A_{i+1}| \\geq V+1$ and that $A_i$ in the middle are at least of size 1."
   ]
  }
 ],
 "metadata": {
  "colab": {
   "name": "2020-05-19_Simple_Intro.ipynb",
   "provenance": []
  },
  "kernelspec": {
   "display_name": "Python 3",
   "language": "python",
   "name": "python3"
  },
  "language_info": {
   "codemirror_mode": {
    "name": "ipython",
    "version": 3
   },
   "file_extension": ".py",
   "mimetype": "text/x-python",
   "name": "python",
   "nbconvert_exporter": "python",
   "pygments_lexer": "ipython3",
   "version": "3.8.5"
  },
  "toc": {
   "base_numbering": 1,
   "nav_menu": {},
   "number_sections": true,
   "sideBar": true,
   "skip_h1_title": true,
   "title_cell": "Table of Contents",
   "title_sidebar": "Contents",
   "toc_cell": true,
   "toc_position": {},
   "toc_section_display": true,
   "toc_window_display": true
  }
 },
 "nbformat": 4,
 "nbformat_minor": 1
}
