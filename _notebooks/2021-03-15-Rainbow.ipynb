{
 "cells": [
  {
   "cell_type": "markdown",
   "metadata": {},
   "source": [
    "# The Rainbow Method Part I. Encoding Categorical Variables. \n",
    "> 'When the nature gives you a rainbow, take it.'\n",
    "\n",
    "- author: Anna Arakelyan, Dmytro Karabash\n",
    "- categories: [python, data science, classification, encoding]\n",
    "- image: ../images/jd-rincs-9GkYmKYVoGY-unsplash.jpg\n",
    "- permalink: /rainbow/\n",
    "- hide: true"
   ]
  },
  {
   "cell_type": "markdown",
   "metadata": {},
   "source": [
    "![rainbow](../images/jd-rincs-9GkYmKYVoGY-unsplash.jpg)"
   ]
  },
  {
   "cell_type": "markdown",
   "metadata": {},
   "source": [
    "## Introduction"
   ]
  },
  {
   "cell_type": "markdown",
   "metadata": {},
   "source": [
    "\"I have 2000 features and I need to get to 50 features and keep model as good or better\" was how this all started.  This is familiar to anyone in institutional data science where you need to carefully vet every model and look at each feature to make sure it is fine from the standpoint of regulation.  What is valuable about this story is that it is based on a real production model that was developed by Anna Arakelyan at MassMutual and a method suggested by Dmytro Karabash.  We will get to detailed results at the end but here's a preview results for anyone who want to take a peak:"
   ]
  },
  {
   "cell_type": "code",
   "execution_count": 3,
   "metadata": {},
   "outputs": [
    {
     "data": {
      "image/png": "[encoded data removed]",
      "text/plain": [
       "<Figure size 648x360 with 4 Axes>"
      ]
     },
     "metadata": {
      "needs_background": "light"
     },
     "output_type": "display_data"
    }
   ],
   "source": [
    "#hide_input\n",
    "\n",
    "import pandas as pd \n",
    "import numpy as np\n",
    "import matplotlib.pyplot as plt\n",
    "pd.set_option('display.max_columns', None)\n",
    "\n",
    "import warnings\n",
    "warnings.filterwarnings(\"ignore\")\n",
    "# Add 'rainbow_research.csv' and 'rainbow_research_feature_selection.csv' in the _notebooks folder\n",
    "# Don't push data to repo - they must be ignored in .gitignore\n",
    "results = pd.read_csv('rainbow_research.csv').rename(columns={'feature_selection_parameter':'Num_features',\"transform_parameter\": \"method\"})\n",
    "feature_selection = pd.read_csv('rainbow_research_feature_selection.csv').rename(columns={'feature_selection_parameter':'Num_features',\"transform_parameter\": \"method\"})\n",
    "\n",
    "results['method']=results['method'].replace({'one_hot': \"One-hot\", 'rainbow': \"Rainbow\"})\n",
    "\n",
    "metrics=['accuracy', 'kappa', 'macro avg_f1-score', 'weighted avg_f1-score', 'macro avg_roc_auc', 'weighted avg_roc_auc']\n",
    "tmp = feature_selection.groupby(['Num_features', 'method'])[metrics].mean().round(4).reset_index()\n",
    "\n",
    "tmp['Num_features']=tmp['Num_features'].str.replace('top_',\"\").astype(int)\n",
    "table1 = tmp.set_index(['Num_features', 'method']).sort_index()\n",
    "\n",
    "table1=table1.rename(columns={'macro avg_f1-score': 'macro-f1',\n",
    "                       'weighted avg_f1-score':'weighted-f1',\n",
    "                       'macro avg_roc_auc':'macro-auc',\n",
    "                       'weighted avg_roc_auc' : 'weighted-auc'\n",
    "                      })\n",
    "# table1[['macro-f1','accuracy','kappa','macro-auc']].round(2)\n",
    "table11 = table1[['macro-f1','accuracy','kappa','macro-auc']].round(4).reset_index()\n",
    "\n",
    "\n",
    "def autolabel(rects, i, j, decimals=3):\n",
    "    \"\"\"\n",
    "    Attach a text label above each bar displaying its height\n",
    "    \"\"\"\n",
    "    for rect in rects:\n",
    "        height = rect.get_height()\n",
    "        axs[i, j].text(rect.get_x() + rect.get_width()/2., 1.015*height,\n",
    "                '%.{}f'.format(decimals) % height,\n",
    "                ha='center', va='bottom', color = 'dimgrey')  \n",
    "\n",
    "def make_subplot(table11, metric, x, i, j, colors, ylimits=[]):\n",
    "    y1 = table11[table11['method']=='one_hot'][metric]\n",
    "    y2 = table11[table11['method']=='rainbow'][metric]\n",
    "    rects1 = axs[i, j].bar(x-0.2, y1, width, label = 'One-hot', color = colors[0])\n",
    "    rects2 = axs[i, j].bar(x+0.2, y2, width, label = 'Rainbow', color = colors[1]) \n",
    "    axs[i, j].set_ylim(ylimits)\n",
    "    axs[i, j].set_xticks(x)    \n",
    "    axs[i, j].set_xticklabels(['10 features', '50 features', '100 features'], rotation=0)\n",
    "    axs[i, j].set_title(metric)\n",
    "    autolabel(rects1, i, j)\n",
    "    autolabel(rects2, i, j)\n",
    "    \n",
    "x = np.arange(3)\n",
    "fig, axs = plt.subplots(2, 2, figsize=(9,5))\n",
    "width = 0.35\n",
    "colors = ['lightsalmon', 'turquoise']\n",
    "make_subplot(table11, 'macro-f1', x, 0, 0, colors, [0.2,0.45])\n",
    "make_subplot(table11, 'kappa', x, 0, 1, colors, [0, 0.30])\n",
    "make_subplot(table11, 'macro-auc', x, 1, 0, colors, [0.55, 0.80])\n",
    "make_subplot(table11, 'accuracy', x, 1, 1, colors, [0.3, 0.50])\n",
    "fig.tight_layout()\n",
    "plt.legend(bbox_to_anchor=(1.05, 2.4), loc='upper left', prop={'size': 12})\n",
    "plt.show()"
   ]
  },
  {
   "cell_type": "markdown",
   "metadata": {},
   "source": [
    "The rainbow method outperforms the One-hot easily. In fact, the rainbow method even shows better result for 50 features than One-hot does for 100. Also note that when droping from 50 to 10 features, the reduction in macro-f1 if you use One-hot is 6 times that of the rainbow method (3 times for kappa and accuracy, 2 times for macro-auc).\n",
    "\n",
    ">Both models actually keep improving as the number of features goes up. Though the improvement is substantially faster and bigger for the rainbow method."
   ]
  },
  {
   "cell_type": "markdown",
   "metadata": {},
   "source": [
    "## Background"
   ]
  },
  {
   "cell_type": "markdown",
   "metadata": {},
   "source": [
    "Data encoding is the crucial part of any data science pipeline. No matter which machine learning algorithm is used - there is no avoiding of data cleaning and encoding. Especially with dirty and complex real data sets, ensuring the most appropriate and efficient way of feature encoding and engineering is a nontrivial problem. While encoding quantitative and binary columns is usually a straightforward task, the encoding of categorical variables deserves a deeper look. \n",
    "<br><br>\n",
    "One of the most popular encoding methods for categorical variables has been the One-hot procedure. It generates an indicator variable for every category and, thus, creates a set of K new features, where K is the number of categories.\n",
    "One significant implication of this method is the dimensionality increase. Depending on the magnitude of K, it can have various undesirable technical consequences: substantial raise of computational complexity, loss of degrees of freedom (N-K, where N is the number of samples), multicollinearity, and, ultimately, an overfitted model. Non-technical consequences include unnecessary complication of the model that should be communicated to final users and that contradict the law of parsimony aka Occam's razor."
   ]
  },
  {
   "cell_type": "markdown",
   "metadata": {},
   "source": [
    "## Method"
   ]
  },
  {
   "cell_type": "markdown",
   "metadata": {},
   "source": [
    "We call it rainbow from a very simple analogy: if you have a categorical feature with names \"Red\", \"Orange\", \"Yellow\", \"Green\", \"Blue\", \"Indigo\" and \"Violet\", in other words - colors of the rainbow, instead of one hot encoding, you can simply create one feature with encoding:\n",
    "***\n",
    "0 = \"Red\" <br>\n",
    "1 = \"Orange\" <br>\n",
    "2 = \"Yellow\" <br>\n",
    "3 = \"Green\" <br>\n",
    "4 = \"Blue\" <br>\n",
    "5 = \"Indigo\" <br>\n",
    "6 = \"Violet\"\n",
    "\n",
    "This would replace seven One-hot features with one rainbow.  \n",
    "\n",
    "Most of the nominal variables, from the first glance, seem like they cannot be converted to a quantitative scale. This is where we suggest **finding a rainbow**.\n",
    "<br>\n",
    "The seemingly unordered categories acquire a perfect order if we find a scale, where each category fits into its own unique place. With the color - the natural scale is Hue. But it is not the only one. We can think of, say, brightness, saturation, color temperature, etc. We invite you to experiment with a few different rainbows that might capture different nuances of the categorical quality. \n",
    "\n",
    "You can actually make and use two or more rainbows out of one categorical variable depending on the number of categories K and the context.\n",
    "\n",
    "> We don't recommend to use much more than $\\log_2 {K}$. The reason we suggest not to use more than $\\log_2 K$ rainbows is not to surpass a number of encodings in what is called binary-One-hot-encoding.  One easy way to create $\\log_2 K$ out of any rainbow is by rotating binary digits of your first rainbow; note rotating not permuting as if you would permute you would get $(\\log_2 K)!$ which is greater than K for K>8.\n",
    "\n",
    "\n",
    "Why is rainbow better than any other choice? It is very simple and intuitively sensible. In many cases it is not even that important which rainbow you choose (and by that we mean the color order), it would still be better than using One-hot. The more natural orders are just likely to be slightly better than others and easier to remember. \n",
    "\n",
    "> Hence our motto: \"When a nature gives you a rainbow, take it...\"\n"
   ]
  },
  {
   "cell_type": "markdown",
   "metadata": {},
   "source": [
    "Important note here: this method is highly efficient in conjunction with the models that rely on variables as ranks rather than exact values. For example, decision trees, random forest, gradient boosting - these algorithms will output the same result if, say, the variable *Number of Children* is coded as \n",
    "***\n",
    "0 = \"0 Children\" <br>\n",
    "1 = \"1 Child\"<br>\n",
    "2 = \"2 Children\"<br>\n",
    "3 = \"3 Children\"<br>\n",
    "4 = \"4 or more Children\" \n",
    "\n",
    "or as \n",
    "***\n",
    "1 = \"0 Children\" <br>\n",
    "2 = \"1 Child\"<br>\n",
    "3 = \"2 Children\"<br>\n",
    "4 = \"3 Children\"<br>\n",
    "5 = \"4 or more Children\" \n",
    "\n",
    "\n",
    "or even as \n",
    "\n",
    "***\n",
    "-100 = \"0 Children\" <br>\n",
    "-85 = \"1 Child\"<br>\n",
    "0 = \"2 Children\"<br>\n",
    "10 = \"3 Children\"<br>\n",
    "44 = \"4 or more Children\" \n",
    "\n",
    "\n",
    "as long as the correct order of the categories is preserved. The values themselves don't carry the quantitative role in these algorithms. It is the rank of the variable that matters, and a tree-based algorithm will use its \n",
    "magic to make the most appropriate splits to introduce new tree nodes.\n",
    "\n",
    "The application of our method for other algorithms such as Linear Regression, Logistic Regression is out of scope of this article. We expect that such way of feature engineering would be still beneficial, but that is a subject of a different investigation.\n",
    "\n",
    "Note that by using a rainbow rather than One-hot we are not losing any of the signal. Let's consider two scenarios. First, if the categories are wildly different, and each one introduces a substantial gain to the model, the algorithm such as *xgboost* will just make the splits between all the values which is perfectly equivalent to One-hot. Second, if the chosen rainbow order is the least favorable, once again, the algorithm will make all the necessary splits.\n",
    "However, if the rainbow order is even somewhat meaningful, the algorithm would capture the similarity in the adjacent values by making a smart decision about the number and location of splits. For example, it will decide if some of the adjacent values should be clustered together, or separated. This will save us dimensionality without any informational loss."
   ]
  },
  {
   "cell_type": "markdown",
   "metadata": {},
   "source": [
    "## Examples"
   ]
  },
  {
   "cell_type": "markdown",
   "metadata": {},
   "source": [
    "The application of our method depends highly on the level of measurement of the treated variables. While **quantitative** variables have a *ratio* scale, i.e. they have a meaningful 0, ordered values, and equal distances between values; **categorical** variables usually have either *interval*, or *ordinal*, or *nominal* scales.\n",
    "Let us illustrate our method for each of these types of categorical variables."
   ]
  },
  {
   "cell_type": "markdown",
   "metadata": {},
   "source": [
    "**Interval** variables have ordered values, equal distances between values, but the value itself is not necessarily meaningful, for example, 0 does not indicate an absence of a quality. The common examples of interval variables are Likert scales:\n",
    "<br>\n",
    "***\n",
    "*How likely is the person to buy a smartphone mobile phone?*\n",
    "<br><br>\n",
    "1 = \"Very Unlikely\" <br>\n",
    "2 = \"Somewhat Unlikely\"<br>\n",
    "3 = \"Neither Likely, Nor Unlikely\"<br>\n",
    "4 = \"Somewhat Likely\"<br>\n",
    "5 = \"Very Likely\""
   ]
  },
  {
   "cell_type": "markdown",
   "metadata": {},
   "source": [
    "In a straightforward way, if we simply use the raw values 1 through 5, that will save us dimensionality without losing a single bit of information. The algorithm such as *xgboost* will make the appropriate splits instead of being forced to use the splits predetermined by One-hot, which in many cases is simply an overfit."
   ]
  },
  {
   "cell_type": "markdown",
   "metadata": {},
   "source": [
    "**Ordinal** variables have ordered values that are meaningless, and the distances between values are also not equal or not even explainable. An example: <br>\n",
    "***\n",
    "*What is the highest level of Education completed by the person?*\n",
    "<br><br>\n",
    "1 = \"No High School\"<br>\n",
    "2 = \"High School\" <br>\n",
    "3 = \"Associate Degree\" <br>\n",
    "4 = \"Bachelor's Degree\" <br>\n",
    "5 = \"Master's Degree\" <br>\n",
    "6 = \"Doctoral Degree\" <br>"
   ]
  },
  {
   "cell_type": "markdown",
   "metadata": {},
   "source": [
    "Similar to interval variables, raw ordinal numeric codes can be used in the model without introducing any issues, as long as the order is correct. In some cases, a variable is intrinsically ordinal, but the given numeric codes don't follow the correct order - in these situations we could simply reorder categories and then use this updated variable as a quantitative feature."
   ]
  },
  {
   "cell_type": "markdown",
   "metadata": {},
   "source": [
    "The use of natural rainbow for interval and ordinal variables is likely not the cause for concern because it is clearly a perfect alternative to One-hot for tree-based algorithms. The more complicated and non-obvious question is how to treat nominal variables."
   ]
  },
  {
   "cell_type": "markdown",
   "metadata": {},
   "source": [
    "**Nominal** variables have no obvious order between categories, and are almost always encoded with One-hot method. This is where finding a rainbow becomes valuable, turning something, that seems completely non quantitative, into a quantitative scale. In this way, a nominal variable *Color* \n",
    "***\n",
    "A = \"Red\" <br>\n",
    "B = \"Blue\" <br>\n",
    "C = \"Green\" <br>\n",
    "D = \"Yellow\" <br>"
   ]
  },
  {
   "cell_type": "markdown",
   "metadata": {},
   "source": [
    "is replaced by the newly engineered rainbow feature"
   ]
  },
  {
   "cell_type": "markdown",
   "metadata": {},
   "source": [
    "***\n",
    "1 = \"Blue\" <br>\n",
    "2 = \"Green\"<br>\n",
    "3 = \"Yellow\"<br>\n",
    "4 = \"Red\"<br>"
   ]
  },
  {
   "cell_type": "markdown",
   "metadata": {},
   "source": [
    "Lets us show a few other examples of creating rainbows.\n",
    "\n",
    "***\n",
    "*Vehicle Type* <br><br>\n",
    "C = \"Compact Car\"<br>\n",
    "F = \"Full-size Car\"<br>\n",
    "L = \"Luxury Car\"<br>\n",
    "M = \"Mid-Size Car\"<br>\n",
    "P = \"Pickup Truck\"<br>\n",
    "S = \"Sports Car\"<br>\n",
    "U = \"SUV\"<br>\n",
    "V = \"Van\"<br>"
   ]
  },
  {
   "cell_type": "markdown",
   "metadata": {},
   "source": [
    "For this variable we can think of dozens of characteristics to make a rainbow - vehicle size, capacity, price category, average speed, fuel economy, costs of ownership, motor features, etc. Which one (or more than one) to pick? The choice depends on the context of the model and what are you trying to predict. The preference should be given to the ones that provide more explanatory power and/or make sense from the interpretation standpoint.\n",
    "\n",
    "Consider another variable:"
   ]
  },
  {
   "cell_type": "markdown",
   "metadata": {},
   "source": [
    "***\n",
    "*Marital Status* <br><br>\n",
    "A = \"Married\" <br>\n",
    "B = \"Single\" <br>\n",
    "C = \"Inferred Married\" <br>\n",
    "D = \"Inferred Single\" <br>"
   ]
  },
  {
   "cell_type": "markdown",
   "metadata": {},
   "source": [
    "If we think about Single and Married as the two ends of the spectrum, then Inferred Single could be between the two ends, closer to Single, while Inferred Married would be between the two ends, closer to Married. That would make sense because Inferred holds certain degree of uncertainty. Thus, the following order would be reasonable:\n",
    "***\n",
    "1 = \"Single\" <br>\n",
    "2 = \"Inferred Single\" <br>\n",
    "3 = \"Inferred Married\" <br>\n",
    "4 = \"Married\""
   ]
  },
  {
   "cell_type": "markdown",
   "metadata": {},
   "source": [
    "In case there are any missing values here, the Unknown category fits exactly in the middle between Single and Married as there is no reason to prefer one end over the other. So the modified scale could look like this:\n",
    "***\n",
    "1 = \"Single\" <br>\n",
    "2 = \"Inferred Single\" <br>\n",
    "3 = \"Unknown\" <br>\n",
    "3 = \"Inferred Married\" <br>\n",
    "4 = \"Married\""
   ]
  },
  {
   "cell_type": "markdown",
   "metadata": {},
   "source": [
    "Another example:\n",
    "***\n",
    "*Occupation* <br><br>\n",
    "1 = \"Professional/Technical\"<br>\n",
    "2 = \"Administration/Managerial\"<br>\n",
    "3 = \"Sales/Service\"<br>\n",
    "4 = \"Clerical/White Collar\"<br>\n",
    "5 = \"Craftsman/Blue Collar\"<br>\n",
    "6 = \"Student\"<br>\n",
    "7 = \"Homemaker\"<br>\n",
    "8 = \"Retired\"<br>\n",
    "9 = \"Farmer\"<br>\n",
    "A = \"Military\"<br>\n",
    "B = \"Religious\"<br>\n",
    "C = \"Self Employed\"<br>\n",
    "D = \"Other\"<br>"
   ]
  },
  {
   "cell_type": "markdown",
   "metadata": {},
   "source": [
    "Finding a rainbow here might be harder, but here are a few ways to do it: we could order occupations by average annual salary, by its prevalence in the geographic area of interest, or by information from some other dataset. That might involve calling a Census API or some other data source, and might be complicated by the fact that these values are not static, but these are still viable solutions."
   ]
  },
  {
   "cell_type": "markdown",
   "metadata": {},
   "source": [
    "## What if there is no natural rainbow?"
   ]
  },
  {
   "cell_type": "markdown",
   "metadata": {},
   "source": [
    "In some situations though we cannot find a logical order for the rainbow because the variable itself is not interpretable. An example could be a black box column made by a third party:\n",
    "***\n",
    "*Financial Cluster of the Household* <br><br>\n",
    "1 = \"Market Watchers\" <br>\n",
    "2 = \"Conservative Wealth\" <br>\n",
    "3 = \"Specific Savers\" <br>\n",
    "4 = \"Tried and True\" <br>\n",
    "5 = \"Trendy Inclinations\" <br>\n",
    "6 = \"Current Consumers\" <br>\n",
    "7 = \"Rural Trust\" <br>\n",
    "8 = \"City Spotlight\" <br>\n",
    "9 = \"Career Conscious\" <br>\n",
    "10 = \"Digital Financiers\" <br>\n",
    "11 = \"Financial Futures\" <br>\n",
    "12 = \"Stable Influentials\" <br>\n",
    "13 = \"Conservatively Rural\""
   ]
  },
  {
   "cell_type": "markdown",
   "metadata": {},
   "source": [
    "In this case we might not have a clear idea how to order categories due to lack of knowledge of what each category entails. What to do with such variables?"
   ]
  },
  {
   "cell_type": "markdown",
   "metadata": {},
   "source": [
    "We recommend creating an artificial rainbow by looking at how each category is related to the target variable. \n",
    "\n",
    "The simplest solution is to place categories in the order of correlation with target variable. \n",
    "So the category with the highest value of correlation with the dependent variable would acquire numeric code 1, and the category with the lowest correlation would acquire numeric code 13. So our rainbow in this case would mean the relationship between the cluster and the target variable. This method would work for both - classification and regression models - as it can be applied to discrete and to continuous target variable."
   ]
  },
  {
   "cell_type": "markdown",
   "metadata": {},
   "source": [
    "Alternatively, you can construct your own rainbows by merely utilizing certain statistical qualities of the categorical variable and the target variable."
   ]
  },
  {
   "cell_type": "markdown",
   "metadata": {},
   "source": [
    "For instance, in case of a binary target variable, and we could look at the proportion of ones given each of the categories. Suppose, among Market Watchers percent of positive targets is 0.67, while for Conservative Wealth it is 0.45. In that case, Market Watchers will be ordered higher than Conservative Wealth (or lower, if the target percent scale is ascending). In other words, this rainbow would reflect the prevalence of positive target inside each category. "
   ]
  },
  {
   "cell_type": "markdown",
   "metadata": {},
   "source": [
    "In case of multiclass classification, we could create rainbows for each class to represent relationship between categories and each class separately."
   ]
  },
  {
   "cell_type": "markdown",
   "metadata": {},
   "source": [
    "In Part I, we introduced you to the Rainbow method. In Part II we provide an empirical example of its application \n",
    "and demonstrate its superiority over One-hot using the real data project developed at MassMutual. In Part III, we provide theoretical justification for the method."
   ]
  },
  {
   "cell_type": "markdown",
   "metadata": {},
   "source": [
    "# The Rainbow Method Part II. Application to a Real Data Science Problem"
   ]
  },
  {
   "cell_type": "markdown",
   "metadata": {},
   "source": [
    "We will illustrate the effectiveness of the rainbow encoding method using the real data science project developed in the Customer Journey domain of [Data Science at MassMutual](datascience.massmutual.com) - a life insurance company with a 170 years of history which takes pride in growing a large team of data scientists, engineers, and technologists to support most of the business decisions."
   ]
  },
  {
   "cell_type": "markdown",
   "metadata": {},
   "source": [
    "## Business Use Case"
   ]
  },
  {
   "cell_type": "markdown",
   "metadata": {},
   "source": [
    "In a nutshell, the data task is a multiclass classification problem that aims to predict one of the five Mindset Segments for each of the prospective customers. "
   ]
  },
  {
   "cell_type": "markdown",
   "metadata": {},
   "source": [
    "<img src=\"img-anna/seg_framework.png\" width=\"600\">"
   ]
  },
  {
   "cell_type": "markdown",
   "metadata": {},
   "source": [
    "The segmentation framework represents five classes that reflect a person's age, financial stability, and attitude towards financial decisions. The predicted segments are then used by MassMutual marketing team in different types of campaigns for targeting and customization. For example, Self-Assured customers would value more independence and autonomy in making decision of buying a life insurance policy whereas Day to Day customers would value having a guidance and thorough explanations of different financial products by a dedicated advisor."
   ]
  },
  {
   "cell_type": "markdown",
   "metadata": {},
   "source": [
    "We have a small set of labeled indivuduals (17.5K persons). The labels are provided by the MassMutual vendor which ran Mindset surveys and designed segment assignment rules. For simplicity, let's assume we know nothing about these rules and take labels as given.\n",
    "\n",
    "Then we attach the columns from our main prospect database to these 17.5K persons. The goal is to learn the best model using these target labels and the available features, and then predict segments for all other (unlabelled) prospective customers. \n",
    "\n",
    "The main database for this problem is provided by [Acxiom](https://www.acxiom.com/) and covers about 300 columns representing rich set of demographic characteristics, composition of the household, income and net worth, financial behavior, and digital savvyness. "
   ]
  },
  {
   "cell_type": "code",
   "execution_count": 4,
   "metadata": {},
   "outputs": [
    {
     "data": {
      "text/plain": [
       "17493"
      ]
     },
     "execution_count": 4,
     "metadata": {},
     "output_type": "execute_result"
    }
   ],
   "source": [
    "#hide\n",
    "\n",
    "size_of_data = int((results['n_train'] + results['n_test'])[0])\n",
    "size_of_data"
   ]
  },
  {
   "cell_type": "markdown",
   "metadata": {},
   "source": [
    "Using Acxiom data and the Mindset Segmentation problem, we will compare the conventional One-hot encoding with the Rainbow method. For this 5-class classification task, we will demonstrate a few standard metrics - Accuracy, Cohen's Kappa, Macro Avg F1 score, Macro Avg AUC ROC.\n",
    "\n",
    "Cohen's Kappa, F1 and AUC ROC are very helpful for an unbalanced multiclass classification problem. Accuracy is not the best metric for such task, and is used merely for interpretation and comparison purposes."
   ]
  },
  {
   "cell_type": "markdown",
   "metadata": {},
   "source": [
    "## Categorical Variables"
   ]
  },
  {
   "cell_type": "markdown",
   "metadata": {},
   "source": [
    "We took all the existing categorical variables in Acxiom database - interval, ordinal, and nominal, and excluded quantitative and binary variables. The idea was to show the pure difference in the model performance between the two types of encoding for the same set of catogorical factors.\n",
    "\n",
    "We then applied a target stratified 4-fold Cross Validation split. All the data processing from this point on is done inside the cross validation loop, i.e. the creation of One-hot features and Rainbow features is learned from each fold train set and applied to each fold validation set. \n",
    "\n",
    "The total set of 111 variables was transformed into **201** Rainbow features and, alternatively, into **2260** One-hot features (with very slight deviations in N in 4 different folds)."
   ]
  },
  {
   "cell_type": "markdown",
   "metadata": {},
   "source": [
    "| Type of variable | N raw | N Rainbow encoded | N One-hot encoded |\n",
    "| :-:| :-: | :-: | :-:|\n",
    "| Interval |64| 64 | 1670 |\n",
    "| Ordinal | 14 | 14 | 178 |\n",
    "| Nominal |33| 123 | 412 |\n",
    "| Total | 111 | **201** | **2260** |"
   ]
  },
  {
   "cell_type": "markdown",
   "metadata": {},
   "source": [
    "While interval and ordinal variables have a straightforward rainbow tranformation - one can notice that 64 interval features turned into 64 rainbows and 14 ordinal features turned into 14 rainbows, the nominal variables tranformation was a bit more involved. Out of 33 nominal variables, for 23 we found a natural rainbow, while for 10 remaining variables we applied correlation ordering and target percent ordering (see Part 1). Since we deal with 5 classes, we made 10 new features for each of these variables.\n",
    "\n",
    "For example, given the name of feature \"Financial_Cluster\" and 5 segment names, we made features\n",
    "\n",
    "- Financial_Cluster_Self-Assured_correlation_rank\n",
    "- Financial_Cluster_Juggler_correlation_rank\n",
    "- Financial_Cluster_Starter_correlation_rank\n",
    "- Financial_Cluster_Day to Day_correlation_rank\n",
    "- Financial_Cluster_Well-Establishes_correlation_rank\n",
    "<br><br> and <Br><br>\n",
    "- Financial_Cluster_Self-Assured_target_percent\n",
    "- Financial_Cluster_Juggler_target_percent\n",
    "- Financial_Cluster_Starter_target_percent\n",
    "- Financial_Cluster_Day to Day_target_percent\n",
    "- Financial_Cluster_Well-Establishes_target_percent\n",
    "\n",
    "In this way, 33 raw nominal variables turned into 123 Rainbows. "
   ]
  },
  {
   "cell_type": "markdown",
   "metadata": {},
   "source": [
    "It is important to note that the search for natural or non-natural Rainbows is highly project and context specific, and is more of an art than a craft. For instance, for a binary classification problem, there probably would have been only one or two Rainbows.\n",
    "\n",
    "We ran all XGBoost models covering this hyperparameter space:\n",
    "```\n",
    "'objective': 'multi:softprob'\n",
    "'eval_metric': 'mlogloss'\n",
    "'num_class': 5\n",
    "'subsample': 0.8\n",
    "'max_depth': [2, 3, 5]\n",
    "'eta': [0.1, 0.3, 0.5]\n",
    "'n_estimators': [50, 100, 200]\n",
    "```\n",
    "\n",
    "All the results below in this article represent cross validation average metrics."
   ]
  },
  {
   "cell_type": "markdown",
   "metadata": {},
   "source": [
    "## Aggregate Results "
   ]
  },
  {
   "cell_type": "markdown",
   "metadata": {},
   "source": [
    "Let us start with overall averages for all runs. Clearly, the average metrics across all models are notably higher for Rainbow encoding."
   ]
  },
  {
   "cell_type": "code",
   "execution_count": 5,
   "metadata": {},
   "outputs": [
    {
     "data": {
      "image/png": "[encoded data removed]",
      "text/plain": [
       "<Figure size 432x288 with 4 Axes>"
      ]
     },
     "metadata": {
      "needs_background": "light"
     },
     "output_type": "display_data"
    }
   ],
   "source": [
    "#hide_input\n",
    "t=results.copy()\n",
    "t=t.rename(columns={'macro avg_f1-score': 'macro-f1',\n",
    "                       'macro avg_roc_auc':'macro-auc',\n",
    "                      })\n",
    "k = t[t['feature_group']=='all'].groupby(['method'])[['accuracy', 'kappa', 'macro-f1', 'macro-auc']].mean().round(4)\n",
    "\n",
    "\n",
    "def make_subplot2(k, metric, x, i, j, colors, ylimits=[]):\n",
    "    y = k[metric]\n",
    "    rects = axs[i, j].bar(x, y, color = colors, width=1, align='center')\n",
    "    axs[i, j].set_ylim(ylimits)\n",
    "    axs[i, j].set_xticks(x)    \n",
    "    axs[i, j].set_xticklabels(['One-hot', 'Rainbow'])\n",
    "    axs[i, j].set_title(metric)\n",
    "    autolabel(rects, i, j, 4)\n",
    "\n",
    "\n",
    "x = np.arange(2)\n",
    "fig, axs = plt.subplots(2, 2)\n",
    "colors = ['lightsalmon', 'turquoise']\n",
    "make_subplot2(k, 'macro-f1', x, 0, 0, colors, [0.27,0.37])\n",
    "make_subplot2(k, 'kappa', x, 0, 1, colors, [0.14, 0.23])\n",
    "make_subplot2(k, 'macro-auc', x, 1, 0, colors, [0.65, 0.75])\n",
    "make_subplot2(k, 'accuracy', x, 1, 1, colors, [0.38, 0.45])\n",
    "fig.tight_layout()\n",
    "plt.show()\n"
   ]
  },
  {
   "cell_type": "markdown",
   "metadata": {},
   "source": [
    "## Hyperparameters"
   ]
  },
  {
   "cell_type": "markdown",
   "metadata": {},
   "source": [
    "The following plots show dynamic of metrics depending on every hyperparameter keeping other hyperparameters constant. These plots also clearly demonstrate the superiority of Rainbow method for every hyperparameter and every metric."
   ]
  },
  {
   "cell_type": "code",
   "execution_count": 6,
   "metadata": {},
   "outputs": [
    {
     "data": {
      "image/png": "[encoded data removed]",
      "text/plain": [
       "<Figure size 504x360 with 4 Axes>"
      ]
     },
     "metadata": {
      "needs_background": "light"
     },
     "output_type": "display_data"
    },
    {
     "data": {
      "image/png": "[encoded data removed]",
      "text/plain": [
       "<Figure size 504x360 with 4 Axes>"
      ]
     },
     "metadata": {
      "needs_background": "light"
     },
     "output_type": "display_data"
    },
    {
     "data": {
      "image/png": "[encoded data removed]",
      "text/plain": [
       "<Figure size 504x360 with 4 Axes>"
      ]
     },
     "metadata": {
      "needs_background": "light"
     },
     "output_type": "display_data"
    }
   ],
   "source": [
    "#hide_input\n",
    "def make_subplot3(t, i, j, feature_group, hyperparameter, hyperparameter_name, metric, \n",
    "                  ylimit_bottom, ylimit_top, xticks_list):\n",
    "    k1 = pd.DataFrame(t[t['feature_group']==feature_group][t['method']=='Rainbow'].groupby(\n",
    "        hyperparameter)[metric].mean().round(3))\n",
    "    k2 = pd.DataFrame(t[t['feature_group']==feature_group][t['method']=='One-hot'].groupby(\n",
    "        hyperparameter)[metric].mean().round(3))\n",
    "    ax = axs[i,j]\n",
    "    k1[metric].plot(ax=ax, label = 'Rainbow', color=colors[1], linewidth=5)\n",
    "    k2[metric].plot(ax=ax, label = 'One-hot', color = colors[0], linewidth=5)\n",
    "    ax.set_ylim(ylimit_bottom, ylimit_top)\n",
    "    ax.set_xticks(xticks_list)\n",
    "    ax.grid()\n",
    "    ax.set_xlabel(hyperparameter_name)\n",
    "    ax.set_title(metric)\n",
    "\n",
    "\n",
    "\n",
    "fig, axs = plt.subplots(2, 2, figsize = (7,5))\n",
    "make_subplot3(t, 0, 0, 'all', 'n_trees', 'Number of Trees', 'macro-f1', 0.29, 0.37, [50, 100 ,200])\n",
    "make_subplot3(t, 0, 1, 'all', 'n_trees', 'Number of Trees', 'kappa', 0.15, 0.23, [50, 100 ,200])\n",
    "make_subplot3(t, 1, 0, 'all', 'n_trees', 'Number of Trees', 'macro-auc', 0.68, 0.72, [50, 100 ,200])\n",
    "make_subplot3(t, 1, 1, 'all', 'n_trees', 'Number of Trees', 'accuracy', 0.39, 0.43, [50, 100 ,200])\n",
    "fig.suptitle('Number of trees', fontsize=15)\n",
    "fig.tight_layout()\n",
    "plt.legend(bbox_to_anchor=(1.1, 2.55), loc='upper left', prop={'size': 12})\n",
    "plt.show()\n",
    "\n",
    "fig, axs = plt.subplots(2, 2, figsize = (7,5))\n",
    "make_subplot3(t, 0, 0, 'all', 'eta', 'Learning Rate', 'macro-f1', 0.29, 0.37, [0.1, 0.3 ,0.5])\n",
    "make_subplot3(t, 0, 1, 'all', 'eta', 'Learning Rate', 'kappa', 0.15, 0.23, [0.1, 0.3 ,0.5])\n",
    "make_subplot3(t, 1, 0, 'all', 'eta', 'Learning Rate', 'macro-auc', 0.68, 0.72, [0.1, 0.3 ,0.5])\n",
    "make_subplot3(t, 1, 1, 'all', 'eta', 'Learning Rate', 'accuracy', 0.39, 0.43, [0.1, 0.3 ,0.5])\n",
    "fig.suptitle('Learning Rate', fontsize=15)\n",
    "fig.tight_layout()\n",
    "plt.legend(bbox_to_anchor=(1.1, 2.55), loc='upper left', prop={'size': 12})\n",
    "plt.show()\n",
    "\n",
    "fig, axs = plt.subplots(2, 2, figsize = (7,5))\n",
    "make_subplot3(t, 0, 0, 'all',  'max_depth', 'Max Depth', 'macro-f1', 0.29, 0.37, [2, 3 ,5])\n",
    "make_subplot3(t, 0, 1, 'all',  'max_depth', 'Max Depth', 'kappa', 0.15, 0.23, [2, 3 ,5])\n",
    "make_subplot3(t, 1, 0, 'all',  'max_depth', 'Max Depth', 'macro-auc', 0.68, 0.72, [2, 3 ,5])\n",
    "make_subplot3(t, 1, 1, 'all',  'max_depth', 'Max Depth', 'accuracy', 0.39, 0.43, [2, 3 ,5])\n",
    "fig.suptitle('Max Depth', fontsize=15)\n",
    "fig.tight_layout()\n",
    "plt.legend(bbox_to_anchor=(1.1, 2.55), loc='upper left', prop={'size': 12})\n",
    "plt.show()\n"
   ]
  },
  {
   "cell_type": "markdown",
   "metadata": {},
   "source": [
    "## Runtime"
   ]
  },
  {
   "cell_type": "markdown",
   "metadata": {},
   "source": [
    "Next, let's compare the runtime for each method.\n",
    "```\n",
    "One-hot: 66.074 s\n",
    "Rainbow:  7.444 s\n",
    " ```\n",
    "Average time to run a single rainbow model is **9 times faster** that of the single One-hot model!\n",
    "So, in addition to a substantial increase in model performance metrics, Rainbow method can also save data scientists huge amount of time."
   ]
  },
  {
   "cell_type": "code",
   "execution_count": 7,
   "metadata": {},
   "outputs": [
    {
     "data": {
      "text/html": [
       "<div>\n",
       "<style scoped>\n",
       "    .dataframe tbody tr th:only-of-type {\n",
       "        vertical-align: middle;\n",
       "    }\n",
       "\n",
       "    .dataframe tbody tr th {\n",
       "        vertical-align: top;\n",
       "    }\n",
       "\n",
       "    .dataframe thead th {\n",
       "        text-align: right;\n",
       "    }\n",
       "</style>\n",
       "<table border=\"1\" class=\"dataframe\">\n",
       "  <thead>\n",
       "    <tr style=\"text-align: right;\">\n",
       "      <th></th>\n",
       "      <th>total_time</th>\n",
       "    </tr>\n",
       "    <tr>\n",
       "      <th>method</th>\n",
       "      <th></th>\n",
       "    </tr>\n",
       "  </thead>\n",
       "  <tbody>\n",
       "    <tr>\n",
       "      <th>One-hot</th>\n",
       "      <td>66.074</td>\n",
       "    </tr>\n",
       "    <tr>\n",
       "      <th>Rainbow</th>\n",
       "      <td>7.444</td>\n",
       "    </tr>\n",
       "  </tbody>\n",
       "</table>\n",
       "</div>"
      ],
      "text/plain": [
       "         total_time\n",
       "method             \n",
       "One-hot      66.074\n",
       "Rainbow       7.444"
      ]
     },
     "execution_count": 7,
     "metadata": {},
     "output_type": "execute_result"
    }
   ],
   "source": [
    "#hide \n",
    "t=results\n",
    "pd.DataFrame(t[t['feature_group']=='all'].groupby(['method'])['total_time'].mean().round(3))"
   ]
  },
  {
   "cell_type": "markdown",
   "metadata": {},
   "source": [
    "## Interval, Ordinal, and Nominal"
   ]
  },
  {
   "cell_type": "markdown",
   "metadata": {},
   "source": [
    "Next, we ran the models that covered the bundles of interval, ordinal, and nominal features separately. Below are the results."
   ]
  },
  {
   "cell_type": "code",
   "execution_count": 9,
   "metadata": {},
   "outputs": [
    {
     "data": {
      "text/html": [
       "<div>\n",
       "<style scoped>\n",
       "    .dataframe tbody tr th:only-of-type {\n",
       "        vertical-align: middle;\n",
       "    }\n",
       "\n",
       "    .dataframe tbody tr th {\n",
       "        vertical-align: top;\n",
       "    }\n",
       "\n",
       "    .dataframe thead th {\n",
       "        text-align: right;\n",
       "    }\n",
       "</style>\n",
       "<table border=\"1\" class=\"dataframe\">\n",
       "  <thead>\n",
       "    <tr style=\"text-align: right;\">\n",
       "      <th></th>\n",
       "      <th>model</th>\n",
       "      <th>max_depth</th>\n",
       "      <th>eta</th>\n",
       "      <th>verbosity</th>\n",
       "      <th>subsample</th>\n",
       "      <th>objective</th>\n",
       "      <th>eval_metric</th>\n",
       "      <th>num_class</th>\n",
       "      <th>fold</th>\n",
       "      <th>n_trees</th>\n",
       "      <th>y_varname</th>\n",
       "      <th>num_X_vars</th>\n",
       "      <th>n_train</th>\n",
       "      <th>n_test</th>\n",
       "      <th>method</th>\n",
       "      <th>feature_group</th>\n",
       "      <th>0_precision</th>\n",
       "      <th>0_recall</th>\n",
       "      <th>0_f1-score</th>\n",
       "      <th>0_support</th>\n",
       "      <th>1_precision</th>\n",
       "      <th>1_recall</th>\n",
       "      <th>1_f1-score</th>\n",
       "      <th>1_support</th>\n",
       "      <th>2_precision</th>\n",
       "      <th>2_recall</th>\n",
       "      <th>2_f1-score</th>\n",
       "      <th>2_support</th>\n",
       "      <th>3_precision</th>\n",
       "      <th>3_recall</th>\n",
       "      <th>3_f1-score</th>\n",
       "      <th>3_support</th>\n",
       "      <th>4_precision</th>\n",
       "      <th>4_recall</th>\n",
       "      <th>4_f1-score</th>\n",
       "      <th>4_support</th>\n",
       "      <th>accuracy</th>\n",
       "      <th>macro avg_precision</th>\n",
       "      <th>macro avg_recall</th>\n",
       "      <th>macro avg_f1-score</th>\n",
       "      <th>macro avg_support</th>\n",
       "      <th>weighted avg_precision</th>\n",
       "      <th>weighted avg_recall</th>\n",
       "      <th>weighted avg_f1-score</th>\n",
       "      <th>weighted avg_support</th>\n",
       "      <th>kappa</th>\n",
       "      <th>macro avg_roc_auc</th>\n",
       "      <th>weighted avg_roc_auc</th>\n",
       "      <th>total_time</th>\n",
       "    </tr>\n",
       "  </thead>\n",
       "  <tbody>\n",
       "    <tr>\n",
       "      <th>0</th>\n",
       "      <td>xgboost</td>\n",
       "      <td>2.0</td>\n",
       "      <td>0.1</td>\n",
       "      <td>0.0</td>\n",
       "      <td>0.8</td>\n",
       "      <td>multi:softprob</td>\n",
       "      <td>mlogloss</td>\n",
       "      <td>5.0</td>\n",
       "      <td>1.0</td>\n",
       "      <td>50.0</td>\n",
       "      <td>label</td>\n",
       "      <td>182.0</td>\n",
       "      <td>13119.0</td>\n",
       "      <td>4374.0</td>\n",
       "      <td>Rainbow</td>\n",
       "      <td>all</td>\n",
       "      <td>0.429</td>\n",
       "      <td>0.006</td>\n",
       "      <td>0.013</td>\n",
       "      <td>465.0</td>\n",
       "      <td>0.283</td>\n",
       "      <td>0.282</td>\n",
       "      <td>0.283</td>\n",
       "      <td>497.0</td>\n",
       "      <td>0.429</td>\n",
       "      <td>0.129</td>\n",
       "      <td>0.199</td>\n",
       "      <td>696.0</td>\n",
       "      <td>0.405</td>\n",
       "      <td>0.662</td>\n",
       "      <td>0.503</td>\n",
       "      <td>1478.0</td>\n",
       "      <td>0.518</td>\n",
       "      <td>0.522</td>\n",
       "      <td>0.520</td>\n",
       "      <td>1238.0</td>\n",
       "      <td>0.425</td>\n",
       "      <td>0.413</td>\n",
       "      <td>0.320</td>\n",
       "      <td>0.303</td>\n",
       "      <td>4374.0</td>\n",
       "      <td>0.430</td>\n",
       "      <td>0.425</td>\n",
       "      <td>0.382</td>\n",
       "      <td>4374.0</td>\n",
       "      <td>0.192</td>\n",
       "      <td>0.713</td>\n",
       "      <td>0.699</td>\n",
       "      <td>1.0</td>\n",
       "    </tr>\n",
       "    <tr>\n",
       "      <th>1</th>\n",
       "      <td>xgboost</td>\n",
       "      <td>2.0</td>\n",
       "      <td>0.1</td>\n",
       "      <td>0.0</td>\n",
       "      <td>0.8</td>\n",
       "      <td>multi:softprob</td>\n",
       "      <td>mlogloss</td>\n",
       "      <td>5.0</td>\n",
       "      <td>2.0</td>\n",
       "      <td>50.0</td>\n",
       "      <td>label</td>\n",
       "      <td>182.0</td>\n",
       "      <td>13120.0</td>\n",
       "      <td>4373.0</td>\n",
       "      <td>Rainbow</td>\n",
       "      <td>all</td>\n",
       "      <td>0.333</td>\n",
       "      <td>0.002</td>\n",
       "      <td>0.004</td>\n",
       "      <td>464.0</td>\n",
       "      <td>0.300</td>\n",
       "      <td>0.261</td>\n",
       "      <td>0.279</td>\n",
       "      <td>498.0</td>\n",
       "      <td>0.368</td>\n",
       "      <td>0.158</td>\n",
       "      <td>0.221</td>\n",
       "      <td>695.0</td>\n",
       "      <td>0.387</td>\n",
       "      <td>0.612</td>\n",
       "      <td>0.474</td>\n",
       "      <td>1478.0</td>\n",
       "      <td>0.506</td>\n",
       "      <td>0.532</td>\n",
       "      <td>0.518</td>\n",
       "      <td>1238.0</td>\n",
       "      <td>0.412</td>\n",
       "      <td>0.379</td>\n",
       "      <td>0.313</td>\n",
       "      <td>0.299</td>\n",
       "      <td>4373.0</td>\n",
       "      <td>0.402</td>\n",
       "      <td>0.412</td>\n",
       "      <td>0.374</td>\n",
       "      <td>4373.0</td>\n",
       "      <td>0.176</td>\n",
       "      <td>0.706</td>\n",
       "      <td>0.689</td>\n",
       "      <td>1.0</td>\n",
       "    </tr>\n",
       "    <tr>\n",
       "      <th>2</th>\n",
       "      <td>xgboost</td>\n",
       "      <td>2.0</td>\n",
       "      <td>0.1</td>\n",
       "      <td>0.0</td>\n",
       "      <td>0.8</td>\n",
       "      <td>multi:softprob</td>\n",
       "      <td>mlogloss</td>\n",
       "      <td>5.0</td>\n",
       "      <td>3.0</td>\n",
       "      <td>50.0</td>\n",
       "      <td>label</td>\n",
       "      <td>182.0</td>\n",
       "      <td>13120.0</td>\n",
       "      <td>4373.0</td>\n",
       "      <td>Rainbow</td>\n",
       "      <td>all</td>\n",
       "      <td>0.333</td>\n",
       "      <td>0.004</td>\n",
       "      <td>0.008</td>\n",
       "      <td>465.0</td>\n",
       "      <td>0.309</td>\n",
       "      <td>0.282</td>\n",
       "      <td>0.295</td>\n",
       "      <td>497.0</td>\n",
       "      <td>0.380</td>\n",
       "      <td>0.129</td>\n",
       "      <td>0.193</td>\n",
       "      <td>695.0</td>\n",
       "      <td>0.389</td>\n",
       "      <td>0.634</td>\n",
       "      <td>0.482</td>\n",
       "      <td>1478.0</td>\n",
       "      <td>0.478</td>\n",
       "      <td>0.489</td>\n",
       "      <td>0.484</td>\n",
       "      <td>1238.0</td>\n",
       "      <td>0.406</td>\n",
       "      <td>0.378</td>\n",
       "      <td>0.308</td>\n",
       "      <td>0.292</td>\n",
       "      <td>4373.0</td>\n",
       "      <td>0.398</td>\n",
       "      <td>0.406</td>\n",
       "      <td>0.365</td>\n",
       "      <td>4373.0</td>\n",
       "      <td>0.165</td>\n",
       "      <td>0.700</td>\n",
       "      <td>0.686</td>\n",
       "      <td>1.0</td>\n",
       "    </tr>\n",
       "    <tr>\n",
       "      <th>3</th>\n",
       "      <td>xgboost</td>\n",
       "      <td>2.0</td>\n",
       "      <td>0.1</td>\n",
       "      <td>0.0</td>\n",
       "      <td>0.8</td>\n",
       "      <td>multi:softprob</td>\n",
       "      <td>mlogloss</td>\n",
       "      <td>5.0</td>\n",
       "      <td>4.0</td>\n",
       "      <td>50.0</td>\n",
       "      <td>label</td>\n",
       "      <td>182.0</td>\n",
       "      <td>13120.0</td>\n",
       "      <td>4373.0</td>\n",
       "      <td>Rainbow</td>\n",
       "      <td>all</td>\n",
       "      <td>0.273</td>\n",
       "      <td>0.006</td>\n",
       "      <td>0.013</td>\n",
       "      <td>465.0</td>\n",
       "      <td>0.282</td>\n",
       "      <td>0.245</td>\n",
       "      <td>0.262</td>\n",
       "      <td>497.0</td>\n",
       "      <td>0.411</td>\n",
       "      <td>0.124</td>\n",
       "      <td>0.190</td>\n",
       "      <td>695.0</td>\n",
       "      <td>0.387</td>\n",
       "      <td>0.622</td>\n",
       "      <td>0.477</td>\n",
       "      <td>1478.0</td>\n",
       "      <td>0.480</td>\n",
       "      <td>0.521</td>\n",
       "      <td>0.500</td>\n",
       "      <td>1238.0</td>\n",
       "      <td>0.406</td>\n",
       "      <td>0.367</td>\n",
       "      <td>0.304</td>\n",
       "      <td>0.288</td>\n",
       "      <td>4373.0</td>\n",
       "      <td>0.393</td>\n",
       "      <td>0.406</td>\n",
       "      <td>0.364</td>\n",
       "      <td>4373.0</td>\n",
       "      <td>0.164</td>\n",
       "      <td>0.707</td>\n",
       "      <td>0.692</td>\n",
       "      <td>1.0</td>\n",
       "    </tr>\n",
       "    <tr>\n",
       "      <th>4</th>\n",
       "      <td>xgboost</td>\n",
       "      <td>2.0</td>\n",
       "      <td>0.1</td>\n",
       "      <td>0.0</td>\n",
       "      <td>0.8</td>\n",
       "      <td>multi:softprob</td>\n",
       "      <td>mlogloss</td>\n",
       "      <td>5.0</td>\n",
       "      <td>1.0</td>\n",
       "      <td>50.0</td>\n",
       "      <td>label</td>\n",
       "      <td>2097.0</td>\n",
       "      <td>13119.0</td>\n",
       "      <td>4374.0</td>\n",
       "      <td>One-hot</td>\n",
       "      <td>all</td>\n",
       "      <td>0.286</td>\n",
       "      <td>0.004</td>\n",
       "      <td>0.008</td>\n",
       "      <td>465.0</td>\n",
       "      <td>0.291</td>\n",
       "      <td>0.119</td>\n",
       "      <td>0.169</td>\n",
       "      <td>497.0</td>\n",
       "      <td>0.415</td>\n",
       "      <td>0.102</td>\n",
       "      <td>0.164</td>\n",
       "      <td>696.0</td>\n",
       "      <td>0.374</td>\n",
       "      <td>0.742</td>\n",
       "      <td>0.497</td>\n",
       "      <td>1478.0</td>\n",
       "      <td>0.516</td>\n",
       "      <td>0.441</td>\n",
       "      <td>0.476</td>\n",
       "      <td>1238.0</td>\n",
       "      <td>0.406</td>\n",
       "      <td>0.376</td>\n",
       "      <td>0.282</td>\n",
       "      <td>0.263</td>\n",
       "      <td>4374.0</td>\n",
       "      <td>0.402</td>\n",
       "      <td>0.406</td>\n",
       "      <td>0.349</td>\n",
       "      <td>4374.0</td>\n",
       "      <td>0.143</td>\n",
       "      <td>0.701</td>\n",
       "      <td>0.688</td>\n",
       "      <td>16.0</td>\n",
       "    </tr>\n",
       "    <tr>\n",
       "      <th>...</th>\n",
       "      <td>...</td>\n",
       "      <td>...</td>\n",
       "      <td>...</td>\n",
       "      <td>...</td>\n",
       "      <td>...</td>\n",
       "      <td>...</td>\n",
       "      <td>...</td>\n",
       "      <td>...</td>\n",
       "      <td>...</td>\n",
       "      <td>...</td>\n",
       "      <td>...</td>\n",
       "      <td>...</td>\n",
       "      <td>...</td>\n",
       "      <td>...</td>\n",
       "      <td>...</td>\n",
       "      <td>...</td>\n",
       "      <td>...</td>\n",
       "      <td>...</td>\n",
       "      <td>...</td>\n",
       "      <td>...</td>\n",
       "      <td>...</td>\n",
       "      <td>...</td>\n",
       "      <td>...</td>\n",
       "      <td>...</td>\n",
       "      <td>...</td>\n",
       "      <td>...</td>\n",
       "      <td>...</td>\n",
       "      <td>...</td>\n",
       "      <td>...</td>\n",
       "      <td>...</td>\n",
       "      <td>...</td>\n",
       "      <td>...</td>\n",
       "      <td>...</td>\n",
       "      <td>...</td>\n",
       "      <td>...</td>\n",
       "      <td>...</td>\n",
       "      <td>...</td>\n",
       "      <td>...</td>\n",
       "      <td>...</td>\n",
       "      <td>...</td>\n",
       "      <td>...</td>\n",
       "      <td>...</td>\n",
       "      <td>...</td>\n",
       "      <td>...</td>\n",
       "      <td>...</td>\n",
       "      <td>...</td>\n",
       "      <td>...</td>\n",
       "      <td>...</td>\n",
       "      <td>...</td>\n",
       "    </tr>\n",
       "    <tr>\n",
       "      <th>859</th>\n",
       "      <td>xgboost</td>\n",
       "      <td>5.0</td>\n",
       "      <td>0.5</td>\n",
       "      <td>0.0</td>\n",
       "      <td>0.8</td>\n",
       "      <td>multi:softprob</td>\n",
       "      <td>mlogloss</td>\n",
       "      <td>5.0</td>\n",
       "      <td>4.0</td>\n",
       "      <td>200.0</td>\n",
       "      <td>label</td>\n",
       "      <td>164.0</td>\n",
       "      <td>13120.0</td>\n",
       "      <td>4373.0</td>\n",
       "      <td>One-hot</td>\n",
       "      <td>ordinal</td>\n",
       "      <td>0.178</td>\n",
       "      <td>0.062</td>\n",
       "      <td>0.092</td>\n",
       "      <td>465.0</td>\n",
       "      <td>0.254</td>\n",
       "      <td>0.181</td>\n",
       "      <td>0.212</td>\n",
       "      <td>497.0</td>\n",
       "      <td>0.200</td>\n",
       "      <td>0.124</td>\n",
       "      <td>0.153</td>\n",
       "      <td>695.0</td>\n",
       "      <td>0.374</td>\n",
       "      <td>0.531</td>\n",
       "      <td>0.439</td>\n",
       "      <td>1478.0</td>\n",
       "      <td>0.385</td>\n",
       "      <td>0.412</td>\n",
       "      <td>0.398</td>\n",
       "      <td>1238.0</td>\n",
       "      <td>0.343</td>\n",
       "      <td>0.278</td>\n",
       "      <td>0.262</td>\n",
       "      <td>0.259</td>\n",
       "      <td>4373.0</td>\n",
       "      <td>0.315</td>\n",
       "      <td>0.343</td>\n",
       "      <td>0.319</td>\n",
       "      <td>4373.0</td>\n",
       "      <td>0.091</td>\n",
       "      <td>0.606</td>\n",
       "      <td>0.597</td>\n",
       "      <td>13.0</td>\n",
       "    </tr>\n",
       "    <tr>\n",
       "      <th>860</th>\n",
       "      <td>xgboost</td>\n",
       "      <td>5.0</td>\n",
       "      <td>0.5</td>\n",
       "      <td>0.0</td>\n",
       "      <td>0.8</td>\n",
       "      <td>multi:softprob</td>\n",
       "      <td>mlogloss</td>\n",
       "      <td>5.0</td>\n",
       "      <td>1.0</td>\n",
       "      <td>200.0</td>\n",
       "      <td>label</td>\n",
       "      <td>321.0</td>\n",
       "      <td>13119.0</td>\n",
       "      <td>4374.0</td>\n",
       "      <td>One-hot</td>\n",
       "      <td>nominal</td>\n",
       "      <td>0.157</td>\n",
       "      <td>0.067</td>\n",
       "      <td>0.094</td>\n",
       "      <td>465.0</td>\n",
       "      <td>0.270</td>\n",
       "      <td>0.229</td>\n",
       "      <td>0.248</td>\n",
       "      <td>497.0</td>\n",
       "      <td>0.297</td>\n",
       "      <td>0.200</td>\n",
       "      <td>0.239</td>\n",
       "      <td>696.0</td>\n",
       "      <td>0.394</td>\n",
       "      <td>0.486</td>\n",
       "      <td>0.435</td>\n",
       "      <td>1478.0</td>\n",
       "      <td>0.411</td>\n",
       "      <td>0.485</td>\n",
       "      <td>0.445</td>\n",
       "      <td>1238.0</td>\n",
       "      <td>0.367</td>\n",
       "      <td>0.306</td>\n",
       "      <td>0.294</td>\n",
       "      <td>0.292</td>\n",
       "      <td>4374.0</td>\n",
       "      <td>0.344</td>\n",
       "      <td>0.367</td>\n",
       "      <td>0.349</td>\n",
       "      <td>4374.0</td>\n",
       "      <td>0.135</td>\n",
       "      <td>0.653</td>\n",
       "      <td>0.640</td>\n",
       "      <td>24.0</td>\n",
       "    </tr>\n",
       "    <tr>\n",
       "      <th>861</th>\n",
       "      <td>xgboost</td>\n",
       "      <td>5.0</td>\n",
       "      <td>0.5</td>\n",
       "      <td>0.0</td>\n",
       "      <td>0.8</td>\n",
       "      <td>multi:softprob</td>\n",
       "      <td>mlogloss</td>\n",
       "      <td>5.0</td>\n",
       "      <td>2.0</td>\n",
       "      <td>200.0</td>\n",
       "      <td>label</td>\n",
       "      <td>318.0</td>\n",
       "      <td>13120.0</td>\n",
       "      <td>4373.0</td>\n",
       "      <td>One-hot</td>\n",
       "      <td>nominal</td>\n",
       "      <td>0.185</td>\n",
       "      <td>0.093</td>\n",
       "      <td>0.123</td>\n",
       "      <td>464.0</td>\n",
       "      <td>0.280</td>\n",
       "      <td>0.245</td>\n",
       "      <td>0.262</td>\n",
       "      <td>498.0</td>\n",
       "      <td>0.262</td>\n",
       "      <td>0.176</td>\n",
       "      <td>0.210</td>\n",
       "      <td>695.0</td>\n",
       "      <td>0.403</td>\n",
       "      <td>0.486</td>\n",
       "      <td>0.441</td>\n",
       "      <td>1478.0</td>\n",
       "      <td>0.416</td>\n",
       "      <td>0.490</td>\n",
       "      <td>0.450</td>\n",
       "      <td>1238.0</td>\n",
       "      <td>0.369</td>\n",
       "      <td>0.309</td>\n",
       "      <td>0.298</td>\n",
       "      <td>0.297</td>\n",
       "      <td>4373.0</td>\n",
       "      <td>0.347</td>\n",
       "      <td>0.369</td>\n",
       "      <td>0.353</td>\n",
       "      <td>4373.0</td>\n",
       "      <td>0.140</td>\n",
       "      <td>0.647</td>\n",
       "      <td>0.634</td>\n",
       "      <td>25.0</td>\n",
       "    </tr>\n",
       "    <tr>\n",
       "      <th>862</th>\n",
       "      <td>xgboost</td>\n",
       "      <td>5.0</td>\n",
       "      <td>0.5</td>\n",
       "      <td>0.0</td>\n",
       "      <td>0.8</td>\n",
       "      <td>multi:softprob</td>\n",
       "      <td>mlogloss</td>\n",
       "      <td>5.0</td>\n",
       "      <td>3.0</td>\n",
       "      <td>200.0</td>\n",
       "      <td>label</td>\n",
       "      <td>326.0</td>\n",
       "      <td>13120.0</td>\n",
       "      <td>4373.0</td>\n",
       "      <td>One-hot</td>\n",
       "      <td>nominal</td>\n",
       "      <td>0.158</td>\n",
       "      <td>0.084</td>\n",
       "      <td>0.110</td>\n",
       "      <td>465.0</td>\n",
       "      <td>0.295</td>\n",
       "      <td>0.266</td>\n",
       "      <td>0.280</td>\n",
       "      <td>497.0</td>\n",
       "      <td>0.252</td>\n",
       "      <td>0.177</td>\n",
       "      <td>0.208</td>\n",
       "      <td>695.0</td>\n",
       "      <td>0.398</td>\n",
       "      <td>0.493</td>\n",
       "      <td>0.440</td>\n",
       "      <td>1478.0</td>\n",
       "      <td>0.420</td>\n",
       "      <td>0.460</td>\n",
       "      <td>0.439</td>\n",
       "      <td>1238.0</td>\n",
       "      <td>0.364</td>\n",
       "      <td>0.304</td>\n",
       "      <td>0.296</td>\n",
       "      <td>0.295</td>\n",
       "      <td>4373.0</td>\n",
       "      <td>0.344</td>\n",
       "      <td>0.364</td>\n",
       "      <td>0.350</td>\n",
       "      <td>4373.0</td>\n",
       "      <td>0.135</td>\n",
       "      <td>0.650</td>\n",
       "      <td>0.636</td>\n",
       "      <td>25.0</td>\n",
       "    </tr>\n",
       "    <tr>\n",
       "      <th>863</th>\n",
       "      <td>xgboost</td>\n",
       "      <td>5.0</td>\n",
       "      <td>0.5</td>\n",
       "      <td>0.0</td>\n",
       "      <td>0.8</td>\n",
       "      <td>multi:softprob</td>\n",
       "      <td>mlogloss</td>\n",
       "      <td>5.0</td>\n",
       "      <td>4.0</td>\n",
       "      <td>200.0</td>\n",
       "      <td>label</td>\n",
       "      <td>325.0</td>\n",
       "      <td>13120.0</td>\n",
       "      <td>4373.0</td>\n",
       "      <td>One-hot</td>\n",
       "      <td>nominal</td>\n",
       "      <td>0.176</td>\n",
       "      <td>0.097</td>\n",
       "      <td>0.125</td>\n",
       "      <td>465.0</td>\n",
       "      <td>0.300</td>\n",
       "      <td>0.241</td>\n",
       "      <td>0.268</td>\n",
       "      <td>497.0</td>\n",
       "      <td>0.274</td>\n",
       "      <td>0.187</td>\n",
       "      <td>0.222</td>\n",
       "      <td>695.0</td>\n",
       "      <td>0.407</td>\n",
       "      <td>0.497</td>\n",
       "      <td>0.447</td>\n",
       "      <td>1478.0</td>\n",
       "      <td>0.407</td>\n",
       "      <td>0.473</td>\n",
       "      <td>0.437</td>\n",
       "      <td>1238.0</td>\n",
       "      <td>0.369</td>\n",
       "      <td>0.313</td>\n",
       "      <td>0.299</td>\n",
       "      <td>0.300</td>\n",
       "      <td>4373.0</td>\n",
       "      <td>0.349</td>\n",
       "      <td>0.369</td>\n",
       "      <td>0.354</td>\n",
       "      <td>4373.0</td>\n",
       "      <td>0.140</td>\n",
       "      <td>0.646</td>\n",
       "      <td>0.633</td>\n",
       "      <td>25.0</td>\n",
       "    </tr>\n",
       "  </tbody>\n",
       "</table>\n",
       "<p>864 rows × 49 columns</p>\n",
       "</div>"
      ],
      "text/plain": [
       "       model  max_depth  eta  verbosity  subsample       objective  \\\n",
       "0    xgboost        2.0  0.1        0.0        0.8  multi:softprob   \n",
       "1    xgboost        2.0  0.1        0.0        0.8  multi:softprob   \n",
       "2    xgboost        2.0  0.1        0.0        0.8  multi:softprob   \n",
       "3    xgboost        2.0  0.1        0.0        0.8  multi:softprob   \n",
       "4    xgboost        2.0  0.1        0.0        0.8  multi:softprob   \n",
       "..       ...        ...  ...        ...        ...             ...   \n",
       "859  xgboost        5.0  0.5        0.0        0.8  multi:softprob   \n",
       "860  xgboost        5.0  0.5        0.0        0.8  multi:softprob   \n",
       "861  xgboost        5.0  0.5        0.0        0.8  multi:softprob   \n",
       "862  xgboost        5.0  0.5        0.0        0.8  multi:softprob   \n",
       "863  xgboost        5.0  0.5        0.0        0.8  multi:softprob   \n",
       "\n",
       "    eval_metric  num_class  fold  n_trees y_varname  num_X_vars  n_train  \\\n",
       "0      mlogloss        5.0   1.0     50.0     label       182.0  13119.0   \n",
       "1      mlogloss        5.0   2.0     50.0     label       182.0  13120.0   \n",
       "2      mlogloss        5.0   3.0     50.0     label       182.0  13120.0   \n",
       "3      mlogloss        5.0   4.0     50.0     label       182.0  13120.0   \n",
       "4      mlogloss        5.0   1.0     50.0     label      2097.0  13119.0   \n",
       "..          ...        ...   ...      ...       ...         ...      ...   \n",
       "859    mlogloss        5.0   4.0    200.0     label       164.0  13120.0   \n",
       "860    mlogloss        5.0   1.0    200.0     label       321.0  13119.0   \n",
       "861    mlogloss        5.0   2.0    200.0     label       318.0  13120.0   \n",
       "862    mlogloss        5.0   3.0    200.0     label       326.0  13120.0   \n",
       "863    mlogloss        5.0   4.0    200.0     label       325.0  13120.0   \n",
       "\n",
       "     n_test   method feature_group  0_precision  0_recall  0_f1-score  \\\n",
       "0    4374.0  Rainbow           all        0.429     0.006       0.013   \n",
       "1    4373.0  Rainbow           all        0.333     0.002       0.004   \n",
       "2    4373.0  Rainbow           all        0.333     0.004       0.008   \n",
       "3    4373.0  Rainbow           all        0.273     0.006       0.013   \n",
       "4    4374.0  One-hot           all        0.286     0.004       0.008   \n",
       "..      ...      ...           ...          ...       ...         ...   \n",
       "859  4373.0  One-hot       ordinal        0.178     0.062       0.092   \n",
       "860  4374.0  One-hot       nominal        0.157     0.067       0.094   \n",
       "861  4373.0  One-hot       nominal        0.185     0.093       0.123   \n",
       "862  4373.0  One-hot       nominal        0.158     0.084       0.110   \n",
       "863  4373.0  One-hot       nominal        0.176     0.097       0.125   \n",
       "\n",
       "     0_support  1_precision  1_recall  1_f1-score  1_support  2_precision  \\\n",
       "0        465.0        0.283     0.282       0.283      497.0        0.429   \n",
       "1        464.0        0.300     0.261       0.279      498.0        0.368   \n",
       "2        465.0        0.309     0.282       0.295      497.0        0.380   \n",
       "3        465.0        0.282     0.245       0.262      497.0        0.411   \n",
       "4        465.0        0.291     0.119       0.169      497.0        0.415   \n",
       "..         ...          ...       ...         ...        ...          ...   \n",
       "859      465.0        0.254     0.181       0.212      497.0        0.200   \n",
       "860      465.0        0.270     0.229       0.248      497.0        0.297   \n",
       "861      464.0        0.280     0.245       0.262      498.0        0.262   \n",
       "862      465.0        0.295     0.266       0.280      497.0        0.252   \n",
       "863      465.0        0.300     0.241       0.268      497.0        0.274   \n",
       "\n",
       "     2_recall  2_f1-score  2_support  3_precision  3_recall  3_f1-score  \\\n",
       "0       0.129       0.199      696.0        0.405     0.662       0.503   \n",
       "1       0.158       0.221      695.0        0.387     0.612       0.474   \n",
       "2       0.129       0.193      695.0        0.389     0.634       0.482   \n",
       "3       0.124       0.190      695.0        0.387     0.622       0.477   \n",
       "4       0.102       0.164      696.0        0.374     0.742       0.497   \n",
       "..        ...         ...        ...          ...       ...         ...   \n",
       "859     0.124       0.153      695.0        0.374     0.531       0.439   \n",
       "860     0.200       0.239      696.0        0.394     0.486       0.435   \n",
       "861     0.176       0.210      695.0        0.403     0.486       0.441   \n",
       "862     0.177       0.208      695.0        0.398     0.493       0.440   \n",
       "863     0.187       0.222      695.0        0.407     0.497       0.447   \n",
       "\n",
       "     3_support  4_precision  4_recall  4_f1-score  4_support  accuracy  \\\n",
       "0       1478.0        0.518     0.522       0.520     1238.0     0.425   \n",
       "1       1478.0        0.506     0.532       0.518     1238.0     0.412   \n",
       "2       1478.0        0.478     0.489       0.484     1238.0     0.406   \n",
       "3       1478.0        0.480     0.521       0.500     1238.0     0.406   \n",
       "4       1478.0        0.516     0.441       0.476     1238.0     0.406   \n",
       "..         ...          ...       ...         ...        ...       ...   \n",
       "859     1478.0        0.385     0.412       0.398     1238.0     0.343   \n",
       "860     1478.0        0.411     0.485       0.445     1238.0     0.367   \n",
       "861     1478.0        0.416     0.490       0.450     1238.0     0.369   \n",
       "862     1478.0        0.420     0.460       0.439     1238.0     0.364   \n",
       "863     1478.0        0.407     0.473       0.437     1238.0     0.369   \n",
       "\n",
       "     macro avg_precision  macro avg_recall  macro avg_f1-score  \\\n",
       "0                  0.413             0.320               0.303   \n",
       "1                  0.379             0.313               0.299   \n",
       "2                  0.378             0.308               0.292   \n",
       "3                  0.367             0.304               0.288   \n",
       "4                  0.376             0.282               0.263   \n",
       "..                   ...               ...                 ...   \n",
       "859                0.278             0.262               0.259   \n",
       "860                0.306             0.294               0.292   \n",
       "861                0.309             0.298               0.297   \n",
       "862                0.304             0.296               0.295   \n",
       "863                0.313             0.299               0.300   \n",
       "\n",
       "     macro avg_support  weighted avg_precision  weighted avg_recall  \\\n",
       "0               4374.0                   0.430                0.425   \n",
       "1               4373.0                   0.402                0.412   \n",
       "2               4373.0                   0.398                0.406   \n",
       "3               4373.0                   0.393                0.406   \n",
       "4               4374.0                   0.402                0.406   \n",
       "..                 ...                     ...                  ...   \n",
       "859             4373.0                   0.315                0.343   \n",
       "860             4374.0                   0.344                0.367   \n",
       "861             4373.0                   0.347                0.369   \n",
       "862             4373.0                   0.344                0.364   \n",
       "863             4373.0                   0.349                0.369   \n",
       "\n",
       "     weighted avg_f1-score  weighted avg_support  kappa  macro avg_roc_auc  \\\n",
       "0                    0.382                4374.0  0.192              0.713   \n",
       "1                    0.374                4373.0  0.176              0.706   \n",
       "2                    0.365                4373.0  0.165              0.700   \n",
       "3                    0.364                4373.0  0.164              0.707   \n",
       "4                    0.349                4374.0  0.143              0.701   \n",
       "..                     ...                   ...    ...                ...   \n",
       "859                  0.319                4373.0  0.091              0.606   \n",
       "860                  0.349                4374.0  0.135              0.653   \n",
       "861                  0.353                4373.0  0.140              0.647   \n",
       "862                  0.350                4373.0  0.135              0.650   \n",
       "863                  0.354                4373.0  0.140              0.646   \n",
       "\n",
       "     weighted avg_roc_auc  total_time  \n",
       "0                   0.699         1.0  \n",
       "1                   0.689         1.0  \n",
       "2                   0.686         1.0  \n",
       "3                   0.692         1.0  \n",
       "4                   0.688        16.0  \n",
       "..                    ...         ...  \n",
       "859                 0.597        13.0  \n",
       "860                 0.640        24.0  \n",
       "861                 0.634        25.0  \n",
       "862                 0.636        25.0  \n",
       "863                 0.633        25.0  \n",
       "\n",
       "[864 rows x 49 columns]"
      ]
     },
     "execution_count": 9,
     "metadata": {},
     "output_type": "execute_result"
    }
   ],
   "source": [
    "t"
   ]
  },
  {
   "cell_type": "code",
   "execution_count": 8,
   "metadata": {},
   "outputs": [
    {
     "ename": "KeyError",
     "evalue": "\"Columns not found: 'macro-auc', 'macro-f1'\"",
     "output_type": "error",
     "traceback": [
      "\u001b[1;31m---------------------------------------------------------------------------\u001b[0m",
      "\u001b[1;31mKeyError\u001b[0m                                  Traceback (most recent call last)",
      "\u001b[1;32m<ipython-input-8-52062e06be91>\u001b[0m in \u001b[0;36m<module>\u001b[1;34m\u001b[0m\n\u001b[0;32m      1\u001b[0m \u001b[1;31m#hide_input\u001b[0m\u001b[1;33m\u001b[0m\u001b[1;33m\u001b[0m\u001b[1;33m\u001b[0m\u001b[0m\n\u001b[1;32m----> 2\u001b[1;33m \u001b[0mu\u001b[0m \u001b[1;33m=\u001b[0m \u001b[0mt\u001b[0m\u001b[1;33m[\u001b[0m\u001b[0mt\u001b[0m\u001b[1;33m[\u001b[0m\u001b[1;34m'feature_group'\u001b[0m\u001b[1;33m]\u001b[0m\u001b[1;33m!=\u001b[0m\u001b[1;34m'all'\u001b[0m\u001b[1;33m]\u001b[0m\u001b[1;33m.\u001b[0m\u001b[0mgroupby\u001b[0m\u001b[1;33m(\u001b[0m\u001b[1;33m[\u001b[0m\u001b[1;34m'feature_group'\u001b[0m\u001b[1;33m,\u001b[0m\u001b[1;34m'method'\u001b[0m\u001b[1;33m]\u001b[0m\u001b[1;33m)\u001b[0m\u001b[1;33m[\u001b[0m\u001b[1;33m[\u001b[0m\u001b[1;34m'macro-f1'\u001b[0m\u001b[1;33m,\u001b[0m \u001b[1;34m'kappa'\u001b[0m\u001b[1;33m,\u001b[0m \u001b[1;34m'macro-auc'\u001b[0m\u001b[1;33m,\u001b[0m \u001b[1;34m'accuracy'\u001b[0m\u001b[1;33m]\u001b[0m\u001b[1;33m]\u001b[0m\u001b[1;33m.\u001b[0m\u001b[0mmean\u001b[0m\u001b[1;33m(\u001b[0m\u001b[1;33m)\u001b[0m\u001b[1;33m.\u001b[0m\u001b[0mround\u001b[0m\u001b[1;33m(\u001b[0m\u001b[1;36m4\u001b[0m\u001b[1;33m)\u001b[0m\u001b[1;33m\u001b[0m\u001b[1;33m\u001b[0m\u001b[0m\n\u001b[0m\u001b[0;32m      3\u001b[0m u = u.reindex([('interval', 'One-hot'), ('interval', 'Rainbow'),  ('ordinal', 'One-hot'), ('ordinal', 'Rainbow'),\n\u001b[0;32m      4\u001b[0m               ('nominal', 'One-hot'), ('nominal', 'Rainbow')])\n\u001b[0;32m      5\u001b[0m \u001b[0mu\u001b[0m\u001b[1;33m.\u001b[0m\u001b[0mindex\u001b[0m\u001b[1;33m.\u001b[0m\u001b[0mset_names\u001b[0m\u001b[1;33m(\u001b[0m\u001b[1;33m[\u001b[0m\u001b[1;34m'feature group'\u001b[0m\u001b[1;33m,\u001b[0m \u001b[1;34m'method'\u001b[0m\u001b[1;33m]\u001b[0m\u001b[1;33m,\u001b[0m \u001b[0minplace\u001b[0m\u001b[1;33m=\u001b[0m\u001b[1;32mTrue\u001b[0m\u001b[1;33m)\u001b[0m\u001b[1;33m\u001b[0m\u001b[1;33m\u001b[0m\u001b[0m\n",
      "\u001b[1;32m~\\anaconda3\\lib\\site-packages\\pandas\\core\\groupby\\generic.py\u001b[0m in \u001b[0;36m__getitem__\u001b[1;34m(self, key)\u001b[0m\n\u001b[0;32m   1648\u001b[0m                 \u001b[0mstacklevel\u001b[0m\u001b[1;33m=\u001b[0m\u001b[1;36m2\u001b[0m\u001b[1;33m,\u001b[0m\u001b[1;33m\u001b[0m\u001b[1;33m\u001b[0m\u001b[0m\n\u001b[0;32m   1649\u001b[0m             )\n\u001b[1;32m-> 1650\u001b[1;33m         \u001b[1;32mreturn\u001b[0m \u001b[0msuper\u001b[0m\u001b[1;33m(\u001b[0m\u001b[1;33m)\u001b[0m\u001b[1;33m.\u001b[0m\u001b[0m__getitem__\u001b[0m\u001b[1;33m(\u001b[0m\u001b[0mkey\u001b[0m\u001b[1;33m)\u001b[0m\u001b[1;33m\u001b[0m\u001b[1;33m\u001b[0m\u001b[0m\n\u001b[0m\u001b[0;32m   1651\u001b[0m \u001b[1;33m\u001b[0m\u001b[0m\n\u001b[0;32m   1652\u001b[0m     \u001b[1;32mdef\u001b[0m \u001b[0m_gotitem\u001b[0m\u001b[1;33m(\u001b[0m\u001b[0mself\u001b[0m\u001b[1;33m,\u001b[0m \u001b[0mkey\u001b[0m\u001b[1;33m,\u001b[0m \u001b[0mndim\u001b[0m\u001b[1;33m:\u001b[0m \u001b[0mint\u001b[0m\u001b[1;33m,\u001b[0m \u001b[0msubset\u001b[0m\u001b[1;33m=\u001b[0m\u001b[1;32mNone\u001b[0m\u001b[1;33m)\u001b[0m\u001b[1;33m:\u001b[0m\u001b[1;33m\u001b[0m\u001b[1;33m\u001b[0m\u001b[0m\n",
      "\u001b[1;32m~\\anaconda3\\lib\\site-packages\\pandas\\core\\base.py\u001b[0m in \u001b[0;36m__getitem__\u001b[1;34m(self, key)\u001b[0m\n\u001b[0;32m    216\u001b[0m             \u001b[1;32mif\u001b[0m \u001b[0mlen\u001b[0m\u001b[1;33m(\u001b[0m\u001b[0mself\u001b[0m\u001b[1;33m.\u001b[0m\u001b[0mobj\u001b[0m\u001b[1;33m.\u001b[0m\u001b[0mcolumns\u001b[0m\u001b[1;33m.\u001b[0m\u001b[0mintersection\u001b[0m\u001b[1;33m(\u001b[0m\u001b[0mkey\u001b[0m\u001b[1;33m)\u001b[0m\u001b[1;33m)\u001b[0m \u001b[1;33m!=\u001b[0m \u001b[0mlen\u001b[0m\u001b[1;33m(\u001b[0m\u001b[0mkey\u001b[0m\u001b[1;33m)\u001b[0m\u001b[1;33m:\u001b[0m\u001b[1;33m\u001b[0m\u001b[1;33m\u001b[0m\u001b[0m\n\u001b[0;32m    217\u001b[0m                 \u001b[0mbad_keys\u001b[0m \u001b[1;33m=\u001b[0m \u001b[0mlist\u001b[0m\u001b[1;33m(\u001b[0m\u001b[0mset\u001b[0m\u001b[1;33m(\u001b[0m\u001b[0mkey\u001b[0m\u001b[1;33m)\u001b[0m\u001b[1;33m.\u001b[0m\u001b[0mdifference\u001b[0m\u001b[1;33m(\u001b[0m\u001b[0mself\u001b[0m\u001b[1;33m.\u001b[0m\u001b[0mobj\u001b[0m\u001b[1;33m.\u001b[0m\u001b[0mcolumns\u001b[0m\u001b[1;33m)\u001b[0m\u001b[1;33m)\u001b[0m\u001b[1;33m\u001b[0m\u001b[1;33m\u001b[0m\u001b[0m\n\u001b[1;32m--> 218\u001b[1;33m                 \u001b[1;32mraise\u001b[0m \u001b[0mKeyError\u001b[0m\u001b[1;33m(\u001b[0m\u001b[1;34mf\"Columns not found: {str(bad_keys)[1:-1]}\"\u001b[0m\u001b[1;33m)\u001b[0m\u001b[1;33m\u001b[0m\u001b[1;33m\u001b[0m\u001b[0m\n\u001b[0m\u001b[0;32m    219\u001b[0m             \u001b[1;32mreturn\u001b[0m \u001b[0mself\u001b[0m\u001b[1;33m.\u001b[0m\u001b[0m_gotitem\u001b[0m\u001b[1;33m(\u001b[0m\u001b[0mlist\u001b[0m\u001b[1;33m(\u001b[0m\u001b[0mkey\u001b[0m\u001b[1;33m)\u001b[0m\u001b[1;33m,\u001b[0m \u001b[0mndim\u001b[0m\u001b[1;33m=\u001b[0m\u001b[1;36m2\u001b[0m\u001b[1;33m)\u001b[0m\u001b[1;33m\u001b[0m\u001b[1;33m\u001b[0m\u001b[0m\n\u001b[0;32m    220\u001b[0m \u001b[1;33m\u001b[0m\u001b[0m\n",
      "\u001b[1;31mKeyError\u001b[0m: \"Columns not found: 'macro-auc', 'macro-f1'\""
     ]
    }
   ],
   "source": [
    "#hide_input\n",
    "u = t[t['feature_group']!='all'].groupby(['feature_group','method'])[['macro-f1', 'kappa', 'macro-auc', 'accuracy']].mean().round(4)\n",
    "u = u.reindex([('interval', 'One-hot'), ('interval', 'Rainbow'),  ('ordinal', 'One-hot'), ('ordinal', 'Rainbow'),\n",
    "              ('nominal', 'One-hot'), ('nominal', 'Rainbow')])\n",
    "u.index.set_names(['feature group', 'method'], inplace=True)\n",
    "\n",
    "u"
   ]
  },
  {
   "cell_type": "markdown",
   "metadata": {},
   "source": [
    "These results demonstrate again that Rainbow is preferred to One-hot. As expected, interval and ordinal features gain the most from Rainbow encoding, while nominal variables - less so."
   ]
  },
  {
   "cell_type": "markdown",
   "metadata": {},
   "source": [
    "## Feature Selection"
   ]
  },
  {
   "cell_type": "markdown",
   "metadata": {},
   "source": [
    "Finally, to make a comparison more fair in terms of dimensionality, we picked top 10, top 50, and top 100 features from each feature set - Rainbow and One-hot. We used feature importance attribute of the XGBoost model and aggregated feature importance scores for 4 cross validation folds on the best hyperparameter set for each encoding type. Below are the results."
   ]
  },
  {
   "cell_type": "code",
   "execution_count": 10,
   "metadata": {},
   "outputs": [
    {
     "data": {
      "text/html": [
       "<div>\n",
       "<style scoped>\n",
       "    .dataframe tbody tr th:only-of-type {\n",
       "        vertical-align: middle;\n",
       "    }\n",
       "\n",
       "    .dataframe tbody tr th {\n",
       "        vertical-align: top;\n",
       "    }\n",
       "\n",
       "    .dataframe thead th {\n",
       "        text-align: right;\n",
       "    }\n",
       "</style>\n",
       "<table border=\"1\" class=\"dataframe\">\n",
       "  <thead>\n",
       "    <tr style=\"text-align: right;\">\n",
       "      <th></th>\n",
       "      <th></th>\n",
       "      <th>macro-f1</th>\n",
       "      <th>kappa</th>\n",
       "      <th>macro-auc</th>\n",
       "      <th>accuracy</th>\n",
       "    </tr>\n",
       "    <tr>\n",
       "      <th>number of features</th>\n",
       "      <th>method</th>\n",
       "      <th></th>\n",
       "      <th></th>\n",
       "      <th></th>\n",
       "      <th></th>\n",
       "    </tr>\n",
       "  </thead>\n",
       "  <tbody>\n",
       "    <tr>\n",
       "      <th rowspan=\"2\" valign=\"top\">10</th>\n",
       "      <th>One-hot</th>\n",
       "      <td>0.2685</td>\n",
       "      <td>0.1505</td>\n",
       "      <td>0.6778</td>\n",
       "      <td>0.3945</td>\n",
       "    </tr>\n",
       "    <tr>\n",
       "      <th>Rainbow</th>\n",
       "      <td>0.3273</td>\n",
       "      <td>0.1898</td>\n",
       "      <td>0.7010</td>\n",
       "      <td>0.4122</td>\n",
       "    </tr>\n",
       "    <tr>\n",
       "      <th rowspan=\"2\" valign=\"top\">50</th>\n",
       "      <th>One-hot</th>\n",
       "      <td>0.3342</td>\n",
       "      <td>0.1975</td>\n",
       "      <td>0.7040</td>\n",
       "      <td>0.4180</td>\n",
       "    </tr>\n",
       "    <tr>\n",
       "      <th>Rainbow</th>\n",
       "      <td>0.3428</td>\n",
       "      <td>0.2070</td>\n",
       "      <td>0.7092</td>\n",
       "      <td>0.4240</td>\n",
       "    </tr>\n",
       "    <tr>\n",
       "      <th rowspan=\"2\" valign=\"top\">100</th>\n",
       "      <th>One-hot</th>\n",
       "      <td>0.3332</td>\n",
       "      <td>0.1993</td>\n",
       "      <td>0.7102</td>\n",
       "      <td>0.4205</td>\n",
       "    </tr>\n",
       "    <tr>\n",
       "      <th>Rainbow</th>\n",
       "      <td>0.3478</td>\n",
       "      <td>0.2105</td>\n",
       "      <td>0.7130</td>\n",
       "      <td>0.4245</td>\n",
       "    </tr>\n",
       "  </tbody>\n",
       "</table>\n",
       "</div>"
      ],
      "text/plain": [
       "                            macro-f1   kappa  macro-auc  accuracy\n",
       "number of features method                                        \n",
       "10                 One-hot    0.2685  0.1505     0.6778    0.3945\n",
       "                   Rainbow    0.3273  0.1898     0.7010    0.4122\n",
       "50                 One-hot    0.3342  0.1975     0.7040    0.4180\n",
       "                   Rainbow    0.3428  0.2070     0.7092    0.4240\n",
       "100                One-hot    0.3332  0.1993     0.7102    0.4205\n",
       "                   Rainbow    0.3478  0.2105     0.7130    0.4245"
      ]
     },
     "execution_count": 10,
     "metadata": {},
     "output_type": "execute_result"
    }
   ],
   "source": [
    "#hide_input\n",
    "\n",
    "w = table1[['macro-f1', 'kappa', 'macro-auc', 'accuracy']].reset_index().replace({'one_hot': 'One-hot', 'rainbow': 'Rainbow'})\n",
    "w = w.set_index(['Num_features', 'method'])\n",
    "w.index.set_names(['number of features', 'method'], inplace=True)\n",
    "w"
   ]
  },
  {
   "cell_type": "markdown",
   "metadata": {},
   "source": [
    "Every single metric is considerably higher for the Rainbow method, especially with the lower number of selected features.\n",
    "As mentioned in Part 1, rainbow encoding with 50 features is even better than One-hot with 100 features as shown by macro-f1, kappa, and accuracy. Also, note the drop from 50 to 10 features in One-hot versus rainbow - macro-f1 looses 0.0657 points with One-hot compared to only 0.0155 points with Rainbow. "
   ]
  },
  {
   "cell_type": "code",
   "execution_count": 11,
   "metadata": {},
   "outputs": [],
   "source": [
    "#hide\n",
    "\n",
    "#import numpy as np\n",
    "#np.log(table1[1::2]).diff().iloc[1]/np.log(table1[::2]).diff().iloc[1]"
   ]
  },
  {
   "cell_type": "markdown",
   "metadata": {},
   "source": [
    "## Conclusion"
   ]
  },
  {
   "cell_type": "markdown",
   "metadata": {},
   "source": [
    "As we illustrated above, the Rainbow method is an elegant and simple way to encode categorical variables, that will significantly reduce data dimensionality without losing any part of valuable signal; that will likely cause substantial improvements in model performance metrics (or, at the very least, will not cause any reductions in metrics); and that will save great amount of time for modelers."
   ]
  },
  {
   "cell_type": "markdown",
   "metadata": {},
   "source": [
    "Finally, we should note that this article just opens the conversation about the Rainbow method, and by no means exhausts the topic. In the potential future investigations, we could explore some other aspects. To name a few: binary and continuous target variables; comparison with other dimensionality reduction methods, such as PCA; missing values and how they fit the Rainbow framework; limits and implications of combining seemingly unrelated features into a single Rainbow. We hope to open the gate for further questions and feedback on this method."
   ]
  },
  {
   "cell_type": "markdown",
   "metadata": {},
   "source": [
    "# The Rainbow Method Part III. Conditional Mathematical Foundation"
   ]
  },
  {
   "cell_type": "markdown",
   "metadata": {},
   "source": [
    "## Framework"
   ]
  },
  {
   "cell_type": "markdown",
   "metadata": {},
   "source": [
    "Aside from reducing number of variables which was our main goal, we would also like to understand why do rainbows produce better results.\n",
    "\n",
    "We wouldn't completely satisfy Einstein here, but base our foundation on assumption that pruning of the trees that maximize unregularized log-loss producing supperior values.  In fact regulariation of trees, pruning of trees and various early stopping rules are all trying to achieve the same goal, which is often summarized in \"avoid overfit\", yet let us examine what that really means in our case by case basis. \n",
    "\n",
    "\n",
    "Imagine you have K categories for each the optimal values to be added to the nodes are 1, 2, ..., K in some order not necessarily random.  If that was the case both on-hot encoding and rainbow method would require K-1 comparisons.  We have a tie.  That would be the case where all categories should be distinquished with different values at the end-nodes, which is rarely the case. \n",
    "\n",
    "To make things simple lets now assume we have 4 features and the optimal values at the end nodes are 1, 1.01, 2, 2.01  Assume further that $\\epsilon$ 0.01 is low enough so that the first and second pair of of categories should not be distinguished (or the nodes that distinguished should be pruned).  \n",
    "\n",
    "That is the whole definition of \"avoid overfit\", the point here is that at some point signal to uncertainty ratio is to low to make a distinction and that is why xgboost has at least 7 hyperparameters that should help in not distinquishing these pairs: max_depth, gamma, min_child_weight, lambda, alpha, min_split_loss, max_leaves\n",
    "\n",
    "Definitions of these hyperparameters can be found here https://xgboost.readthedocs.io/en/latest/parameter.html\n",
    "\n",
    "Now to explaination how each one of these would prevent between split of first and second categories:"
   ]
  },
  {
   "cell_type": "markdown",
   "metadata": {},
   "source": [
    "## Hyperparameters that help to avoid overfit."
   ]
  },
  {
   "cell_type": "markdown",
   "metadata": {},
   "source": [
    "Taking the above 1, 1.01, 2, 2.01 example let us look at how each of these 7 hyp\n",
    "\n",
    "1. max_depth: disallows too many splits so that on each split only best splits would be chosen, so given your max_depth<K-2, you would not get to split the first and second category into different branches (those a next tree might).\n",
    "\n",
    "2. gamma, if this one is $<0.01$, it would not split as the difference is smaller than gamma.\n",
    "\n",
    "3. min_child_weight, if each category has less children that min_child_weight it would not split down to one category,\n",
    "\n",
    "4. lambda: these will help not assign the tree that does split a very small weight\n",
    "\n",
    "5. alpha: similar as lambda\n",
    "\n",
    "6. min_split_loss: similar to gamma except it would truncate later\n",
    "\n",
    "7. max_leaves: similar to max_depth"
   ]
  },
  {
   "cell_type": "markdown",
   "metadata": {},
   "source": [
    "## Mathematical analysis: How exactly does rainbow help?\n",
    "\n",
    "Below we would see that rainbow always outperforms one-hot in best, average and worst case!  The discussion below applies to any tree based algorithm that relies only on order of values which include: xgboost or any gradient boosted trees or any random forest.\n",
    "\n",
    "We first demonstrate with a simple example from above first before proceeding with full generality and simulation.\n",
    "\n"
   ]
  },
  {
   "cell_type": "markdown",
   "metadata": {},
   "source": [
    "### Simple Example\n",
    "\n",
    "The example above can be encoded as 4 categories that need to be split into two groups 1 and 2 (according to their values).   The number of splits would depend on the order in which these categories appear\n",
    "\n",
    "For rainbow orders:\n",
    "\n",
    "* 1,1,2,2 and 2,2,1,1 the number of splits would be 1; \n",
    "\n",
    "* 1,2,2,1 and 2,1,1,2 the number of splits would require 2 \n",
    "\n",
    "* and 1,2,1,2 and 2,1,2,1, the number of splits would require 3\n",
    "\n",
    "One-hot would be similar except it would be the order in which the one-hot split happens:\n",
    "\n",
    "* 1,1,2,2 and 2,2,1,1 the number of splits would be 2; \n",
    "\n",
    "* and 1,2,2,1 and 2,1,1,2 and 1,2,1,2 and 2,1,2,1 the number of splits would be 3\n",
    "\n",
    "Note that these are not the same orders so we cannot say that rainbow better in each case as order at the top (in which categories appear in rainbow) is not the same order at the bottom (in which categories get split by one-hot). However we see that on average rainbow is better as it gives best case 1, average 2, worst case 3; while one hot gives best case 2, average $\\frac 83$ and worst 3.  In fact we would see that this is true in general."
   ]
  },
  {
   "cell_type": "markdown",
   "metadata": {},
   "source": [
    "### General Case: Random rainbow vs one-hot\n",
    "\n",
    "Assume we have $K$ categories that optimally would need to be split into groups of size $G_1,G_2,...,G_g$. Since our rainbow is random, the K categories would appear in random order, however for the purposes of computation only their corresponding group would matter and this is the order that we would always talk about when dealing with rainbow.\n",
    "\n",
    "For one-hot the order that would matter is the one in which one-hot splits are made and this is also chosen at random.  This is the order that we would always refer to when talking about one-hot.  \n",
    "\n",
    "While the orders that matter for rainbow and one-hot are not the same it helps to couple them to make comparisons.\n",
    "\n",
    "Time to compute best, average and worst case as the randomness in ranbow is similar to which one-hot variables get chosen first and this remains interesting to compare.\n"
   ]
  },
  {
   "cell_type": "markdown",
   "metadata": {},
   "source": [
    "#### Best case: One-hot\n",
    "\n",
    "In best case one-hot would require $K - G_{max}$ splits, where $G_{max} = max_i G_i$ is the maximum of $G_i$. The best case $K - G_{max}$ is obtained when each group except the largest one gets one split per category and the remaining largest group has the same answer so doesn't require any additional splits.  To prove that one cannot do better observe that if we do not make a split for two categories in distinct groups than there is no way to distinguish the values in these two categories.\n",
    "\n",
    "#### Best case: Random Rainbow\n",
    "\n",
    "In best case one-hot would rainbow would require $g-1$ which happens when groups are together and it simply splits at $g-1$ points to separate $g$ groups.  One cannot do better as if there is no split in between two groups there is no way to distinquish them.\n",
    "\n",
    "Clearly  $$K - G_{max}=(\\sum_{i} G_i)-G_{max} \\geq (\\sum_{i}) 1 - 1 = g-1$$ and hence rainbow is better in best case."
   ]
  },
  {
   "cell_type": "markdown",
   "metadata": {},
   "source": [
    ">Note: From the same logic as presented in best case follows that:\n",
    "> 1. the number of splits that one-hot would need is the number $N$ of categories that are chosen before remaining ones are in one group.\n",
    "> 2. the number of splits that rainbow need would always be $D$, of consequitive pairs in rainbow order that are in distinct groups.\n"
   ]
  },
  {
   "cell_type": "markdown",
   "metadata": {},
   "source": [
    "#### Average Case: One-hot\n",
    "\n",
    "For same reason as best-case the one-hot average would be the expected number $N$ of categories until the remaining ones are all in one group.\n",
    "\n",
    "It is easiest to compute probability that $N = K-R$ for $R$ ranging from $1$ to $K$.\n",
    "\n",
    "\\begin{align}\n",
    "\\mathbb P[R \\geq j] &= \\frac{\\sum_i \\frac{G_i!}{(G_i-j)!}} {\\frac{K!}{(K-j)!}} \\\\\n",
    "\\end{align}\n",
    "\n",
    "\\begin{align}\n",
    "\\mathbb E[N] &= K- \\sum_{j=1}^K \\frac{\\sum_i \\frac{G_i!}{(G_i-j)!}} {\\frac{K!}{(K-j)!}} = (K-1) - \\sum_{j=2}^K \\frac{\\sum_i \\frac{G_i!}{(G_i-j)!}} {\\frac{K!}{(K-j)!}}\\\\\n",
    "\\end{align}\n"
   ]
  },
  {
   "cell_type": "markdown",
   "metadata": {},
   "source": [
    "#### Average Case: Rainbow \n",
    "\n",
    "For rainbow the average case is $\\mathbb E[D]$ where $D$ is number of consequitive pairs in rainbow order that are in distinct groups.\n",
    "\n",
    "\\begin{align}\n",
    "\\mathbb E[D] &= (K - 1) * (1-\\frac{ \\sum_i G_i*(G_i-1)} {K(K-1)}) \\notag \\\\\n",
    "             &= (K-1)-\\frac{ \\sum G_i*(G_i-1)} {K} \\notag\n",
    "\\end{align}\n",
    "\n",
    "An easy way to see that this value is larger, is the stochastic coupling, since both $N$ and $D$ can be obtained as starting from $K$ and subtracting $-1$ for each consequitive pair in the same group; except in case of $N$ all these pairs have to be in string at the end.  Due to this restriction $N$ is always larger."
   ]
  },
  {
   "cell_type": "markdown",
   "metadata": {},
   "source": [
    "#### Worst Case: One-hot\n",
    "\n",
    "Worst case for one-hot is $K-1$ when one goes through all but one category to get to one group remaining.\n",
    "\n",
    "#### Worst Case: Rainbow\n",
    "\n",
    "In this case it is $\\min( (K - 1), 2 \\cdot (K-G_{max}))$ as we can only get upto to splits per each category not in the largest group. Clearly this is also less than or equal to one-hot."
   ]
  },
  {
   "cell_type": "markdown",
   "metadata": {},
   "source": [
    "### Simulation\n",
    "\n",
    "We also present a simulation for a few examples."
   ]
  },
  {
   "cell_type": "code",
   "execution_count": 12,
   "metadata": {},
   "outputs": [
    {
     "data": {
      "text/html": [
       "<div>\n",
       "<style scoped>\n",
       "    .dataframe tbody tr th:only-of-type {\n",
       "        vertical-align: middle;\n",
       "    }\n",
       "\n",
       "    .dataframe tbody tr th {\n",
       "        vertical-align: top;\n",
       "    }\n",
       "\n",
       "    .dataframe thead th {\n",
       "        text-align: right;\n",
       "    }\n",
       "</style>\n",
       "<table border=\"1\" class=\"dataframe\">\n",
       "  <thead>\n",
       "    <tr style=\"text-align: right;\">\n",
       "      <th></th>\n",
       "      <th>12</th>\n",
       "      <th>112</th>\n",
       "      <th>1112</th>\n",
       "      <th>1122</th>\n",
       "      <th>11112</th>\n",
       "      <th>11122</th>\n",
       "      <th>111222</th>\n",
       "      <th>11123</th>\n",
       "      <th>11223</th>\n",
       "      <th>112233</th>\n",
       "      <th>11223344</th>\n",
       "      <th>111222333</th>\n",
       "      <th>1111122233</th>\n",
       "      <th>1111111122</th>\n",
       "      <th>1111111123</th>\n",
       "    </tr>\n",
       "  </thead>\n",
       "  <tbody>\n",
       "    <tr>\n",
       "      <th>One-hot Best Case</th>\n",
       "      <td>1.0</td>\n",
       "      <td>1.00</td>\n",
       "      <td>1.00</td>\n",
       "      <td>2.00</td>\n",
       "      <td>1.00</td>\n",
       "      <td>2.0</td>\n",
       "      <td>3.0</td>\n",
       "      <td>2.0</td>\n",
       "      <td>3.00</td>\n",
       "      <td>4.0</td>\n",
       "      <td>6.00</td>\n",
       "      <td>6.00</td>\n",
       "      <td>5.00</td>\n",
       "      <td>2.0</td>\n",
       "      <td>2.00</td>\n",
       "    </tr>\n",
       "    <tr>\n",
       "      <th>Rainbow Best Case</th>\n",
       "      <td>1.0</td>\n",
       "      <td>1.00</td>\n",
       "      <td>1.00</td>\n",
       "      <td>1.00</td>\n",
       "      <td>1.00</td>\n",
       "      <td>1.0</td>\n",
       "      <td>1.0</td>\n",
       "      <td>2.0</td>\n",
       "      <td>2.00</td>\n",
       "      <td>2.0</td>\n",
       "      <td>3.00</td>\n",
       "      <td>2.00</td>\n",
       "      <td>2.00</td>\n",
       "      <td>1.0</td>\n",
       "      <td>2.00</td>\n",
       "    </tr>\n",
       "    <tr>\n",
       "      <th>One-hot Average Case</th>\n",
       "      <td>1.0</td>\n",
       "      <td>1.66</td>\n",
       "      <td>2.26</td>\n",
       "      <td>2.67</td>\n",
       "      <td>2.81</td>\n",
       "      <td>3.5</td>\n",
       "      <td>4.5</td>\n",
       "      <td>3.6</td>\n",
       "      <td>3.80</td>\n",
       "      <td>4.8</td>\n",
       "      <td>6.86</td>\n",
       "      <td>7.71</td>\n",
       "      <td>8.57</td>\n",
       "      <td>7.1</td>\n",
       "      <td>7.14</td>\n",
       "    </tr>\n",
       "    <tr>\n",
       "      <th>Rainbow Average Case</th>\n",
       "      <td>1.0</td>\n",
       "      <td>1.33</td>\n",
       "      <td>1.50</td>\n",
       "      <td>2.00</td>\n",
       "      <td>1.60</td>\n",
       "      <td>2.4</td>\n",
       "      <td>3.0</td>\n",
       "      <td>2.8</td>\n",
       "      <td>3.21</td>\n",
       "      <td>4.0</td>\n",
       "      <td>6.00</td>\n",
       "      <td>5.98</td>\n",
       "      <td>6.20</td>\n",
       "      <td>3.2</td>\n",
       "      <td>3.40</td>\n",
       "    </tr>\n",
       "    <tr>\n",
       "      <th>One-hot Worst Case</th>\n",
       "      <td>1.0</td>\n",
       "      <td>2.00</td>\n",
       "      <td>3.00</td>\n",
       "      <td>3.00</td>\n",
       "      <td>4.00</td>\n",
       "      <td>4.0</td>\n",
       "      <td>5.0</td>\n",
       "      <td>4.0</td>\n",
       "      <td>4.00</td>\n",
       "      <td>5.0</td>\n",
       "      <td>7.00</td>\n",
       "      <td>8.00</td>\n",
       "      <td>9.00</td>\n",
       "      <td>9.0</td>\n",
       "      <td>9.00</td>\n",
       "    </tr>\n",
       "    <tr>\n",
       "      <th>Rainbow Worst Case</th>\n",
       "      <td>1.0</td>\n",
       "      <td>2.00</td>\n",
       "      <td>2.00</td>\n",
       "      <td>3.00</td>\n",
       "      <td>2.00</td>\n",
       "      <td>4.0</td>\n",
       "      <td>5.0</td>\n",
       "      <td>4.0</td>\n",
       "      <td>4.00</td>\n",
       "      <td>5.0</td>\n",
       "      <td>7.00</td>\n",
       "      <td>8.00</td>\n",
       "      <td>9.00</td>\n",
       "      <td>4.0</td>\n",
       "      <td>4.00</td>\n",
       "    </tr>\n",
       "  </tbody>\n",
       "</table>\n",
       "</div>"
      ],
      "text/plain": [
       "                       12   112  1112  1122  11112  11122  111222  11123  \\\n",
       "One-hot Best Case     1.0  1.00  1.00  2.00   1.00    2.0     3.0    2.0   \n",
       "Rainbow Best Case     1.0  1.00  1.00  1.00   1.00    1.0     1.0    2.0   \n",
       "One-hot Average Case  1.0  1.66  2.26  2.67   2.81    3.5     4.5    3.6   \n",
       "Rainbow Average Case  1.0  1.33  1.50  2.00   1.60    2.4     3.0    2.8   \n",
       "One-hot Worst Case    1.0  2.00  3.00  3.00   4.00    4.0     5.0    4.0   \n",
       "Rainbow Worst Case    1.0  2.00  2.00  3.00   2.00    4.0     5.0    4.0   \n",
       "\n",
       "                      11223  112233  11223344  111222333  1111122233  \\\n",
       "One-hot Best Case      3.00     4.0      6.00       6.00        5.00   \n",
       "Rainbow Best Case      2.00     2.0      3.00       2.00        2.00   \n",
       "One-hot Average Case   3.80     4.8      6.86       7.71        8.57   \n",
       "Rainbow Average Case   3.21     4.0      6.00       5.98        6.20   \n",
       "One-hot Worst Case     4.00     5.0      7.00       8.00        9.00   \n",
       "Rainbow Worst Case     4.00     5.0      7.00       8.00        9.00   \n",
       "\n",
       "                      1111111122  1111111123  \n",
       "One-hot Best Case            2.0        2.00  \n",
       "Rainbow Best Case            1.0        2.00  \n",
       "One-hot Average Case         7.1        7.14  \n",
       "Rainbow Average Case         3.2        3.40  \n",
       "One-hot Worst Case           9.0        9.00  \n",
       "Rainbow Worst Case           4.0        4.00  "
      ]
     },
     "execution_count": 12,
     "metadata": {},
     "output_type": "execute_result"
    },
    {
     "data": {
      "image/png": "[encoded data removed]",
      "text/plain": [
       "<Figure size 1152x720 with 1 Axes>"
      ]
     },
     "metadata": {
      "needs_background": "light"
     },
     "output_type": "display_data"
    }
   ],
   "source": [
    "#collapse_input\n",
    "\n",
    "import pandas as pd\n",
    "from collections import Counter\n",
    "import numpy as np\n",
    "\n",
    "s='12,112,1112,1122,11112,11122,111222,11123,11223,112233,11223344,111222333,1111122233,1111111122,1111111123'\n",
    "#s+=','+('1'*10+'2'*10)+','+('1'*20+'2'*20)\n",
    "cc=examples=s.split(',')\n",
    "examples=[list(i) for i in examples]\n",
    "\n",
    "\n",
    "o_best = [len(e)-max(Counter(e).values()) for e in examples]\n",
    "r_best = [len(Counter(e))-1 for e in examples]\n",
    "o_worst = [len(e)-1 for e in examples]\n",
    "r_worst = [min(len(e)-1,2*(len(e)-max(Counter(e).values()))) for e in examples]\n",
    "\n",
    "\n",
    "o_ave = []\n",
    "r_ave = []\n",
    "n_samples = 40000\n",
    "for e in examples:\n",
    "    o_sum = r_sum = 0\n",
    "    for i in range(n_samples):\n",
    "        p = np.random.permutation(e) #[::-1] omiting as same thing but to indicate we count from end for one-how order\n",
    "        o_res = r_res = len(e)-1\n",
    "        for i in range(len(p)-1):\n",
    "            if p[i]==p[i+1]:\n",
    "                r_res -=1\n",
    "        for i in range(len(p)-1):\n",
    "            if p[i]==p[i+1]:\n",
    "                o_res -=1\n",
    "            else:\n",
    "                break\n",
    "        o_sum += o_res/n_samples\n",
    "        r_sum += r_res/n_samples\n",
    "    o_ave += [o_sum]\n",
    "    r_ave += [r_sum]\n",
    "\n",
    "ii = 'o_best,r_best,o_ave,r_ave,o_worst,r_worst'.replace('o_','One-hot ').replace('r_','Rainbow ')\n",
    "ii = ii.replace('ave','Average').replace('best','Best').replace('worst','Worst')\n",
    "ii = ii.split(',')\n",
    "ii = [i+' Case' for i in ii]\n",
    "rainbow_vs_onehot=pd.DataFrame([o_best,r_best,o_ave,r_ave,o_worst,r_worst],columns=cc,index=ii).round(2)\n",
    "rainbow_vs_onehot.T.plot(rot=45,figsize=(16,10))\n",
    "rainbow_vs_onehot"
   ]
  },
  {
   "cell_type": "markdown",
   "metadata": {},
   "source": [
    "### Conclusion\n",
    "\n",
    "As we saw above in all cases even random rainbow wins against one-hot. "
   ]
  },
  {
   "cell_type": "markdown",
   "metadata": {},
   "source": [
    "### Bonus: How many random rainbows do you need to outperform best-case One-hot?\n",
    "\n",
    "Let's ask one last question that does not pose theoretical significance.\n",
    "How many random rainbows would it take to outperform best-case one-hot?\n",
    "\n",
    "Let us call this number of rainbows $R$ and assume it is not too large, then corresponding $D$ can on average be  \n",
    "\\begin{align}\n",
    "\\mathbb E[D] & = (K - 1) * (1-\\frac{ \\sum_i G_i*(G_i-1)} {K(K-1)})^R \\notag\\\\\n",
    "             & \\approx (K-1)- R* \\frac{ \\sum G_i*(G_i-1)} {K} \\tag{4}\n",
    "\\end{align}\n",
    "\n",
    "So from (1) we get that.\n",
    "\n",
    "$$\\mathbb E[D] \\leq K-G_{max}$$\n",
    "if we let $R$ be greater than $\\frac{G_{max}}{G_i}$ for all $i$ or in other words if:\n",
    "$$ R \\geq \\frac{G_{max}}{G_{min}} $$\n",
    "This is of course less than $G_{max}$.  Similar computatoin can also show that it also has to be less than $g$, but then from $g*G_{max} \\leq K$ we can show that $R \\leq \\sqrt{K}$.  In fact with a bit more detailed calculation one can show \n",
    "$R \\lessapprox \\frac {\\sqrt{K}}{2}$ as $K$ gets larger and this actually would imply that $R$ is not too large in the approximation we used above.\n",
    "\n",
    "> Hence we showed that single perfect rainbow outperforms, $K$ One-hot encoding and that $\\frac{\\sqrt{K}}{2}$ random rainbows would outperform $K$ One-hot encodings."
   ]
  },
  {
   "cell_type": "markdown",
   "metadata": {},
   "source": [
    "#  Bibliography and References and Technical Details"
   ]
  },
  {
   "cell_type": "markdown",
   "metadata": {},
   "source": [
    "## References"
   ]
  },
  {
   "cell_type": "markdown",
   "metadata": {},
   "source": [
    "While the topic of One-hot and binary-One-hot encoding has been touched by many authors:\n",
    "\n",
    "* https://towardsdatascience.com/smarter-ways-to-encode-categorical-data-for-machine-learning-part-1-of-3-6dca2f71b159\n",
    "* https://towardsdatascience.com/stop-One-hot-encoding-your-categorical-variables-bbb0fba89809\n",
    "\n",
    "The approach presented here is rarely used in industry or academia, while has shown superior results and by definition creates less features."
   ]
  },
  {
   "cell_type": "markdown",
   "metadata": {},
   "source": []
  },
  {
   "cell_type": "code",
   "execution_count": 13,
   "metadata": {},
   "outputs": [],
   "source": [
    "#hide\n",
    "## Basic Postprocessing\n",
    "\n",
    "# Before proceeding with models, we applied basic feature selection to each feature set:\n",
    "# * Dropped variables with all values missing\n",
    "# * No imputations was done – missingness is handled by XGBoost (see [XGBoost is not black magic](https://towardsdatascience.com/xgboost-is-not-black-magic-56ca013144b4))\n",
    "# * Droped variables with variance being exactly 0\n",
    "# * Dropped perfect duplicates\n",
    "# * Dropped perfect rank duplicates\n",
    "\n",
    "# These procedures reduced our Rainbow feature set and One-hot feauture set to **183** and **2095** respectively.\n",
    "# Thus, we ran 3 max_depth * 3 eta * 3 n_estimators * 4 folds * 2 encoding methods = 216 models. "
   ]
  },
  {
   "cell_type": "code",
   "execution_count": null,
   "metadata": {},
   "outputs": [],
   "source": []
  },
  {
   "cell_type": "code",
   "execution_count": null,
   "metadata": {},
   "outputs": [],
   "source": []
  }
 ],
 "metadata": {
  "kernelspec": {
   "display_name": "Python 3",
   "language": "python",
   "name": "python3"
  },
  "language_info": {
   "codemirror_mode": {
    "name": "ipython",
    "version": 3
   },
   "file_extension": ".py",
   "mimetype": "text/x-python",
   "name": "python",
   "nbconvert_exporter": "python",
   "pygments_lexer": "ipython3",
   "version": "3.8.5"
  },
  "toc": {
   "base_numbering": 1,
   "nav_menu": {},
   "number_sections": true,
   "sideBar": true,
   "skip_h1_title": false,
   "title_cell": "Table of Contents",
   "title_sidebar": "Contents",
   "toc_cell": false,
   "toc_position": {},
   "toc_section_display": true,
   "toc_window_display": false
  }
 },
 "nbformat": 4,
 "nbformat_minor": 4
}
