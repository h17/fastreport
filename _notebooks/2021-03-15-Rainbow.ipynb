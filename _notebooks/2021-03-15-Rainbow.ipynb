{
 "cells": [
  {
   "cell_type": "markdown",
   "metadata": {},
   "source": [
    "# Detecting sounds with Deep Learning\n",
    "> Indentifying Birdcalls with Deep Learning\n",
    "\n",
    "- author: <a href=http://kozistr.tech/about>Hyeongchan Kim</a>, <a href='https://yourdatablog.com/about/'>Dmytro Karabash</a>, <a href='https://yourdatablog.com/about/'>Maxim Korotkov</a>, <a href='http://tonychen.xyz/about/'>Tony Chen</a>\n",
    "- categories: [python, data science, deep learning]\n",
    "- image: images/resnest-architecture.jpg\n",
    "- permalink: /audio/\n",
    "- hide: false"
   ]
  }
 ],
 "metadata": {
  "kernelspec": {
   "display_name": "Python 3",
   "language": "python",
   "name": "python3"
  },
  "language_info": {
   "codemirror_mode": {
    "name": "ipython",
    "version": 3
   },
   "file_extension": ".py",
   "mimetype": "text/x-python",
   "name": "python",
   "nbconvert_exporter": "python",
   "pygments_lexer": "ipython3",
   "version": "3.7.6"
  },
  "toc": {
   "base_numbering": 1,
   "nav_menu": {},
   "number_sections": true,
   "sideBar": true,
   "skip_h1_title": false,
   "title_cell": "Table of Contents",
   "title_sidebar": "Contents",
   "toc_cell": false,
   "toc_position": {},
   "toc_section_display": true,
   "toc_window_display": false
  }
 },
 "nbformat": 4,
 "nbformat_minor": 4
}
