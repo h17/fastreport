{
 "cells": [
  {
   "cell_type": "markdown",
   "metadata": {},
   "source": [
    "# Encoding Categorical Variables: The Rainbow Method\n",
    "> The Benefits of Rejecting One-hot and Finding Rainbows\n",
    "\n",
    "- author: Anna Arakelyan, Dmytro Karabash\n",
    "- categories: [python, data science, classification, encoding]\n",
    "- image: \n",
    "- permalink: \n",
    "- hide: false"
   ]
  },
  {
   "cell_type": "markdown",
   "metadata": {},
   "source": [
    "## Introduction"
   ]
  },
  {
   "cell_type": "markdown",
   "metadata": {},
   "source": [
    "Data encoding is the crucial part of any data science pipeline. No matter what is the final goal or which machine learning algorithm will be used - there is no avoiding of data massaging, cleaning, and encoding. Given that real data sets are rarely as clean and suited for analysis as toy data sets from data science classes, there is a number of decisions you have to make to encode and engineer features in the most appropriate and efficient way.\n",
    "While the encoding of quantitative and binary columns is generally straightforward, the encoding of categorical variables deserves a deeper look. \n",
    "<br><br>\n",
    "One of the most popular encoding methods for categorical variables has been the One-Hot procedure. It generates an indicator variable for every category and, thus, creates a set of K new features, where K is the number of categories.\n",
    "One significant implication of this method is the dimensionality increase. Depending on the magnitude of K, it can have various undesirable technical consequences: substantial raise of computational complexity, loss of degrees of freedom (N-K, where N is the number of samples), multicollinearity, and, ultimately, an overfitted model. Non-technical consequences include unnecessary complication of the model that should be communicated to final users and that contradict the law of parsimony, also known as Occam's razor."
   ]
  },
  {
   "cell_type": "markdown",
   "metadata": {},
   "source": [
    "## What is a Rainbow?"
   ]
  },
  {
   "cell_type": "markdown",
   "metadata": {},
   "source": [
    "Instead of One-Hot, we propose an alternative way to encode categorical variables. Imagine that instead of K features you would make only one. The trick is to treat categorical variables as quantitative and find a certain way to order categories. "
   ]
  },
  {
   "cell_type": "markdown",
   "metadata": {},
   "source": [
    ">Important note here: this method is highly efficient in conjunction with the models that rely on variables as ranks rather than exact values. For example, decision trees, random forest, gradient boosting - these algorithms will output the same result if the variable *Number of Children* is coded as [1, 2, 3, 4, 5, ...] or as [-100, -85, 0, 10, 44, ...] as long as the categories have a correct order, and we use correct interpretation of non-meaningful values.\n",
    "The application of our method for other algorithms such as Linear Regression, Logistic Regression is out of scope of this article. We expect that such way of feature engineering would be still beneficial, but this is a subject of a different investigation."
   ]
  },
  {
   "cell_type": "markdown",
   "metadata": {},
   "source": [
    "The application of our method depends highly on the level of measurement. While **quantitative** variables have a *ratio* scale, i.e. they have a meaningful 0, ordered values, and equal distances between values; **categorical** variables usually have either *interval*, or *ordinal*, or *nominal* scales.\n",
    "Let us illustrate our method for each of these types of categorical variables."
   ]
  },
  {
   "cell_type": "markdown",
   "metadata": {},
   "source": [
    "**Interval** variables have ordered values, equal distances between values, but the value itself is not necessarily meaningful, for example, 0 does not always mean a complete absence of a quality. The common examples of interval variables are Likert scales:\n",
    "<br>\n",
    "***\n",
    "\"How likely is the person to buy a smartphone mobile phone?\" \n",
    "<br>\n",
    "1 = Very Unlikely <br>\n",
    "2 = Somewhat Unlikely<br>\n",
    "3 = Neither Likely, Nor Unlikely<br>\n",
    "4 = Somewhat Likely<br>\n",
    "5 = Very Likely\n",
    "***"
   ]
  },
  {
   "cell_type": "markdown",
   "metadata": {},
   "source": [
    "In a straightforward way, if we simply use the raw values 1 through 5, that will save us dimensionality without losing a single bit of information. Indeed, the algorithm such as *xgboost* will make splits on this scale to introduce a new node any number of times it finds the best, instead of being forced to use the splits predetermined by One-Hot. With a large K, the algorithm would be forced into using big number of predermined splits which might be simply an overfit."
   ]
  },
  {
   "cell_type": "markdown",
   "metadata": {},
   "source": [
    "**Ordinal** variables have ordered values that are meaningless, and the distances between values are also not equal or not even explainable. An example: <br>\n",
    "***\n",
    "\"What is the highest level of Education completed by the person?\"\n",
    "<br>\n",
    "1 = No High School<br>\n",
    "2 = High School <br>\n",
    "3 = Associate Degree <br>\n",
    "4 = Bachelor's Degree <br>\n",
    "5 = Master's Degree <br>\n",
    "6 = Doctoral Degree <br>\n",
    "***"
   ]
  },
  {
   "cell_type": "markdown",
   "metadata": {},
   "source": [
    "Similar to interval variables, ordinal numeric codes can be used in the model without introducing any challenges, as long as the order is correct. In some cases, a variable is intrinsically ordinal, but the given numeric codes are not in the correct order - in these situations we could simply reorder categories and then use this updated variable as a quantitative feature."
   ]
  },
  {
   "cell_type": "markdown",
   "metadata": {},
   "source": [
    "Interval and ordinal categorical variables are probably not raising concerns as they are clearly perfect alternative to One-Hot for tree-based algorithms. The more complicated and non-obvious question is how to treat nominal variables."
   ]
  },
  {
   "cell_type": "markdown",
   "metadata": {},
   "source": [
    "**Nominal** variables have no obvious order between categories, and are almost always encoded with One-Hot method. A nice example of a nominal variable is\n",
    "***\n",
    "\"Color\" <br>\n",
    "(For instance, which color marker a person have chosen in some psychological state)\n",
    "<br>\n",
    "A = Red <br>\n",
    "B = Blue <br>\n",
    "C = Green <br>\n",
    "D = Yellow <br>\n",
    "***"
   ]
  },
  {
   "cell_type": "markdown",
   "metadata": {},
   "source": [
    "From the first glance it seems like we can't convert this variable to a quantitative scale. This is where our proposed method will help! We suggest **finding a rainbow**."
   ]
  },
  {
   "cell_type": "markdown",
   "metadata": {},
   "source": [
    "These seemingly unordered categories acquire a perfect order if we find a certain scale where each category fits into a unique place. With the color, such scale could be the Hue! In other words, the wavelength of the light is the factor the helps us order the colors into a perfect scale - a rainbow! So, following that logic, we would engineer a new feature:\n",
    "***\n",
    "1 = Blue <br>\n",
    "2 = Green<br>\n",
    "3 = Yellow<br>\n",
    "4 = Red<br>\n",
    "***"
   ]
  },
  {
   "cell_type": "markdown",
   "metadata": {},
   "source": [
    "The Hue is not the only way to order the colors. We could think of a few different scales, such as brightness, saturation, color temperature, lightness, etc. We invite you to experiment with a few different \"rainbows\" that might capture different nuances of the categorical quality. <br>Note that by using a rainbow rather than One-Hot we are not losing any of the signal, because, even if the categories are wildly different and each one introduces a substantial gain to the model, the algorithm such as *xgboost* would capture that by making all the needed splits when introducing new tree nodes."
   ]
  },
  {
   "cell_type": "markdown",
   "metadata": {},
   "source": [
    "Lets us show a few other examples of creating rainbows."
   ]
  },
  {
   "cell_type": "markdown",
   "metadata": {},
   "source": [
    "***\n",
    "\"Marital Status\" <br>\n",
    "A = Married <br>\n",
    "B = Single <br>\n",
    "C = Inferred Married <br>\n",
    "D = Inferred Single <br>\n",
    "***"
   ]
  },
  {
   "cell_type": "markdown",
   "metadata": {},
   "source": [
    "If we think about Single and Married as the two ends of the spectrum, then Inferred Single could be between the two, closer to Single while Inferred Married between the two closer to Married. That would make sense because being Inferred holds some degree of uncertainty. Thus, the following order would be reasonable:\n",
    "***\n",
    "1 = Single <br>\n",
    "2 = Inferred Single <br>\n",
    "3 = Inferred Married <br>\n",
    "4 = Married\n",
    "***"
   ]
  },
  {
   "cell_type": "markdown",
   "metadata": {},
   "source": [
    "In case there are any missing values here, the Unknown category fits exactly in the middle between Single and Married as there is no reason to prefer one end over the other. So the modified scale could look like this:\n",
    "***\n",
    "1 = Single <br>\n",
    "2 = Inferred Single <br>\n",
    "3 = Unknown <br>\n",
    "3 = Inferred Married <br>\n",
    "4 = Married\n",
    "***"
   ]
  },
  {
   "cell_type": "markdown",
   "metadata": {},
   "source": [
    "Consider another variable:\n",
    "***\n",
    "\"Occupation\" <br>\n",
    "1 = Professional/Technical<br>\n",
    "2 = Administration/Managerial<br>\n",
    "3 = Sales/Service<br>\n",
    "4 = Clerical/White Collar<br>\n",
    "5 = Craftsman/Blue Collar<br>\n",
    "6 = Student<br>\n",
    "7 = Homemaker<br>\n",
    "8 = Retired<br>\n",
    "9 = Farmer<br>\n",
    "A = Military<br>\n",
    "B = Religious<br>\n",
    "C = Self Employed<br>\n",
    "D = Other<br>"
   ]
  },
  {
   "cell_type": "markdown",
   "metadata": {},
   "source": [
    "Finding a rainbow here might be harder, but here are a few ways to do it - we could order occupations by average annual salary, by its prevalence in the geographic area of interest, or by <font color='red'>Dmytro, add smth</font>. That might involve calling a Census API or some other data source, and might be complicated by the fact that these values are not static, but they are still viable solutions."
   ]
  },
  {
   "cell_type": "markdown",
   "metadata": {},
   "source": [
    "## What if there is no natural rainbow?"
   ]
  },
  {
   "cell_type": "markdown",
   "metadata": {},
   "source": [
    "In some situations though we cannot find a logical order for the rainbow because the variable itself is not interpretable. An example could be a black box column made by a third party:\n",
    "***\n",
    "\"Financial Cluster\" <br>\n",
    "1 = Market Watchers <br>\n",
    "2 = Conservative Wealth <br>\n",
    "3 = Specific Savers <br>\n",
    "4 = Tried and True <br>\n",
    "5 = Trendy Inclinations <br>\n",
    "6 = Current Consumers <br>\n",
    "7 = Rural Trust <br>\n",
    "8 = City Spotlight <br>\n",
    "9 = Career Conscious <br>\n",
    "10 = Digital Financiers <br>\n",
    "11 = Financial Futures <br>\n",
    "12 = Stable Influentials <br>\n",
    "13 = Conservatively Rural\n",
    "***"
   ]
  },
  {
   "cell_type": "markdown",
   "metadata": {},
   "source": [
    "In this case we might not have a clear idea how to order categories due to lack of knowledge of what each category entails. What to do with such variables?"
   ]
  },
  {
   "cell_type": "markdown",
   "metadata": {},
   "source": [
    "We recommend creating an artificial rainbow by looking at how each category is related to the target variable. In case of a binary classification problem we have a binary target variable, and we could construct a rainbow at least two different ways. "
   ]
  },
  {
   "cell_type": "markdown",
   "metadata": {},
   "source": [
    "First way is to place categories in the order of correlation with target variable. So the category with the highest value of correlation with the dependent variable would acquire numeric code 1, and the category with the lowest correlation would acquire numeric code 13. So our rainbow in this case would mean the relationship between the cluster and the target variable."
   ]
  },
  {
   "cell_type": "markdown",
   "metadata": {},
   "source": [
    "Second way is similar to the first one, but instead of correlation, we could look at the percent of target variable taking value of 1 (positive) given each of the categories. Suppose, among Market Watchers percent of positive targets is 0.67, while for Conservative Wealth it is 0.45. In that case, Market Watchers will be ordered higher than Conservative Wealth (or lower, if the target percent scale is ascending). In other words, this rainbow would reflect the prevalence of positive target inside each category. "
   ]
  },
  {
   "cell_type": "markdown",
   "metadata": {},
   "source": [
    "In case of multiclass classification, we could create rainbows for each class to represent relationship between categories and each class separately. In the case of regression and continuous target, we could rely on the correlation method mostly."
   ]
  },
  {
   "cell_type": "markdown",
   "metadata": {},
   "source": [
    "We briefly described the Rainbow method, and below we provide theoretical justification for it and then an empirical application that illustrates its superiority over One-Hot."
   ]
  },
  {
   "cell_type": "markdown",
   "metadata": {},
   "source": [
    "## Theoretical Justification"
   ]
  },
  {
   "cell_type": "markdown",
   "metadata": {},
   "source": [
    "<font color='red'>Dmytro, make this rock!</font>"
   ]
  },
  {
   "cell_type": "markdown",
   "metadata": {},
   "source": [
    "## Application to a Real Data Science Problem"
   ]
  },
  {
   "cell_type": "markdown",
   "metadata": {},
   "source": [
    "We will illustrate the effectiveness of the rainbow encoding method using the real data science project developed in the Customer Journey domain of Data Science group at MassMutual - a life insurance company with a team of over 200 top-notch data scientists, engineers, and technologists."
   ]
  },
  {
   "cell_type": "markdown",
   "metadata": {},
   "source": [
    "### Business Use Case"
   ]
  },
  {
   "cell_type": "markdown",
   "metadata": {},
   "source": [
    "In a nutshell, the data task is a multiclass classification problem that aims to predict one of the five Mindset Segments for each of the prospective customers. "
   ]
  },
  {
   "cell_type": "markdown",
   "metadata": {},
   "source": [
    "| Segment | Description |\n",
    "| :- | :- |\n",
    "| Self-Assured |Confident, in control, and middle-aged, often with families|\n",
    "| Juggler | (>= 35 years old) Younger families, less confident in their finances|\n",
    "| Starter |(< 35 years old) Youngest segment, with lower levels of financial confidence due to lack of experience|\n",
    "| Day to Day | Older, worried, and pessimistic about their finances |\n",
    "| Well-Established | In control, and highly satisfied with financial situation |\n"
   ]
  },
  {
   "cell_type": "markdown",
   "metadata": {},
   "source": [
    "The segmentation framework represents five classes that reflect a person's age, financial stability, and attitude towards financial decisions. The predicted segments are then used by marketers in different types of campaigns for targeting and customization. For example, Self-Assured customers would value more independence and autonomy in making decision of buying a life insurance policy whereas Day to Day customers would value having a guidance and a long and thorough explanations of different financial products by a dedicated advisor."
   ]
  },
  {
   "cell_type": "markdown",
   "metadata": {},
   "source": [
    "The true segment labels come from MassMutual vendors that ran the mindset survey in 2017, 2018, and 2020. The total size of data is 17.5K rows. The main database we use for this problem is provided by Acxiom and covers about 300 columns representing rich set of demographic characteristics, composition of the household, income and net worth, financial behavior, and digital savvyness."
   ]
  },
  {
   "cell_type": "code",
   "execution_count": 17,
   "metadata": {},
   "outputs": [
    {
     "data": {
      "text/plain": [
       "17493"
      ]
     },
     "execution_count": 17,
     "metadata": {},
     "output_type": "execute_result"
    }
   ],
   "source": [
    "## THIS CODE AND OUTPUT WILL BE HIDDEN\n",
    "\n",
    "import pandas as pd \n",
    "pd.set_option('display.max_columns', None)\n",
    "\n",
    "# Add 'rainbow_research.csv' and 'rainbow_research_feature_selection.csv' in the _notebooks folder\n",
    "# Don't push data to repo - they must be ignored in .gitignore\n",
    "t = pd.read_csv('rainbow_research.csv')\n",
    "# Size of data to report above\n",
    "int((t['n_train'] + t['n_test'])[0])"
   ]
  },
  {
   "cell_type": "markdown",
   "metadata": {},
   "source": [
    "Using Acxiom data and the Mindset Segmentation prediction task, we will compare the conventional One-Hot encoding with the Rainbow method. For a task of 5-class classification we will demonstrate the following metrics - accuracy, Cohen's kappa, <font color='red'>and anything else - Dmytro? Do we want many metrics just for the sake of illustration?</font>"
   ]
  },
  {
   "cell_type": "markdown",
   "metadata": {},
   "source": [
    "### All Categorical Variables"
   ]
  },
  {
   "cell_type": "markdown",
   "metadata": {},
   "source": [
    "First of all, we took all existing categorical variables - interval, ordinal, and nominal, and excluded any other variables - quantitative and binary. We would like to compare the model performance using the two types of encoding for the same set of catogorical factors. <br><br>\n",
    "We then applied a target stratified 4-fold Cross Validation split. All the data processing from this point on is done inside the cross validation loop, i.e. the creation of One-Hot features and Rainbow features is learned from each fold train set and applied to each fold validation set. <br> <br>\n",
    "The total set of 111 variables was transformed into **201** Rainbow features and, alternatively, into **2260** One-Hot features (with very slight deviations in N in 4 different folds)."
   ]
  },
  {
   "cell_type": "markdown",
   "metadata": {},
   "source": [
    "| Type of variable | N raw | N Rainbow encoded | N One-Hot encoded |\n",
    "| :-:| :-: | :-: | :-:|\n",
    "| Interval |64| 64 | 1670 |\n",
    "| Ordinal | 14 | 14 | 178 |\n",
    "| Nominal |33| 123 | 412 |\n",
    "| Total | 111 | **201** | **2260** |"
   ]
  },
  {
   "cell_type": "markdown",
   "metadata": {},
   "source": [
    "### About Nominal Variables"
   ]
  },
  {
   "cell_type": "markdown",
   "metadata": {},
   "source": [
    "One can notice that number of raw and Rainbow encoded features is the same (64 and 14), while 33 raw nominal features turned into 123 Rainbow features. That is because interval and ordinal features have a straightforward rainbow tranformation whereas there were two kinds of nominal variables. Out of 33 nominal variables, for 23 we found a natural rainbow, while for 10 variables we applied correlation ordering and target percent ordering. Since we deal with 5 classes, we made 10 new features for each of these variables.\n",
    "For example, given the name of feature \"Financial_Cluster\" and 5 segment names, we made features\n",
    "- Financial_Cluster_Self-Assured_correlation_rank\n",
    "- Financial_Cluster_Juggler_correlation_rank\n",
    "- Financial_Cluster_Starter_correlation_rank\n",
    "- Financial_Cluster_Day to Day_correlation_rank\n",
    "- Financial_Cluster_Well-Establishes_correlation_rank\n",
    "<br><br> and <Br><br>\n",
    "- Financial_Cluster_Self-Assured_target_percent\n",
    "- Financial_Cluster_Juggler_target_percent\n",
    "- Financial_Cluster_Starter_target_percent\n",
    "- Financial_Cluster_Day to Day_target_percent\n",
    "- Financial_Cluster_Well-Establishes_target_percent\n",
    " <br><br>\n",
    "In this way, 33 raw nominal variables turned into 123 Rainbows."
   ]
  },
  {
   "cell_type": "markdown",
   "metadata": {},
   "source": [
    "It is important to note that the search for natural or non-natural Rainbows is highly project and context specific, and is more of an art than a craft. For instance, for a binary classification problem, there probably would have been only one or two Rainbows for each categorical feature given a single target class."
   ]
  },
  {
   "cell_type": "markdown",
   "metadata": {},
   "source": [
    "### Basic Postprocessing"
   ]
  },
  {
   "cell_type": "markdown",
   "metadata": {},
   "source": [
    "Before proceeding with models, we applied basic feature selection to each feature set:\n",
    "* Dropped variables with all values missing\n",
    "* No imputations was done – missingness is handled by XGBoost (see [XGBoost is not black magic](https://towardsdatascience.com/xgboost-is-not-black-magic-56ca013144b4))\n",
    "* Droped variables with variance being exactly 0\n",
    "* Dropped perfect duplicates\n",
    "* Dropped perfect rank duplicates"
   ]
  },
  {
   "cell_type": "markdown",
   "metadata": {},
   "source": [
    "These procedures reduced our Rainbow feature set and One-Hot feauture set to **183** and **2095** respectively."
   ]
  },
  {
   "cell_type": "markdown",
   "metadata": {},
   "source": [
    "### Hyperparameter Space"
   ]
  },
  {
   "cell_type": "markdown",
   "metadata": {},
   "source": [
    "We ran all possible XGBoost multiclass classification models covering this space:\n",
    "```\n",
    "'objective': 'multi:softprob'\n",
    "'eval_metric': 'mlogloss'\n",
    "'num_class': 5\n",
    "'subsample': 0.8\n",
    "'max_depth': [2, 3, 5]\n",
    "'eta': [0.1, 0.3, 0.5]\n",
    "'n_estimators': [50, 100, 200]\n",
    "```"
   ]
  },
  {
   "cell_type": "markdown",
   "metadata": {},
   "source": [
    "Below we report average cross validation metrics for both encoding types."
   ]
  },
  {
   "cell_type": "markdown",
   "metadata": {},
   "source": [
    "### Results"
   ]
  },
  {
   "cell_type": "code",
   "execution_count": 30,
   "metadata": {},
   "outputs": [
    {
     "data": {
      "text/html": [
       "<div>\n",
       "<style scoped>\n",
       "    .dataframe tbody tr th:only-of-type {\n",
       "        vertical-align: middle;\n",
       "    }\n",
       "\n",
       "    .dataframe tbody tr th {\n",
       "        vertical-align: top;\n",
       "    }\n",
       "\n",
       "    .dataframe thead th {\n",
       "        text-align: right;\n",
       "    }\n",
       "</style>\n",
       "<table border=\"1\" class=\"dataframe\">\n",
       "  <thead>\n",
       "    <tr style=\"text-align: right;\">\n",
       "      <th></th>\n",
       "      <th>accuracy</th>\n",
       "      <th>kappa</th>\n",
       "    </tr>\n",
       "    <tr>\n",
       "      <th>transform_parameter</th>\n",
       "      <th></th>\n",
       "      <th></th>\n",
       "    </tr>\n",
       "  </thead>\n",
       "  <tbody>\n",
       "    <tr>\n",
       "      <th>one_hot</th>\n",
       "      <td>0.407</td>\n",
       "      <td>0.174</td>\n",
       "    </tr>\n",
       "    <tr>\n",
       "      <th>rainbow</th>\n",
       "      <td>0.420</td>\n",
       "      <td>0.201</td>\n",
       "    </tr>\n",
       "  </tbody>\n",
       "</table>\n",
       "</div>"
      ],
      "text/plain": [
       "                     accuracy  kappa\n",
       "transform_parameter                 \n",
       "one_hot                 0.407  0.174\n",
       "rainbow                 0.420  0.201"
      ]
     },
     "execution_count": 30,
     "metadata": {},
     "output_type": "execute_result"
    }
   ],
   "source": [
    "## THIS CODE WILL BE HIDDEN, OUTPUT WILL BE SHOWN - probably, as a manual mardown table\n",
    "t[t['feature_group']=='all'].groupby(['transform_parameter'])[['accuracy', 'kappa']].mean().round(3)"
   ]
  },
  {
   "cell_type": "markdown",
   "metadata": {},
   "source": [
    "<font color='red'>Probably, this table should be beautified - index corrected, names capitalized and made better. <br>Suggest this to be a manual markdown table rather than code output. <br>Also - other metrics can be added if needed.</font>"
   ]
  },
  {
   "cell_type": "markdown",
   "metadata": {},
   "source": [
    "Clearly, the average metrics across all models are notably higher for Rainbow encoding."
   ]
  },
  {
   "cell_type": "markdown",
   "metadata": {},
   "source": []
  },
  {
   "cell_type": "markdown",
   "metadata": {},
   "source": []
  },
  {
   "cell_type": "code",
   "execution_count": 107,
   "metadata": {},
   "outputs": [],
   "source": [
    "import matplotlib.pyplot as plt\n",
    "import warnings\n",
    "warnings.filterwarnings(\"ignore\")\n",
    "\n",
    "def make_plot(t, feature_group, hyperparameter, hyperparameter_name, metric, ylimit_bottom, ylimit_top, xticks_list):\n",
    "    k1 = pd.DataFrame(t[t['feature_group']==feature_group][t['transform_parameter']=='rainbow'].groupby(\n",
    "        hyperparameter)[metric].mean().round(3))\n",
    "    k2 = pd.DataFrame(t[t['feature_group']==feature_group][t['transform_parameter']=='one_hot'].groupby(\n",
    "        hyperparameter)[metric].mean().round(3))\n",
    "    fig, ax = plt.subplots(figsize=(5,3))\n",
    "    plt.plot(k1.index, k1[metric], label = 'Rainbow')\n",
    "    plt.plot(k2.index, k2[metric], label = 'One-Hot')\n",
    "    plt.ylim(ylimit_bottom, ylimit_top)\n",
    "    ax.set_xticks(xticks_list)\n",
    "    plt.grid()\n",
    "    plt.legend()\n",
    "    plt.xlabel(hyperparameter_name)\n",
    "    plt.ylabel(metric.capitalize())\n",
    "    plt.title(metric.capitalize())\n",
    "    plt.show()"
   ]
  },
  {
   "cell_type": "code",
   "execution_count": 108,
   "metadata": {},
   "outputs": [
    {
     "data": {
      "image/png": "[encoded data removed]",
      "text/plain": [
       "<Figure size 360x216 with 1 Axes>"
      ]
     },
     "metadata": {
      "needs_background": "light"
     },
     "output_type": "display_data"
    },
    {
     "data": {
      "image/png": "[encoded data removed]",
      "text/plain": [
       "<Figure size 360x216 with 1 Axes>"
      ]
     },
     "metadata": {
      "needs_background": "light"
     },
     "output_type": "display_data"
    }
   ],
   "source": [
    "make_plot(t, 'all', 'n_trees', 'Number of trees', 'kappa', 0.15, 0.21, [50, 100 ,200])\n",
    "make_plot(t, 'all', 'n_trees', 'Number of trees', 'accuracy', 0.39, 0.43, [50, 100 ,200])"
   ]
  },
  {
   "cell_type": "code",
   "execution_count": null,
   "metadata": {},
   "outputs": [],
   "source": []
  }
 ],
 "metadata": {
  "kernelspec": {
   "display_name": "mindset_venv",
   "language": "python",
   "name": "mindset_venv"
  },
  "language_info": {
   "codemirror_mode": {
    "name": "ipython",
    "version": 3
   },
   "file_extension": ".py",
   "mimetype": "text/x-python",
   "name": "python",
   "nbconvert_exporter": "python",
   "pygments_lexer": "ipython3",
   "version": "3.9.1"
  }
 },
 "nbformat": 4,
 "nbformat_minor": 4
}
